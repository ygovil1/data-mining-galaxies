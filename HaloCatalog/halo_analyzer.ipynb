{
 "cells": [
  {
   "cell_type": "code",
   "execution_count": 1,
   "metadata": {
    "collapsed": true
   },
   "outputs": [],
   "source": [
    "# import basic libraries\n",
    "import yt\n",
    "import pickle\n",
    "import numpy as np\n",
    "import matplotlib.pyplot as plt\n",
    "from astropy import units as u\n",
    "\n",
    "# import halo catalogue func\n",
    "from yt.analysis_modules.halo_analysis.api import *"
   ]
  },
  {
   "cell_type": "code",
   "execution_count": 3,
   "metadata": {
    "collapsed": true
   },
   "outputs": [],
   "source": [
    "import tempfile\n",
    "import shutil\n",
    "import os\n",
    "\n",
    "# Create temporary directory for storing files\n",
    "tmpdir = tempfile.mkdtemp()"
   ]
  },
  {
   "cell_type": "code",
   "execution_count": 54,
   "metadata": {
    "scrolled": true
   },
   "outputs": [
    {
     "name": "stderr",
     "output_type": "stream",
     "text": [
      "yt : [INFO     ] 2017-06-29 13:54:45,977 Parameters: current_time              = 158.01757996843\n",
      "yt : [INFO     ] 2017-06-29 13:54:45,979 Parameters: domain_dimensions         = [128 128 128]\n",
      "yt : [INFO     ] 2017-06-29 13:54:45,983 Parameters: domain_left_edge          = [ 0.  0.  0.]\n",
      "yt : [INFO     ] 2017-06-29 13:54:45,986 Parameters: domain_right_edge         = [ 1.  1.  1.]\n",
      "yt : [INFO     ] 2017-06-29 13:54:45,990 Parameters: cosmological_simulation   = 1\n",
      "yt : [INFO     ] 2017-06-29 13:54:45,992 Parameters: current_redshift          = 4.9999999832278\n",
      "yt : [INFO     ] 2017-06-29 13:54:45,994 Parameters: omega_lambda              = 0.712\n",
      "yt : [INFO     ] 2017-06-29 13:54:45,996 Parameters: omega_matter              = 0.288\n",
      "yt : [INFO     ] 2017-06-29 13:54:45,999 Parameters: hubble_constant           = 0.6933\n"
     ]
    }
   ],
   "source": [
    "# load dataset\n",
    "ds = yt.load('~/../../tigress/cen/LG4_2048_40pc/RD0070/redshift0070')"
   ]
  },
  {
   "cell_type": "code",
   "execution_count": 55,
   "metadata": {
    "scrolled": true
   },
   "outputs": [
    {
     "name": "stderr",
     "output_type": "stream",
     "text": [
      "Parsing Hierarchy : 100%|██████████| 44216/44216 [00:03<00:00, 13670.01it/s]\n",
      "yt : [INFO     ] 2017-06-29 13:54:55,232 Gathering a field list (this may take a moment.)\n"
     ]
    },
    {
     "name": "stdout",
     "output_type": "stream",
     "text": [
      "level\t# grids\t       # cells\t     # cells^3\n",
      "----------------------------------------------\n",
      "  0\t   256\t       2097152\t           128\n",
      "  1\t    60\t        547304\t            82\n",
      "  2\t   187\t       2071552\t           128\n",
      "  3\t   898\t       9903616\t           215\n",
      "  4\t  5193\t      55377920\t           382\n",
      "  5\t 11014\t      58419496\t           389\n",
      "  6\t 10277\t      39511880\t           341\n",
      "  7\t  7393\t      20631864\t           275\n",
      "  8\t  4828\t      10668936\t           221\n",
      "  9\t  1558\t       5499888\t           177\n",
      " 10\t  1220\t       5897424\t           181\n",
      " 11\t  1332\t       7614472\t           197\n",
      "----------------------------------------------\n",
      "   \t 44216\t     218241504\n",
      "\n",
      "\n",
      "t = 1.58017580e+02 = 3.75573046e+16 s = 1.19011917e+09 years\n",
      "\n",
      "Smallest Cell:\n",
      "\tWidth: 2.751e-05 Mpc\n",
      "\tWidth: 2.751e+01 pc\n",
      "\tWidth: 5.675e+06 AU\n",
      "\tWidth: 8.489e+19 cm\n"
     ]
    }
   ],
   "source": [
    "ds.print_stats()"
   ]
  },
  {
   "cell_type": "code",
   "execution_count": 17,
   "metadata": {
    "scrolled": true
   },
   "outputs": [
    {
     "data": {
      "text/plain": [
       "[('all', 'creation_time'),\n",
       " ('all', 'dynamical_time'),\n",
       " ('all', 'initial_mass'),\n",
       " ('all', 'metallicity_fraction'),\n",
       " ('all', 'particle_index'),\n",
       " ('all', 'particle_mass'),\n",
       " ('all', 'particle_position_x'),\n",
       " ('all', 'particle_position_y'),\n",
       " ('all', 'particle_position_z'),\n",
       " ('all', 'particle_type'),\n",
       " ('all', 'particle_velocity_x'),\n",
       " ('all', 'particle_velocity_y'),\n",
       " ('all', 'particle_velocity_z'),\n",
       " ('all', 'typeia_fraction'),\n",
       " ('enzo', 'Dark_Matter_Density'),\n",
       " ('enzo', 'Density'),\n",
       " ('enzo', 'Electron_Density'),\n",
       " ('enzo', 'H2II_Density'),\n",
       " ('enzo', 'H2I_Density'),\n",
       " ('enzo', 'HII_Density'),\n",
       " ('enzo', 'HI_Density'),\n",
       " ('enzo', 'HM_Density'),\n",
       " ('enzo', 'HeIII_Density'),\n",
       " ('enzo', 'HeII_Density'),\n",
       " ('enzo', 'HeI_Density'),\n",
       " ('enzo', 'Metal_Density'),\n",
       " ('enzo', 'Temperature'),\n",
       " ('enzo', 'TotalEnergy'),\n",
       " ('enzo', 'x-velocity'),\n",
       " ('enzo', 'y-velocity'),\n",
       " ('enzo', 'z-velocity'),\n",
       " ('io', 'creation_time'),\n",
       " ('io', 'dynamical_time'),\n",
       " ('io', 'initial_mass'),\n",
       " ('io', 'metallicity_fraction'),\n",
       " ('io', 'particle_index'),\n",
       " ('io', 'particle_mass'),\n",
       " ('io', 'particle_position_x'),\n",
       " ('io', 'particle_position_y'),\n",
       " ('io', 'particle_position_z'),\n",
       " ('io', 'particle_type'),\n",
       " ('io', 'particle_velocity_x'),\n",
       " ('io', 'particle_velocity_y'),\n",
       " ('io', 'particle_velocity_z'),\n",
       " ('io', 'typeia_fraction')]"
      ]
     },
     "execution_count": 17,
     "metadata": {},
     "output_type": "execute_result"
    }
   ],
   "source": [
    "ds.field_list"
   ]
  },
  {
   "cell_type": "code",
   "execution_count": 4,
   "metadata": {
    "collapsed": true
   },
   "outputs": [],
   "source": [
    "# specify boundaries of zoom-in box\n",
    "# scaling factor multiplied by info from text file \n",
    "# units in cm\n",
    "scaling = 2.22535525e+25 # scales dataset coords to cm\n",
    "\n",
    "xmin = scaling*0.39319589 * u.cm\n",
    "ymin = scaling*0.42984636 * u.cm\n",
    "zmin = scaling*0.41706725 * u.cm\n",
    "\n",
    "xmax = scaling*0.56298484 * u.cm\n",
    "ymax = scaling*0.55089246 * u.cm\n",
    "zmax = scaling*0.56698254 * u.cm"
   ]
  },
  {
   "cell_type": "code",
   "execution_count": 5,
   "metadata": {
    "scrolled": true
   },
   "outputs": [
    {
     "name": "stderr",
     "output_type": "stream",
     "text": [
      "yt : [INFO     ] 2017-06-29 17:07:14,396 Parameters: current_time              = 3.75573046409e+16\n",
      "yt : [INFO     ] 2017-06-29 17:07:14,411 Parameters: domain_dimensions         = [2 2 2]\n",
      "yt : [INFO     ] 2017-06-29 17:07:14,416 Parameters: domain_left_edge          = [ 0.  0.  0.]\n",
      "yt : [INFO     ] 2017-06-29 17:07:14,423 Parameters: domain_right_edge         = [  2.22535525e+25   2.22535525e+25   2.22535525e+25]\n",
      "yt : [INFO     ] 2017-06-29 17:07:14,429 Parameters: cosmological_simulation   = 1\n",
      "yt : [INFO     ] 2017-06-29 17:07:14,435 Parameters: current_redshift          = 4.99999998323\n",
      "yt : [INFO     ] 2017-06-29 17:07:14,441 Parameters: omega_lambda              = 0.712\n",
      "yt : [INFO     ] 2017-06-29 17:07:14,446 Parameters: omega_matter              = 0.288\n",
      "yt : [INFO     ] 2017-06-29 17:07:14,450 Parameters: hubble_constant           = 0.6933\n"
     ]
    }
   ],
   "source": [
    "# load halo dataset\n",
    "halos_ds = yt.load('./LG4_2048_40pc/rd0070/halo_catalogs/catalog/catalog0070_thres160.0.h5')"
   ]
  },
  {
   "cell_type": "code",
   "execution_count": 6,
   "metadata": {
    "scrolled": false
   },
   "outputs": [
    {
     "name": "stderr",
     "output_type": "stream",
     "text": [
      "yt : [INFO     ] 2017-06-29 17:07:17,244 Allocating for 9.178e+03 particles (index particle type 'all')\n",
      "yt : [INFO     ] 2017-06-29 17:07:17,412 Identified 3.025e+03 octs\n"
     ]
    },
    {
     "data": {
      "text/plain": [
       "[('all', 'particle_identifier'),\n",
       " ('all', 'particle_mass'),\n",
       " ('all', 'particle_position_x'),\n",
       " ('all', 'particle_position_y'),\n",
       " ('all', 'particle_position_z'),\n",
       " ('all', 'virial_radius'),\n",
       " ('halos', 'particle_identifier'),\n",
       " ('halos', 'particle_mass'),\n",
       " ('halos', 'particle_position_x'),\n",
       " ('halos', 'particle_position_y'),\n",
       " ('halos', 'particle_position_z'),\n",
       " ('halos', 'virial_radius')]"
      ]
     },
     "execution_count": 6,
     "metadata": {},
     "output_type": "execute_result"
    }
   ],
   "source": [
    "halos_ds.field_list"
   ]
  },
  {
   "cell_type": "code",
   "execution_count": 49,
   "metadata": {
    "scrolled": true
   },
   "outputs": [
    {
     "data": {
      "text/plain": [
       "[('all', 'mesh_id'),\n",
       " ('all', 'particle_identifier'),\n",
       " ('all', 'particle_mass'),\n",
       " ('all', 'particle_ones'),\n",
       " ('all', 'particle_position'),\n",
       " ('all', 'particle_position_cylindrical_radius'),\n",
       " ('all', 'particle_position_cylindrical_theta'),\n",
       " ('all', 'particle_position_cylindrical_z'),\n",
       " ('all', 'particle_position_relative'),\n",
       " ('all', 'particle_position_relative_x'),\n",
       " ('all', 'particle_position_relative_y'),\n",
       " ('all', 'particle_position_relative_z'),\n",
       " ('all', 'particle_position_spherical_phi'),\n",
       " ('all', 'particle_position_spherical_radius'),\n",
       " ('all', 'particle_position_spherical_theta'),\n",
       " ('all', 'particle_position_x'),\n",
       " ('all', 'particle_position_y'),\n",
       " ('all', 'particle_position_z'),\n",
       " ('all', 'particle_radius'),\n",
       " ('all', 'particle_spherical_position_phi'),\n",
       " ('all', 'particle_spherical_position_radius'),\n",
       " ('all', 'particle_spherical_position_theta'),\n",
       " ('all', 'virial_radius'),\n",
       " ('deposit', 'all_cic'),\n",
       " ('deposit', 'all_count'),\n",
       " ('deposit', 'all_density'),\n",
       " ('deposit', 'all_mass'),\n",
       " ('deposit', 'halos_cic'),\n",
       " ('deposit', 'halos_count'),\n",
       " ('deposit', 'halos_density'),\n",
       " ('deposit', 'halos_mass'),\n",
       " ('gas', 'cell_volume'),\n",
       " ('gas', 'dx'),\n",
       " ('gas', 'dy'),\n",
       " ('gas', 'dz'),\n",
       " ('gas', 'path_element_x'),\n",
       " ('gas', 'path_element_y'),\n",
       " ('gas', 'path_element_z'),\n",
       " ('gas', 'vertex_x'),\n",
       " ('gas', 'vertex_y'),\n",
       " ('gas', 'vertex_z'),\n",
       " ('gas', 'x'),\n",
       " ('gas', 'y'),\n",
       " ('gas', 'z'),\n",
       " ('halos', 'mesh_id'),\n",
       " ('halos', 'particle_identifier'),\n",
       " ('halos', 'particle_mass'),\n",
       " ('halos', 'particle_ones'),\n",
       " ('halos', 'particle_position'),\n",
       " ('halos', 'particle_position_cylindrical_radius'),\n",
       " ('halos', 'particle_position_cylindrical_theta'),\n",
       " ('halos', 'particle_position_cylindrical_z'),\n",
       " ('halos', 'particle_position_relative'),\n",
       " ('halos', 'particle_position_relative_x'),\n",
       " ('halos', 'particle_position_relative_y'),\n",
       " ('halos', 'particle_position_relative_z'),\n",
       " ('halos', 'particle_position_spherical_phi'),\n",
       " ('halos', 'particle_position_spherical_radius'),\n",
       " ('halos', 'particle_position_spherical_theta'),\n",
       " ('halos', 'particle_position_x'),\n",
       " ('halos', 'particle_position_y'),\n",
       " ('halos', 'particle_position_z'),\n",
       " ('halos', 'particle_radius'),\n",
       " ('halos', 'particle_spherical_position_phi'),\n",
       " ('halos', 'particle_spherical_position_radius'),\n",
       " ('halos', 'particle_spherical_position_theta'),\n",
       " ('halos', 'virial_radius'),\n",
       " ('index', 'cell_volume'),\n",
       " ('index', 'cylindrical_r'),\n",
       " ('index', 'cylindrical_radius'),\n",
       " ('index', 'cylindrical_theta'),\n",
       " ('index', 'cylindrical_z'),\n",
       " ('index', 'disk_angle'),\n",
       " ('index', 'dx'),\n",
       " ('index', 'dy'),\n",
       " ('index', 'dz'),\n",
       " ('index', 'grid_indices'),\n",
       " ('index', 'grid_level'),\n",
       " ('index', 'height'),\n",
       " ('index', 'morton_index'),\n",
       " ('index', 'ones'),\n",
       " ('index', 'ones_over_dx'),\n",
       " ('index', 'path_element_x'),\n",
       " ('index', 'path_element_y'),\n",
       " ('index', 'path_element_z'),\n",
       " ('index', 'radius'),\n",
       " ('index', 'spherical_phi'),\n",
       " ('index', 'spherical_r'),\n",
       " ('index', 'spherical_radius'),\n",
       " ('index', 'spherical_theta'),\n",
       " ('index', 'vertex_x'),\n",
       " ('index', 'vertex_y'),\n",
       " ('index', 'vertex_z'),\n",
       " ('index', 'virial_radius_fraction'),\n",
       " ('index', 'x'),\n",
       " ('index', 'y'),\n",
       " ('index', 'z'),\n",
       " ('index', 'zeros')]"
      ]
     },
     "execution_count": 49,
     "metadata": {},
     "output_type": "execute_result"
    }
   ],
   "source": [
    "halos_ds.derived_field_list"
   ]
  },
  {
   "cell_type": "code",
   "execution_count": 7,
   "metadata": {},
   "outputs": [],
   "source": [
    "# Instantiate a catalog using those two paramter files\n",
    "hc = HaloCatalog(halos_ds=halos_ds, output_dir=os.path.join(tmpdir, 'halo_catalog'))\n",
    "hc.load()"
   ]
  },
  {
   "cell_type": "markdown",
   "metadata": {
    "scrolled": true
   },
   "source": [
    "# create projection plot\n",
    "p = yt.ProjectionPlot(sp, \"x\", \"Dark_Matter_Density\", width=(1.5, 'Mpc'))\n",
    "p.set_zlim(field=\"Dark_Matter_Density\", zmin=1e23, zmax=1e27)\n",
    "#p.annotate_halos(hc, factor = \"particle_mass\")\n",
    "p.annotate_halos(hc)\n",
    "p.display()"
   ]
  },
  {
   "cell_type": "code",
   "execution_count": 133,
   "metadata": {
    "collapsed": true
   },
   "outputs": [],
   "source": [
    "hc.catalog.sort(key= lambda a : a['virial_radius'].to_ndarray())"
   ]
  },
  {
   "cell_type": "code",
   "execution_count": 8,
   "metadata": {
    "collapsed": true
   },
   "outputs": [],
   "source": [
    "satellite = []\n",
    "nonsatellite = []"
   ]
  },
  {
   "cell_type": "code",
   "execution_count": 70,
   "metadata": {
    "collapsed": true
   },
   "outputs": [],
   "source": [
    "for halo1 in hc.halo_list:\n",
    "    # find first index\n",
    "    index1 = halo1.quantities.get('particle_identifier')\n",
    "    \n",
    "    # create bool to check if this halo isn't satellite\n",
    "    isSatellite = False\n",
    "    \n",
    "    # find parameters of halo1\n",
    "    x1 = halo1.quantities.get('particle_position_x') * u.cm\n",
    "    y1 = halo1.quantities.get('particle_position_y') * u.cm\n",
    "    z1 = halo1.quantities.get('particle_position_z') * u.cm\n",
    "    radius1 = halo1.quantities.get('virial_radius') * u.cm\n",
    "    \n",
    "    # loop through second halo\n",
    "    for halo2 in hc.halo_list:\n",
    "        # find second index\n",
    "        index2 = halo1.quantities.get('particle_identifier')\n",
    "        \n",
    "        if index2 <= index1:\n",
    "            continue\n",
    "        \n",
    "        # find parameters of halo2\n",
    "        x2 = halo2.quantities.get('particle_position_x') * u.cm\n",
    "        y2 = halo2.quantities.get('particle_position_y') * u.cm\n",
    "        z2 = halo2.quantities.get('particle_position_z') * u.cm\n",
    "        radius2 = halo2.quantities.get('virial_radius') * u.cm\n",
    "        \n",
    "        # calculate dist between halo centers\n",
    "        xdist = np.absolute(x2 - x1)\n",
    "        ydist = np.absolute(y2 - y1)\n",
    "        zdist = np.absolute(z2 - z1)\n",
    "        netdist = (xdist**2 + ydist**2 + zdist**2)**0.5\n",
    "        \n",
    "        # if netdist < both radii, halo with smaller radius is satellite\n",
    "        if netdist < radius1 and netdist < radius2:\n",
    "            # check which radius smaller, if so, add index to list\n",
    "            if radius2 < radius1:\n",
    "                satellite.append(index2)\n",
    "            else:\n",
    "                satellite.append(index1)\n",
    "                # set bool to true for later\n",
    "                isSatellite = True\n",
    "        \n",
    "        # if netdist only < rad1, halo2 is satellite\n",
    "        elif netdist < radius1:\n",
    "            satellite.append(index2)\n",
    "        \n",
    "        # if netdist only < rad2, halo 1 is satellite\n",
    "        elif netdist < radius2:\n",
    "            satellite.append(index1)\n",
    "            # set bool to true for later\n",
    "            isSatellite = True\n",
    "        \n",
    "    # after loop, if satellite bool still false, and halo1 not in satellite\n",
    "    # list, then add to non-satellite list\n",
    "    if not isSatellite and index1 not in satellite:\n",
    "        nonsatellite.append(index1)\n",
    "    \n",
    "    "
   ]
  },
  {
   "cell_type": "code",
   "execution_count": 81,
   "metadata": {},
   "outputs": [
    {
     "data": {
      "text/plain": [
       "<function list.index>"
      ]
     },
     "execution_count": 81,
     "metadata": {},
     "output_type": "execute_result"
    }
   ],
   "source": [
    "testhalo = hc.halo_list."
   ]
  },
  {
   "cell_type": "code",
   "execution_count": 98,
   "metadata": {},
   "outputs": [
    {
     "data": {
      "text/plain": [
       "array(6.0)"
      ]
     },
     "execution_count": 98,
     "metadata": {},
     "output_type": "execute_result"
    }
   ],
   "source": [
    "nonsatellite[6].value"
   ]
  },
  {
   "cell_type": "code",
   "execution_count": 74,
   "metadata": {},
   "outputs": [
    {
     "name": "stdout",
     "output_type": "stream",
     "text": [
      "true\n"
     ]
    }
   ],
   "source": [
    "tempt1 = nonsatellite[3]\n",
    "tempt2 = nonsatellite[4]\n",
    "\n",
    "if tempt1 < tempt2:\n",
    "    print('true')\n",
    "else:\n",
    "    print('false')"
   ]
  },
  {
   "cell_type": "code",
   "execution_count": 43,
   "metadata": {
    "collapsed": true
   },
   "outputs": [],
   "source": [
    "halo1 = hc.halo_list[2586]\n",
    "halo2 = hc.halo_list[632]\n",
    "\n",
    "# find first index\n",
    "index1 = halo1.quantities.get('particle_identifier')\n",
    "\n",
    "# find parameters of halo1\n",
    "x1 = halo1.quantities.get('particle_position_x')\n",
    "y1 = halo1.quantities.get('particle_position_y')\n",
    "z1 = halo1.quantities.get('particle_position_z')\n",
    "radius1 = halo1.quantities.get('virial_radius')\n",
    "\n",
    "# find second index\n",
    "index2 = halo1.quantities.get('particle_identifier')\n",
    "        \n",
    "# find parameters of halo2\n",
    "x2 = halo2.quantities.get('particle_position_x')\n",
    "y2 = halo2.quantities.get('particle_position_y')\n",
    "z2 = halo2.quantities.get('particle_position_z')\n",
    "radius2 = halo2.quantities.get('virial_radius')\n",
    "\n",
    "# calculate dist between halo centers\n",
    "xdist = np.absolute(x2 - x1)\n",
    "ydist = np.absolute(y2 - y1)\n",
    "zdist = np.absolute(z2 - z1)\n",
    "netdist = (xdist**2 + ydist**2 + zdist**2)**0.5\n",
    "        \n"
   ]
  },
  {
   "cell_type": "code",
   "execution_count": 44,
   "metadata": {},
   "outputs": [
    {
     "name": "stdout",
     "output_type": "stream",
     "text": [
      "1.388177080219809e+24 cm \n",
      " 7.437515351055433e+21 cm \n",
      " 4.899934778698262e+21 cm\n"
     ]
    }
   ],
   "source": [
    "print(netdist, '\\n', radius1, '\\n', radius2)"
   ]
  },
  {
   "cell_type": "code",
   "execution_count": 25,
   "metadata": {},
   "outputs": [
    {
     "name": "stdout",
     "output_type": "stream",
     "text": [
      "3.1682811356454203e+24 cm \n",
      " 8.026487563195402e+23 cm \n",
      " 9.789640593412424e+23 cm\n"
     ]
    }
   ],
   "source": [
    "print(xdist, '\\n', ydist, '\\n', zdist)"
   ]
  },
  {
   "cell_type": "code",
   "execution_count": 26,
   "metadata": {},
   "outputs": [
    {
     "name": "stdout",
     "output_type": "stream",
     "text": [
      "1.1963596279206126e+25 cm \n",
      " 8.795315143560705e+24 cm \n",
      " 1.2021895291189851e+25 cm \n",
      " 1.121924653487031e+25 cm\n"
     ]
    }
   ],
   "source": [
    "print(x1, '\\n', x2, '\\n', y1, '\\n', y2)"
   ]
  },
  {
   "cell_type": "code",
   "execution_count": 27,
   "metadata": {},
   "outputs": [
    {
     "data": {
      "text/plain": [
       "2850.367516627491 kpc"
      ]
     },
     "execution_count": 27,
     "metadata": {},
     "output_type": "execute_result"
    }
   ],
   "source": [
    "halo2.quantities.get('particle_position_x').to('kpc')"
   ]
  },
  {
   "cell_type": "code",
   "execution_count": 29,
   "metadata": {},
   "outputs": [
    {
     "data": {
      "text/plain": [
       "[]"
      ]
     },
     "execution_count": 29,
     "metadata": {},
     "output_type": "execute_result"
    }
   ],
   "source": [
    "nonsatellite"
   ]
  },
  {
   "cell_type": "code",
   "execution_count": 30,
   "metadata": {},
   "outputs": [
    {
     "data": {
      "text/plain": [
       "0.9009465896436416 kpc"
      ]
     },
     "execution_count": 30,
     "metadata": {},
     "output_type": "execute_result"
    }
   ],
   "source": [
    "radius1.to('kpc')"
   ]
  },
  {
   "cell_type": "code",
   "execution_count": 31,
   "metadata": {},
   "outputs": [
    {
     "data": {
      "text/plain": [
       "1105.7005606510265 kpc"
      ]
     },
     "execution_count": 31,
     "metadata": {},
     "output_type": "execute_result"
    }
   ],
   "source": [
    "netdist.to('kpc')"
   ]
  },
  {
   "cell_type": "code",
   "execution_count": null,
   "metadata": {
    "collapsed": true
   },
   "outputs": [],
   "source": []
  }
 ],
 "metadata": {
  "kernelspec": {
   "display_name": "Python 3",
   "language": "python",
   "name": "python3"
  },
  "language_info": {
   "codemirror_mode": {
    "name": "ipython",
    "version": 3
   },
   "file_extension": ".py",
   "mimetype": "text/x-python",
   "name": "python",
   "nbconvert_exporter": "python",
   "pygments_lexer": "ipython3",
   "version": "3.6.1"
  }
 },
 "nbformat": 4,
 "nbformat_minor": 2
}
