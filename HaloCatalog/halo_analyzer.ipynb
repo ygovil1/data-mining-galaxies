{
 "cells": [
  {
   "cell_type": "code",
   "execution_count": 29,
   "metadata": {
    "collapsed": true
   },
   "outputs": [],
   "source": [
    "%matplotlib inline\n",
    "\n",
    "# import basic libraries\n",
    "import yt\n",
    "import numpy as np\n",
    "import matplotlib.pyplot as plt\n",
    "from astropy import units as u\n",
    "\n",
    "# import halo catalogue func\n",
    "from yt.analysis_modules.halo_analysis.api import *"
   ]
  },
  {
   "cell_type": "code",
   "execution_count": 14,
   "metadata": {
    "collapsed": true
   },
   "outputs": [],
   "source": [
    "import tempfile\n",
    "import shutil\n",
    "import os\n",
    "\n",
    "# Create temporary directory for storing files\n",
    "tmpdir = tempfile.mkdtemp()"
   ]
  },
  {
   "cell_type": "code",
   "execution_count": 43,
   "metadata": {
    "scrolled": true
   },
   "outputs": [
    {
     "name": "stderr",
     "output_type": "stream",
     "text": [
      "yt : [INFO     ] 2017-06-26 16:51:19,043 Parameters: current_time              = 158.01757996843\n",
      "yt : [INFO     ] 2017-06-26 16:51:19,046 Parameters: domain_dimensions         = [128 128 128]\n",
      "yt : [INFO     ] 2017-06-26 16:51:19,049 Parameters: domain_left_edge          = [ 0.  0.  0.]\n",
      "yt : [INFO     ] 2017-06-26 16:51:19,053 Parameters: domain_right_edge         = [ 1.  1.  1.]\n",
      "yt : [INFO     ] 2017-06-26 16:51:19,056 Parameters: cosmological_simulation   = 1\n",
      "yt : [INFO     ] 2017-06-26 16:51:19,058 Parameters: current_redshift          = 4.9999999832278\n",
      "yt : [INFO     ] 2017-06-26 16:51:19,060 Parameters: omega_lambda              = 0.712\n",
      "yt : [INFO     ] 2017-06-26 16:51:19,062 Parameters: omega_matter              = 0.288\n",
      "yt : [INFO     ] 2017-06-26 16:51:19,064 Parameters: hubble_constant           = 0.6933\n"
     ]
    }
   ],
   "source": [
    "# load dataset\n",
    "ds = yt.load('~/../../tigress/cen/LG4_2048_40pc/RD0070/redshift0070')"
   ]
  },
  {
   "cell_type": "code",
   "execution_count": 16,
   "metadata": {
    "scrolled": true
   },
   "outputs": [
    {
     "name": "stderr",
     "output_type": "stream",
     "text": [
      "Parsing Hierarchy : 100%|██████████| 44224/44224 [00:05<00:00, 7899.39it/s] \n",
      "yt : [INFO     ] 2017-06-26 16:07:12,103 Gathering a field list (this may take a moment.)\n"
     ]
    },
    {
     "name": "stdout",
     "output_type": "stream",
     "text": [
      "level\t# grids\t       # cells\t     # cells^3\n",
      "----------------------------------------------\n",
      "  0\t   256\t       2097152\t           128\n",
      "  1\t    60\t        547304\t            82\n",
      "  2\t   187\t       2071552\t           128\n",
      "  3\t   898\t       9903616\t           215\n",
      "  4\t  5193\t      55377920\t           382\n",
      "  5\t  9876\t      53324192\t           377\n",
      "  6\t  9632\t      37417048\t           335\n",
      "  7\t  7854\t      22891480\t           284\n",
      "  8\t  5388\t      12002584\t           229\n",
      "  9\t  1830\t       6173384\t           184\n",
      " 10\t  1321\t       6643200\t           188\n",
      " 11\t  1729\t       9688816\t           214\n",
      "----------------------------------------------\n",
      "   \t 44224\t     218138248\n",
      "\n",
      "\n",
      "t = 2.07434497e+02 = 4.93026195e+16 s = 1.56230573e+09 years\n",
      "\n",
      "Smallest Cell:\n",
      "\tWidth: 3.301e-05 Mpc\n",
      "\tWidth: 3.301e+01 pc\n",
      "\tWidth: 6.810e+06 AU\n",
      "\tWidth: 1.019e+20 cm\n"
     ]
    }
   ],
   "source": [
    "ds.print_stats()"
   ]
  },
  {
   "cell_type": "code",
   "execution_count": 17,
   "metadata": {
    "scrolled": true
   },
   "outputs": [
    {
     "data": {
      "text/plain": [
       "[('all', 'creation_time'),\n",
       " ('all', 'dynamical_time'),\n",
       " ('all', 'initial_mass'),\n",
       " ('all', 'metallicity_fraction'),\n",
       " ('all', 'particle_index'),\n",
       " ('all', 'particle_mass'),\n",
       " ('all', 'particle_position_x'),\n",
       " ('all', 'particle_position_y'),\n",
       " ('all', 'particle_position_z'),\n",
       " ('all', 'particle_type'),\n",
       " ('all', 'particle_velocity_x'),\n",
       " ('all', 'particle_velocity_y'),\n",
       " ('all', 'particle_velocity_z'),\n",
       " ('all', 'typeia_fraction'),\n",
       " ('enzo', 'Dark_Matter_Density'),\n",
       " ('enzo', 'Density'),\n",
       " ('enzo', 'Electron_Density'),\n",
       " ('enzo', 'H2II_Density'),\n",
       " ('enzo', 'H2I_Density'),\n",
       " ('enzo', 'HII_Density'),\n",
       " ('enzo', 'HI_Density'),\n",
       " ('enzo', 'HM_Density'),\n",
       " ('enzo', 'HeIII_Density'),\n",
       " ('enzo', 'HeII_Density'),\n",
       " ('enzo', 'HeI_Density'),\n",
       " ('enzo', 'Metal_Density'),\n",
       " ('enzo', 'Temperature'),\n",
       " ('enzo', 'TotalEnergy'),\n",
       " ('enzo', 'x-velocity'),\n",
       " ('enzo', 'y-velocity'),\n",
       " ('enzo', 'z-velocity'),\n",
       " ('io', 'creation_time'),\n",
       " ('io', 'dynamical_time'),\n",
       " ('io', 'initial_mass'),\n",
       " ('io', 'metallicity_fraction'),\n",
       " ('io', 'particle_index'),\n",
       " ('io', 'particle_mass'),\n",
       " ('io', 'particle_position_x'),\n",
       " ('io', 'particle_position_y'),\n",
       " ('io', 'particle_position_z'),\n",
       " ('io', 'particle_type'),\n",
       " ('io', 'particle_velocity_x'),\n",
       " ('io', 'particle_velocity_y'),\n",
       " ('io', 'particle_velocity_z'),\n",
       " ('io', 'typeia_fraction')]"
      ]
     },
     "execution_count": 17,
     "metadata": {},
     "output_type": "execute_result"
    }
   ],
   "source": [
    "ds.field_list"
   ]
  },
  {
   "cell_type": "code",
   "execution_count": 26,
   "metadata": {
    "collapsed": true
   },
   "outputs": [],
   "source": [
    "# specify boundaries of zoom-in box\n",
    "# scaling factor multiplied by info from text file \n",
    "# units in cm\n",
    "xmin = 0.39319589\n",
    "ymin = 0.42984636\n",
    "zmin = 0.41706725\n",
    "\n",
    "xmax = 0.56298484\n",
    "ymax = 0.55089246\n",
    "zmax = 0.56698254"
   ]
  },
  {
   "cell_type": "code",
   "execution_count": 42,
   "metadata": {},
   "outputs": [
    {
     "ename": "TypeError",
     "evalue": "__init__() missing 1 required positional argument: 'dims'",
     "output_type": "error",
     "traceback": [
      "\u001b[0;31m---------------------------------------------------------------------------\u001b[0m",
      "\u001b[0;31mTypeError\u001b[0m                                 Traceback (most recent call last)",
      "\u001b[0;32m<ipython-input-42-5eaf6c872207>\u001b[0m in \u001b[0;36m<module>\u001b[0;34m()\u001b[0m\n\u001b[1;32m      1\u001b[0m \u001b[0;31m# limit dataset\u001b[0m\u001b[0;34m\u001b[0m\u001b[0;34m\u001b[0m\u001b[0m\n\u001b[0;32m----> 2\u001b[0;31m \u001b[0mobj\u001b[0m \u001b[0;34m=\u001b[0m \u001b[0mds\u001b[0m\u001b[0;34m.\u001b[0m\u001b[0marbitrary_grid\u001b[0m\u001b[0;34m(\u001b[0m\u001b[0;34m[\u001b[0m\u001b[0mxmin\u001b[0m\u001b[0;34m,\u001b[0m \u001b[0mymin\u001b[0m\u001b[0;34m,\u001b[0m \u001b[0mzmin\u001b[0m\u001b[0;34m]\u001b[0m\u001b[0;34m,\u001b[0m \u001b[0;34m[\u001b[0m\u001b[0mxmax\u001b[0m\u001b[0;34m,\u001b[0m \u001b[0mymax\u001b[0m\u001b[0;34m,\u001b[0m \u001b[0mzmax\u001b[0m\u001b[0;34m]\u001b[0m\u001b[0;34m)\u001b[0m\u001b[0;34m\u001b[0m\u001b[0m\n\u001b[0m",
      "\u001b[0;31mTypeError\u001b[0m: __init__() missing 1 required positional argument: 'dims'"
     ]
    }
   ],
   "source": [
    "# limit dataset\n",
    "obj = ds.arbitrary_grid([xmin, ymin, zmin], [xmax, ymax, zmax], dims=[128, 128, 128])"
   ]
  },
  {
   "cell_type": "code",
   "execution_count": 35,
   "metadata": {
    "collapsed": true
   },
   "outputs": [],
   "source": [
    "# calculate center of sphere\n",
    "xcent = xmin + (xmax-xmin)/2\n",
    "ycent = ymin + (ymax-ymin)/2\n",
    "zcent = zmin + (zmax-zmin)/2\n",
    "\n",
    "#calculate radius of sphere\n",
    "dist = ((xmax-xmin)**2 + (ymax-ymin)**2 + (zmax-zmin)**2)**0.5\n",
    "radius = dist/2.\n",
    "radius = 2.22535525e+25*radius * u.cm"
   ]
  },
  {
   "cell_type": "code",
   "execution_count": 40,
   "metadata": {},
   "outputs": [],
   "source": [
    "sp = ds.sphere([xcent, ycent, zcent], (radius.value, 'cm'))"
   ]
  },
  {
   "cell_type": "code",
   "execution_count": 18,
   "metadata": {},
   "outputs": [
    {
     "name": "stderr",
     "output_type": "stream",
     "text": [
      "yt : [INFO     ] 2017-06-26 16:07:30,143 Parameters: current_time              = 3.75573046409e+16\n",
      "yt : [INFO     ] 2017-06-26 16:07:30,144 Parameters: domain_dimensions         = [2 2 2]\n",
      "yt : [INFO     ] 2017-06-26 16:07:30,146 Parameters: domain_left_edge          = [ 0.  0.  0.]\n",
      "yt : [INFO     ] 2017-06-26 16:07:30,147 Parameters: domain_right_edge         = [  2.22535525e+25   2.22535525e+25   2.22535525e+25]\n",
      "yt : [INFO     ] 2017-06-26 16:07:30,148 Parameters: cosmological_simulation   = 1\n",
      "yt : [INFO     ] 2017-06-26 16:07:30,149 Parameters: current_redshift          = 4.99999998323\n",
      "yt : [INFO     ] 2017-06-26 16:07:30,150 Parameters: omega_lambda              = 0.712\n",
      "yt : [INFO     ] 2017-06-26 16:07:30,151 Parameters: omega_matter              = 0.288\n",
      "yt : [INFO     ] 2017-06-26 16:07:30,151 Parameters: hubble_constant           = 0.6933\n"
     ]
    }
   ],
   "source": [
    "# load halo dataset\n",
    "halos_ds = yt.load('./LG4_2048_40pc/rd0070/halo_catalogs/catalog/catalog0070_thres160.0.h5')"
   ]
  },
  {
   "cell_type": "code",
   "execution_count": 19,
   "metadata": {
    "scrolled": true
   },
   "outputs": [
    {
     "name": "stderr",
     "output_type": "stream",
     "text": [
      "yt : [INFO     ] 2017-06-26 16:07:30,159 Allocating for 9.178e+03 particles (index particle type 'all')\n",
      "yt : [INFO     ] 2017-06-26 16:07:30,166 Identified 3.025e+03 octs\n"
     ]
    },
    {
     "data": {
      "text/plain": [
       "[('all', 'particle_identifier'),\n",
       " ('all', 'particle_mass'),\n",
       " ('all', 'particle_position_x'),\n",
       " ('all', 'particle_position_y'),\n",
       " ('all', 'particle_position_z'),\n",
       " ('all', 'virial_radius'),\n",
       " ('halos', 'particle_identifier'),\n",
       " ('halos', 'particle_mass'),\n",
       " ('halos', 'particle_position_x'),\n",
       " ('halos', 'particle_position_y'),\n",
       " ('halos', 'particle_position_z'),\n",
       " ('halos', 'virial_radius')]"
      ]
     },
     "execution_count": 19,
     "metadata": {},
     "output_type": "execute_result"
    }
   ],
   "source": [
    "halos_ds.field_list"
   ]
  },
  {
   "cell_type": "code",
   "execution_count": 47,
   "metadata": {},
   "outputs": [],
   "source": [
    "# Instantiate a catalog using those two paramter files\n",
    "hc = HaloCatalog(data_ds=obj, halos_ds=halos_ds, output_dir=os.path.join(tmpdir, 'halo_catalog'))\n",
    "hc.load()"
   ]
  },
  {
   "cell_type": "code",
   "execution_count": 33,
   "metadata": {
    "scrolled": true
   },
   "outputs": [
    {
     "ename": "AttributeError",
     "evalue": "'YTSphere' object has no attribute 'coordinates'",
     "output_type": "error",
     "traceback": [
      "\u001b[0;31m---------------------------------------------------------------------------\u001b[0m",
      "\u001b[0;31mAttributeError\u001b[0m                            Traceback (most recent call last)",
      "\u001b[0;32m<ipython-input-33-6284021e6a39>\u001b[0m in \u001b[0;36m<module>\u001b[0;34m()\u001b[0m\n\u001b[1;32m      1\u001b[0m \u001b[0;31m# create projection plot\u001b[0m\u001b[0;34m\u001b[0m\u001b[0;34m\u001b[0m\u001b[0m\n\u001b[0;32m----> 2\u001b[0;31m \u001b[0mp\u001b[0m \u001b[0;34m=\u001b[0m \u001b[0myt\u001b[0m\u001b[0;34m.\u001b[0m\u001b[0mProjectionPlot\u001b[0m\u001b[0;34m(\u001b[0m\u001b[0msp\u001b[0m\u001b[0;34m,\u001b[0m \u001b[0;34m\"x\"\u001b[0m\u001b[0;34m,\u001b[0m \u001b[0;34m\"Dark_Matter_Density\"\u001b[0m\u001b[0;34m,\u001b[0m \u001b[0mwidth\u001b[0m\u001b[0;34m=\u001b[0m\u001b[0;34m(\u001b[0m\u001b[0;36m1.5\u001b[0m\u001b[0;34m,\u001b[0m \u001b[0;34m'Mpc'\u001b[0m\u001b[0;34m)\u001b[0m\u001b[0;34m)\u001b[0m\u001b[0;34m\u001b[0m\u001b[0m\n\u001b[0m\u001b[1;32m      3\u001b[0m \u001b[0mp\u001b[0m\u001b[0;34m.\u001b[0m\u001b[0mset_zlim\u001b[0m\u001b[0;34m(\u001b[0m\u001b[0mfield\u001b[0m\u001b[0;34m=\u001b[0m\u001b[0;34m\"Dark_Matter_Density\"\u001b[0m\u001b[0;34m,\u001b[0m \u001b[0mzmin\u001b[0m\u001b[0;34m=\u001b[0m\u001b[0;36m1e23\u001b[0m\u001b[0;34m,\u001b[0m \u001b[0mzmax\u001b[0m\u001b[0;34m=\u001b[0m\u001b[0;36m1e27\u001b[0m\u001b[0;34m)\u001b[0m\u001b[0;34m\u001b[0m\u001b[0m\n\u001b[1;32m      4\u001b[0m \u001b[0;31m#p.annotate_halos(hc, factor = \"particle_mass\")\u001b[0m\u001b[0;34m\u001b[0m\u001b[0;34m\u001b[0m\u001b[0m\n\u001b[1;32m      5\u001b[0m \u001b[0mp\u001b[0m\u001b[0;34m.\u001b[0m\u001b[0mannotate_halos\u001b[0m\u001b[0;34m(\u001b[0m\u001b[0mhc\u001b[0m\u001b[0;34m)\u001b[0m\u001b[0;34m\u001b[0m\u001b[0m\n",
      "\u001b[0;32m/home/ygovil/anaconda/anaconda3/lib/python3.6/site-packages/yt/visualization/plot_window.py\u001b[0m in \u001b[0;36m__init__\u001b[0;34m(self, ds, axis, fields, center, width, axes_unit, weight_field, max_level, origin, fontsize, field_parameters, data_source, method, proj_style, window_size, aspect)\u001b[0m\n\u001b[1;32m   1411\u001b[0m         \u001b[0mself\u001b[0m\u001b[0;34m.\u001b[0m\u001b[0mts\u001b[0m \u001b[0;34m=\u001b[0m \u001b[0mts\u001b[0m\u001b[0;34m\u001b[0m\u001b[0m\n\u001b[1;32m   1412\u001b[0m         \u001b[0mds\u001b[0m \u001b[0;34m=\u001b[0m \u001b[0mself\u001b[0m\u001b[0;34m.\u001b[0m\u001b[0mds\u001b[0m \u001b[0;34m=\u001b[0m \u001b[0mts\u001b[0m\u001b[0;34m[\u001b[0m\u001b[0;36m0\u001b[0m\u001b[0;34m]\u001b[0m\u001b[0;34m\u001b[0m\u001b[0m\n\u001b[0;32m-> 1413\u001b[0;31m         \u001b[0maxis\u001b[0m \u001b[0;34m=\u001b[0m \u001b[0mfix_axis\u001b[0m\u001b[0;34m(\u001b[0m\u001b[0maxis\u001b[0m\u001b[0;34m,\u001b[0m \u001b[0mds\u001b[0m\u001b[0;34m)\u001b[0m\u001b[0;34m\u001b[0m\u001b[0m\n\u001b[0m\u001b[1;32m   1414\u001b[0m         \u001b[0;31m# proj_style is deprecated, but if someone specifies then it trumps\u001b[0m\u001b[0;34m\u001b[0m\u001b[0;34m\u001b[0m\u001b[0m\n\u001b[1;32m   1415\u001b[0m         \u001b[0;31m# method.\u001b[0m\u001b[0;34m\u001b[0m\u001b[0;34m\u001b[0m\u001b[0m\n",
      "\u001b[0;32m/home/ygovil/anaconda/anaconda3/lib/python3.6/site-packages/yt/funcs.py\u001b[0m in \u001b[0;36mfix_axis\u001b[0;34m(axis, ds)\u001b[0m\n\u001b[1;32m    707\u001b[0m \u001b[0;34m\u001b[0m\u001b[0m\n\u001b[1;32m    708\u001b[0m \u001b[0;32mdef\u001b[0m \u001b[0mfix_axis\u001b[0m\u001b[0;34m(\u001b[0m\u001b[0maxis\u001b[0m\u001b[0;34m,\u001b[0m \u001b[0mds\u001b[0m\u001b[0;34m)\u001b[0m\u001b[0;34m:\u001b[0m\u001b[0;34m\u001b[0m\u001b[0m\n\u001b[0;32m--> 709\u001b[0;31m     \u001b[0;32mreturn\u001b[0m \u001b[0mds\u001b[0m\u001b[0;34m.\u001b[0m\u001b[0mcoordinates\u001b[0m\u001b[0;34m.\u001b[0m\u001b[0maxis_id\u001b[0m\u001b[0;34m.\u001b[0m\u001b[0mget\u001b[0m\u001b[0;34m(\u001b[0m\u001b[0maxis\u001b[0m\u001b[0;34m,\u001b[0m \u001b[0maxis\u001b[0m\u001b[0;34m)\u001b[0m\u001b[0;34m\u001b[0m\u001b[0m\n\u001b[0m\u001b[1;32m    710\u001b[0m \u001b[0;34m\u001b[0m\u001b[0m\n\u001b[1;32m    711\u001b[0m \u001b[0;32mdef\u001b[0m \u001b[0mget_image_suffix\u001b[0m\u001b[0;34m(\u001b[0m\u001b[0mname\u001b[0m\u001b[0;34m)\u001b[0m\u001b[0;34m:\u001b[0m\u001b[0;34m\u001b[0m\u001b[0m\n",
      "\u001b[0;31mAttributeError\u001b[0m: 'YTSphere' object has no attribute 'coordinates'"
     ]
    }
   ],
   "source": [
    "# create projection plot\n",
    "p = yt.ProjectionPlot(sp, \"x\", \"Dark_Matter_Density\", width=(1.5, 'Mpc'))\n",
    "p.set_zlim(field=\"Dark_Matter_Density\", zmin=1e23, zmax=1e27)\n",
    "#p.annotate_halos(hc, factor = \"particle_mass\")\n",
    "p.annotate_halos(hc)\n",
    "p.display()"
   ]
  },
  {
   "cell_type": "code",
   "execution_count": 22,
   "metadata": {},
   "outputs": [
    {
     "data": {
      "text/plain": [
       "YTArbitraryGrid (redshift0090): , left_edge=[  1.05000065e+25   1.14787303e+25   1.11374736e+25] cm, right_edge=[  1.50340954e+25   1.47111773e+25   1.51408510e+25] cm, ActiveDimensions=[128 128 128]"
      ]
     },
     "execution_count": 22,
     "metadata": {},
     "output_type": "execute_result"
    }
   ],
   "source": [
    "obj"
   ]
  },
  {
   "cell_type": "code",
   "execution_count": 41,
   "metadata": {
    "scrolled": true
   },
   "outputs": [
    {
     "data": {
      "text/plain": [
       "YTSphere (redshift0090): , center=[  1.27670510e+25   1.30949538e+25   1.31391623e+25] cm, radius=2.8575467812729705e+24 cm"
      ]
     },
     "execution_count": 41,
     "metadata": {},
     "output_type": "execute_result"
    }
   ],
   "source": [
    "sp"
   ]
  },
  {
   "cell_type": "code",
   "execution_count": null,
   "metadata": {
    "collapsed": true
   },
   "outputs": [],
   "source": []
  }
 ],
 "metadata": {
  "kernelspec": {
   "display_name": "Python 3",
   "language": "python",
   "name": "python3"
  },
  "language_info": {
   "codemirror_mode": {
    "name": "ipython",
    "version": 3
   },
   "file_extension": ".py",
   "mimetype": "text/x-python",
   "name": "python",
   "nbconvert_exporter": "python",
   "pygments_lexer": "ipython3",
   "version": "3.6.1"
  }
 },
 "nbformat": 4,
 "nbformat_minor": 2
}
