{
 "cells": [
  {
   "cell_type": "code",
   "execution_count": 1,
   "metadata": {
    "collapsed": true
   },
   "outputs": [],
   "source": [
    "%matplotlib inline\n",
    "\n",
    "# import basic libraries\n",
    "import yt\n",
    "import numpy as np\n",
    "import matplotlib.pyplot as plt\n",
    "\n",
    "# import halo catalogue func\n",
    "from yt.analysis_modules.halo_analysis.api import *"
   ]
  },
  {
   "cell_type": "code",
   "execution_count": 2,
   "metadata": {
    "collapsed": true
   },
   "outputs": [],
   "source": [
    "import tempfile\n",
    "import shutil\n",
    "import os\n",
    "\n",
    "# Create temporary directory for storing files\n",
    "tmpdir = tempfile.mkdtemp()"
   ]
  },
  {
   "cell_type": "code",
   "execution_count": 3,
   "metadata": {
    "scrolled": false
   },
   "outputs": [
    {
     "name": "stderr",
     "output_type": "stream",
     "text": [
      "yt : [INFO     ] 2017-06-23 10:41:00,202 Parameters: current_time              = 207.43449741177\n",
      "yt : [INFO     ] 2017-06-23 10:41:00,205 Parameters: domain_dimensions         = [128 128 128]\n",
      "yt : [INFO     ] 2017-06-23 10:41:00,209 Parameters: domain_left_edge          = [ 0.  0.  0.]\n",
      "yt : [INFO     ] 2017-06-23 10:41:00,212 Parameters: domain_right_edge         = [ 1.  1.  1.]\n",
      "yt : [INFO     ] 2017-06-23 10:41:00,215 Parameters: cosmological_simulation   = 1\n",
      "yt : [INFO     ] 2017-06-23 10:41:00,217 Parameters: current_redshift          = 3.9999999428215\n",
      "yt : [INFO     ] 2017-06-23 10:41:00,219 Parameters: omega_lambda              = 0.712\n",
      "yt : [INFO     ] 2017-06-23 10:41:00,222 Parameters: omega_matter              = 0.288\n",
      "yt : [INFO     ] 2017-06-23 10:41:00,224 Parameters: hubble_constant           = 0.6933\n"
     ]
    }
   ],
   "source": [
    "# load dataset\n",
    "ds = yt.load('~/../../tigress/cen/LG4_2048_40pc/RD0090/redshift0090')"
   ]
  },
  {
   "cell_type": "code",
   "execution_count": 10,
   "metadata": {},
   "outputs": [
    {
     "data": {
      "text/plain": [
       "array([128, 128, 128])"
      ]
     },
     "execution_count": 10,
     "metadata": {},
     "output_type": "execute_result"
    }
   ],
   "source": [
    "ds.domain_dimensions"
   ]
  },
  {
   "cell_type": "code",
   "execution_count": 4,
   "metadata": {
    "scrolled": true
   },
   "outputs": [
    {
     "name": "stderr",
     "output_type": "stream",
     "text": [
      "Parsing Hierarchy : 100%|██████████| 44224/44224 [00:04<00:00, 10271.84it/s]\n",
      "yt : [INFO     ] 2017-06-23 10:41:11,456 Gathering a field list (this may take a moment.)\n"
     ]
    },
    {
     "name": "stdout",
     "output_type": "stream",
     "text": [
      "level\t# grids\t       # cells\t     # cells^3\n",
      "----------------------------------------------\n",
      "  0\t   256\t       2097152\t           128\n",
      "  1\t    60\t        547304\t            82\n",
      "  2\t   187\t       2071552\t           128\n",
      "  3\t   898\t       9903616\t           215\n",
      "  4\t  5193\t      55377920\t           382\n",
      "  5\t  9876\t      53324192\t           377\n",
      "  6\t  9632\t      37417048\t           335\n",
      "  7\t  7854\t      22891480\t           284\n",
      "  8\t  5388\t      12002584\t           229\n",
      "  9\t  1830\t       6173384\t           184\n",
      " 10\t  1321\t       6643200\t           188\n",
      " 11\t  1729\t       9688816\t           214\n",
      "----------------------------------------------\n",
      "   \t 44224\t     218138248\n",
      "\n",
      "\n",
      "t = 2.07434497e+02 = 4.93026195e+16 s = 1.56230573e+09 years\n",
      "\n",
      "Smallest Cell:\n",
      "\tWidth: 3.301e-05 Mpc\n",
      "\tWidth: 3.301e+01 pc\n",
      "\tWidth: 6.810e+06 AU\n",
      "\tWidth: 1.019e+20 cm\n"
     ]
    }
   ],
   "source": [
    "ds.print_stats()"
   ]
  },
  {
   "cell_type": "code",
   "execution_count": 6,
   "metadata": {
    "scrolled": true
   },
   "outputs": [
    {
     "data": {
      "text/plain": [
       "[('all', 'creation_time'),\n",
       " ('all', 'dynamical_time'),\n",
       " ('all', 'initial_mass'),\n",
       " ('all', 'metallicity_fraction'),\n",
       " ('all', 'particle_index'),\n",
       " ('all', 'particle_mass'),\n",
       " ('all', 'particle_position_x'),\n",
       " ('all', 'particle_position_y'),\n",
       " ('all', 'particle_position_z'),\n",
       " ('all', 'particle_type'),\n",
       " ('all', 'particle_velocity_x'),\n",
       " ('all', 'particle_velocity_y'),\n",
       " ('all', 'particle_velocity_z'),\n",
       " ('all', 'typeia_fraction'),\n",
       " ('enzo', 'Dark_Matter_Density'),\n",
       " ('enzo', 'Density'),\n",
       " ('enzo', 'Electron_Density'),\n",
       " ('enzo', 'H2II_Density'),\n",
       " ('enzo', 'H2I_Density'),\n",
       " ('enzo', 'HII_Density'),\n",
       " ('enzo', 'HI_Density'),\n",
       " ('enzo', 'HM_Density'),\n",
       " ('enzo', 'HeIII_Density'),\n",
       " ('enzo', 'HeII_Density'),\n",
       " ('enzo', 'HeI_Density'),\n",
       " ('enzo', 'Metal_Density'),\n",
       " ('enzo', 'Temperature'),\n",
       " ('enzo', 'TotalEnergy'),\n",
       " ('enzo', 'x-velocity'),\n",
       " ('enzo', 'y-velocity'),\n",
       " ('enzo', 'z-velocity'),\n",
       " ('io', 'creation_time'),\n",
       " ('io', 'dynamical_time'),\n",
       " ('io', 'initial_mass'),\n",
       " ('io', 'metallicity_fraction'),\n",
       " ('io', 'particle_index'),\n",
       " ('io', 'particle_mass'),\n",
       " ('io', 'particle_position_x'),\n",
       " ('io', 'particle_position_y'),\n",
       " ('io', 'particle_position_z'),\n",
       " ('io', 'particle_type'),\n",
       " ('io', 'particle_velocity_x'),\n",
       " ('io', 'particle_velocity_y'),\n",
       " ('io', 'particle_velocity_z'),\n",
       " ('io', 'typeia_fraction')]"
      ]
     },
     "execution_count": 6,
     "metadata": {},
     "output_type": "execute_result"
    }
   ],
   "source": [
    "ds.field_list"
   ]
  },
  {
   "cell_type": "code",
   "execution_count": 5,
   "metadata": {},
   "outputs": [
    {
     "name": "stderr",
     "output_type": "stream",
     "text": [
      "yt : [INFO     ] 2017-06-23 10:41:17,621 Parameters: current_time              = 3.75573046409e+16\n",
      "yt : [INFO     ] 2017-06-23 10:41:17,622 Parameters: domain_dimensions         = [2 2 2]\n",
      "yt : [INFO     ] 2017-06-23 10:41:17,625 Parameters: domain_left_edge          = [ 0.  0.  0.]\n",
      "yt : [INFO     ] 2017-06-23 10:41:17,627 Parameters: domain_right_edge         = [  2.22535525e+25   2.22535525e+25   2.22535525e+25]\n",
      "yt : [INFO     ] 2017-06-23 10:41:17,630 Parameters: cosmological_simulation   = 1\n",
      "yt : [INFO     ] 2017-06-23 10:41:17,631 Parameters: current_redshift          = 4.99999998323\n",
      "yt : [INFO     ] 2017-06-23 10:41:17,633 Parameters: omega_lambda              = 0.712\n",
      "yt : [INFO     ] 2017-06-23 10:41:17,635 Parameters: omega_matter              = 0.288\n",
      "yt : [INFO     ] 2017-06-23 10:41:17,636 Parameters: hubble_constant           = 0.6933\n"
     ]
    }
   ],
   "source": [
    "# load halo dataset\n",
    "halos_ds = yt.load('./rd0070/halo_catalogs/catalog/catalog0070.0.h5')"
   ]
  },
  {
   "cell_type": "code",
   "execution_count": 29,
   "metadata": {
    "scrolled": true
   },
   "outputs": [
    {
     "name": "stderr",
     "output_type": "stream",
     "text": [
      "yt : [INFO     ] 2017-06-22 11:10:29,701 Allocating for 1.022e+04 particles (index particle type 'all')\n",
      "yt : [INFO     ] 2017-06-22 11:10:29,719 Identified 3.545e+03 octs\n"
     ]
    },
    {
     "data": {
      "text/plain": [
       "[('all', 'particle_identifier'),\n",
       " ('all', 'particle_mass'),\n",
       " ('all', 'particle_position_x'),\n",
       " ('all', 'particle_position_y'),\n",
       " ('all', 'particle_position_z'),\n",
       " ('all', 'virial_radius'),\n",
       " ('halos', 'particle_identifier'),\n",
       " ('halos', 'particle_mass'),\n",
       " ('halos', 'particle_position_x'),\n",
       " ('halos', 'particle_position_y'),\n",
       " ('halos', 'particle_position_z'),\n",
       " ('halos', 'virial_radius')]"
      ]
     },
     "execution_count": 29,
     "metadata": {},
     "output_type": "execute_result"
    }
   ],
   "source": [
    "halos_ds.field_list"
   ]
  },
  {
   "cell_type": "code",
   "execution_count": 8,
   "metadata": {},
   "outputs": [
    {
     "name": "stderr",
     "output_type": "stream",
     "text": [
      "yt : [INFO     ] 2017-06-23 11:19:19,885 Allocating for 9.178e+03 particles (index particle type 'all')\n",
      "yt : [INFO     ] 2017-06-23 11:19:19,905 Identified 3.025e+03 octs\n"
     ]
    }
   ],
   "source": [
    "# Instantiate a catalog using those two paramter files\n",
    "hc = HaloCatalog(data_ds=ds, halos_ds=halos_ds, output_dir=os.path.join(tmpdir, 'halo_catalog'))\n",
    "hc.load()"
   ]
  },
  {
   "cell_type": "code",
   "execution_count": null,
   "metadata": {
    "scrolled": true
   },
   "outputs": [],
   "source": [
    "# create projection plot\n",
    "p = yt.ProjectionPlot(ds, \"x\", \"Dark_Matter_Density\", width=(1.5, 'Mpc'))\n",
    "p.set_zlim(field=\"Dark_Matter_Density\", zmin=1e23, zmax=1e27)\n",
    "#p.annotate_halos(hc, factor = \"particle_mass\")\n",
    "p.annotate_halos(hc)\n",
    "p.display()"
   ]
  },
  {
   "cell_type": "code",
   "execution_count": null,
   "metadata": {
    "collapsed": true
   },
   "outputs": [],
   "source": []
  },
  {
   "cell_type": "code",
   "execution_count": null,
   "metadata": {
    "collapsed": true
   },
   "outputs": [],
   "source": []
  }
 ],
 "metadata": {
  "kernelspec": {
   "display_name": "Python 3",
   "language": "python",
   "name": "python3"
  },
  "language_info": {
   "codemirror_mode": {
    "name": "ipython",
    "version": 3
   },
   "file_extension": ".py",
   "mimetype": "text/x-python",
   "name": "python",
   "nbconvert_exporter": "python",
   "pygments_lexer": "ipython3",
   "version": "3.6.1"
  }
 },
 "nbformat": 4,
 "nbformat_minor": 2
}
