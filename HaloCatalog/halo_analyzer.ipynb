{
 "cells": [
  {
   "cell_type": "code",
   "execution_count": 464,
   "metadata": {
    "collapsed": true
   },
   "outputs": [],
   "source": [
    "# import basic libraries\n",
    "import yt\n",
    "import pickle\n",
    "import numpy as np\n",
    "import matplotlib.pyplot as plt\n",
    "from math import log, log10, pi\n",
    "from astropy import units as u\n",
    "\n",
    "# import halo catalogue func\n",
    "from yt.analysis_modules.halo_analysis.api import *"
   ]
  },
  {
   "cell_type": "code",
   "execution_count": 2,
   "metadata": {
    "collapsed": true
   },
   "outputs": [],
   "source": [
    "import tempfile\n",
    "import shutil\n",
    "import os\n",
    "\n",
    "# Create temporary directory for storing files\n",
    "tmpdir = tempfile.mkdtemp()"
   ]
  },
  {
   "cell_type": "code",
   "execution_count": 465,
   "metadata": {
    "scrolled": true
   },
   "outputs": [
    {
     "name": "stderr",
     "output_type": "stream",
     "text": [
      "yt : [INFO     ] 2017-07-12 14:41:58,612 Parameters: current_time              = 158.01757996843\n",
      "yt : [INFO     ] 2017-07-12 14:41:58,614 Parameters: domain_dimensions         = [128 128 128]\n",
      "yt : [INFO     ] 2017-07-12 14:41:58,618 Parameters: domain_left_edge          = [ 0.  0.  0.]\n",
      "yt : [INFO     ] 2017-07-12 14:41:58,621 Parameters: domain_right_edge         = [ 1.  1.  1.]\n",
      "yt : [INFO     ] 2017-07-12 14:41:58,624 Parameters: cosmological_simulation   = 1\n",
      "yt : [INFO     ] 2017-07-12 14:41:58,626 Parameters: current_redshift          = 4.9999999832278\n",
      "yt : [INFO     ] 2017-07-12 14:41:58,628 Parameters: omega_lambda              = 0.712\n",
      "yt : [INFO     ] 2017-07-12 14:41:58,630 Parameters: omega_matter              = 0.288\n",
      "yt : [INFO     ] 2017-07-12 14:41:58,632 Parameters: hubble_constant           = 0.6933\n"
     ]
    }
   ],
   "source": [
    "# load dataset\n",
    "ds = yt.load('~/../../tigress/cen/LG4_2048_40pc/RD0070/redshift0070')\n",
    "dd = ds.all_data()"
   ]
  },
  {
   "cell_type": "code",
   "execution_count": 466,
   "metadata": {
    "scrolled": true
   },
   "outputs": [
    {
     "name": "stderr",
     "output_type": "stream",
     "text": [
      "Parsing Hierarchy : 100%|██████████| 44216/44216 [00:03<00:00, 11470.43it/s]\n",
      "yt : [INFO     ] 2017-07-12 14:42:06,052 Gathering a field list (this may take a moment.)\n"
     ]
    },
    {
     "name": "stdout",
     "output_type": "stream",
     "text": [
      "level\t# grids\t       # cells\t     # cells^3\n",
      "----------------------------------------------\n",
      "  0\t   256\t       2097152\t           128\n",
      "  1\t    60\t        547304\t            82\n",
      "  2\t   187\t       2071552\t           128\n",
      "  3\t   898\t       9903616\t           215\n",
      "  4\t  5193\t      55377920\t           382\n",
      "  5\t 11014\t      58419496\t           389\n",
      "  6\t 10277\t      39511880\t           341\n",
      "  7\t  7393\t      20631864\t           275\n",
      "  8\t  4828\t      10668936\t           221\n",
      "  9\t  1558\t       5499888\t           177\n",
      " 10\t  1220\t       5897424\t           181\n",
      " 11\t  1332\t       7614472\t           197\n",
      "----------------------------------------------\n",
      "   \t 44216\t     218241504\n",
      "\n",
      "\n",
      "t = 1.58017580e+02 = 3.75573046e+16 s = 1.19011917e+09 years\n",
      "\n",
      "Smallest Cell:\n",
      "\tWidth: 2.751e-05 Mpc\n",
      "\tWidth: 2.751e+01 pc\n",
      "\tWidth: 5.675e+06 AU\n",
      "\tWidth: 8.489e+19 cm\n"
     ]
    }
   ],
   "source": [
    "ds.print_stats()"
   ]
  },
  {
   "cell_type": "code",
   "execution_count": 498,
   "metadata": {
    "scrolled": true
   },
   "outputs": [
    {
     "data": {
      "text/plain": [
       "[('all', 'creation_time'),\n",
       " ('all', 'dynamical_time'),\n",
       " ('all', 'initial_mass'),\n",
       " ('all', 'metallicity_fraction'),\n",
       " ('all', 'particle_index'),\n",
       " ('all', 'particle_mass'),\n",
       " ('all', 'particle_position_x'),\n",
       " ('all', 'particle_position_y'),\n",
       " ('all', 'particle_position_z'),\n",
       " ('all', 'particle_type'),\n",
       " ('all', 'particle_velocity_x'),\n",
       " ('all', 'particle_velocity_y'),\n",
       " ('all', 'particle_velocity_z'),\n",
       " ('all', 'typeia_fraction'),\n",
       " ('enzo', 'Dark_Matter_Density'),\n",
       " ('enzo', 'Density'),\n",
       " ('enzo', 'Electron_Density'),\n",
       " ('enzo', 'H2II_Density'),\n",
       " ('enzo', 'H2I_Density'),\n",
       " ('enzo', 'HII_Density'),\n",
       " ('enzo', 'HI_Density'),\n",
       " ('enzo', 'HM_Density'),\n",
       " ('enzo', 'HeIII_Density'),\n",
       " ('enzo', 'HeII_Density'),\n",
       " ('enzo', 'HeI_Density'),\n",
       " ('enzo', 'Metal_Density'),\n",
       " ('enzo', 'Temperature'),\n",
       " ('enzo', 'TotalEnergy'),\n",
       " ('enzo', 'x-velocity'),\n",
       " ('enzo', 'y-velocity'),\n",
       " ('enzo', 'z-velocity'),\n",
       " ('io', 'creation_time'),\n",
       " ('io', 'dynamical_time'),\n",
       " ('io', 'initial_mass'),\n",
       " ('io', 'metallicity_fraction'),\n",
       " ('io', 'particle_index'),\n",
       " ('io', 'particle_mass'),\n",
       " ('io', 'particle_position_x'),\n",
       " ('io', 'particle_position_y'),\n",
       " ('io', 'particle_position_z'),\n",
       " ('io', 'particle_type'),\n",
       " ('io', 'particle_velocity_x'),\n",
       " ('io', 'particle_velocity_y'),\n",
       " ('io', 'particle_velocity_z'),\n",
       " ('io', 'typeia_fraction')]"
      ]
     },
     "execution_count": 498,
     "metadata": {},
     "output_type": "execute_result"
    }
   ],
   "source": [
    "ds.field_list"
   ]
  },
  {
   "cell_type": "code",
   "execution_count": 467,
   "metadata": {
    "collapsed": true
   },
   "outputs": [],
   "source": [
    "# specify boundaries of zoom-in box\n",
    "# scaling factor multiplied by info from text file \n",
    "# units in cm\n",
    "scaling = 2.22535525e+25 # scales dataset coords to cm\n",
    "\n",
    "xmin = scaling*0.39319589 * u.cm\n",
    "ymin = scaling*0.42984636 * u.cm\n",
    "zmin = scaling*0.41706725 * u.cm\n",
    "\n",
    "xmax = scaling*0.56298484 * u.cm\n",
    "ymax = scaling*0.55089246 * u.cm\n",
    "zmax = scaling*0.56698254 * u.cm"
   ]
  },
  {
   "cell_type": "code",
   "execution_count": 468,
   "metadata": {
    "scrolled": true
   },
   "outputs": [
    {
     "name": "stderr",
     "output_type": "stream",
     "text": [
      "yt : [INFO     ] 2017-07-12 14:42:11,436 Parameters: current_time              = 3.75573046409e+16\n",
      "yt : [INFO     ] 2017-07-12 14:42:11,437 Parameters: domain_dimensions         = [2 2 2]\n",
      "yt : [INFO     ] 2017-07-12 14:42:11,438 Parameters: domain_left_edge          = [ 0.  0.  0.]\n",
      "yt : [INFO     ] 2017-07-12 14:42:11,440 Parameters: domain_right_edge         = [  2.22535525e+25   2.22535525e+25   2.22535525e+25]\n",
      "yt : [INFO     ] 2017-07-12 14:42:11,441 Parameters: cosmological_simulation   = 1\n",
      "yt : [INFO     ] 2017-07-12 14:42:11,441 Parameters: current_redshift          = 4.99999998323\n",
      "yt : [INFO     ] 2017-07-12 14:42:11,442 Parameters: omega_lambda              = 0.712\n",
      "yt : [INFO     ] 2017-07-12 14:42:11,443 Parameters: omega_matter              = 0.288\n",
      "yt : [INFO     ] 2017-07-12 14:42:11,444 Parameters: hubble_constant           = 0.6933\n"
     ]
    }
   ],
   "source": [
    "# load halo dataset\n",
    "halos_ds = yt.load('./LG4_2048_40pc/rd0070/halo_catalogs/catalog/catalog0070_thres160.0.h5')"
   ]
  },
  {
   "cell_type": "code",
   "execution_count": 469,
   "metadata": {
    "scrolled": false
   },
   "outputs": [
    {
     "name": "stderr",
     "output_type": "stream",
     "text": [
      "yt : [INFO     ] 2017-07-12 14:42:11,450 Allocating for 9.178e+03 particles (index particle type 'all')\n",
      "yt : [INFO     ] 2017-07-12 14:42:11,457 Identified 3.025e+03 octs\n"
     ]
    },
    {
     "data": {
      "text/plain": [
       "[('all', 'particle_identifier'),\n",
       " ('all', 'particle_mass'),\n",
       " ('all', 'particle_position_x'),\n",
       " ('all', 'particle_position_y'),\n",
       " ('all', 'particle_position_z'),\n",
       " ('all', 'virial_radius'),\n",
       " ('halos', 'particle_identifier'),\n",
       " ('halos', 'particle_mass'),\n",
       " ('halos', 'particle_position_x'),\n",
       " ('halos', 'particle_position_y'),\n",
       " ('halos', 'particle_position_z'),\n",
       " ('halos', 'virial_radius')]"
      ]
     },
     "execution_count": 469,
     "metadata": {},
     "output_type": "execute_result"
    }
   ],
   "source": [
    "halos_ds.field_list"
   ]
  },
  {
   "cell_type": "code",
   "execution_count": 8,
   "metadata": {
    "collapsed": true
   },
   "outputs": [],
   "source": [
    "# Instantiate a catalog using those two paramter files\n",
    "hc = HaloCatalog(halos_ds=halos_ds, data_ds=ds, output_dir=os.path.join(tmpdir, 'halo_catalog'))\n",
    "hc.load()"
   ]
  },
  {
   "cell_type": "markdown",
   "metadata": {
    "scrolled": true
   },
   "source": [
    "# create projection plot\n",
    "p = yt.ProjectionPlot(sp, \"x\", \"Dark_Matter_Density\", width=(1.5, 'Mpc'))\n",
    "p.set_zlim(field=\"Dark_Matter_Density\", zmin=1e23, zmax=1e27)\n",
    "#p.annotate_halos(hc, factor = \"particle_mass\")\n",
    "p.annotate_halos(hc)\n",
    "p.show()"
   ]
  },
  {
   "cell_type": "code",
   "execution_count": 133,
   "metadata": {
    "collapsed": true
   },
   "outputs": [],
   "source": [
    "hc.catalog.sort(key= lambda a : a['virial_radius'].to_ndarray())"
   ]
  },
  {
   "cell_type": "code",
   "execution_count": 8,
   "metadata": {
    "collapsed": true
   },
   "outputs": [],
   "source": [
    "satellite = []\n",
    "nonsatellite = []"
   ]
  },
  {
   "cell_type": "code",
   "execution_count": 70,
   "metadata": {
    "collapsed": true
   },
   "outputs": [],
   "source": [
    "for halo1 in hc.halo_list:\n",
    "    # find first index\n",
    "    index1 = halo1.quantities.get('particle_identifier')\n",
    "    \n",
    "    # create bool to check if this halo isn't satellite\n",
    "    isSatellite = False\n",
    "    \n",
    "    # find parameters of halo1\n",
    "    x1 = halo1.quantities.get('particle_position_x') * u.cm\n",
    "    y1 = halo1.quantities.get('particle_position_y') * u.cm\n",
    "    z1 = halo1.quantities.get('particle_position_z') * u.cm\n",
    "    radius1 = halo1.quantities.get('virial_radius') * u.cm\n",
    "    \n",
    "    # loop through second halo\n",
    "    for halo2 in hc.halo_list:\n",
    "        # find second index\n",
    "        index2 = halo1.quantities.get('particle_identifier')\n",
    "        \n",
    "        if index2 <= index1:\n",
    "            continue\n",
    "        \n",
    "        # find parameters of halo2\n",
    "        x2 = halo2.quantities.get('particle_position_x') * u.cm\n",
    "        y2 = halo2.quantities.get('particle_position_y') * u.cm\n",
    "        z2 = halo2.quantities.get('particle_position_z') * u.cm\n",
    "        radius2 = halo2.quantities.get('virial_radius') * u.cm\n",
    "        \n",
    "        # calculate dist between halo centers\n",
    "        xdist = np.absolute(x2 - x1)\n",
    "        ydist = np.absolute(y2 - y1)\n",
    "        zdist = np.absolute(z2 - z1)\n",
    "        netdist = (xdist**2 + ydist**2 + zdist**2)**0.5\n",
    "        \n",
    "        # if netdist < both radii, halo with smaller radius is satellite\n",
    "        if netdist < radius1 and netdist < radius2:\n",
    "            # check which radius smaller, if so, add index to list\n",
    "            if radius2 < radius1:\n",
    "                satellite.append(index2)\n",
    "            else:\n",
    "                satellite.append(index1)\n",
    "                # set bool to true for later\n",
    "                isSatellite = True\n",
    "        \n",
    "        # if netdist only < rad1, halo2 is satellite\n",
    "        elif netdist < radius1:\n",
    "            satellite.append(index2)\n",
    "        \n",
    "        # if netdist only < rad2, halo 1 is satellite\n",
    "        elif netdist < radius2:\n",
    "            satellite.append(index1)\n",
    "            # set bool to true for later\n",
    "            isSatellite = True\n",
    "        \n",
    "    # after loop, if satellite bool still false, and halo1 not in satellite\n",
    "    # list, then add to non-satellite list\n",
    "    if not isSatellite and index1 not in satellite:\n",
    "        nonsatellite.append(index1)\n",
    "    \n",
    "    "
   ]
  },
  {
   "cell_type": "code",
   "execution_count": 9,
   "metadata": {
    "collapsed": true
   },
   "outputs": [],
   "source": [
    "halo1 = hc.halo_list[675]\n",
    "halo2 = hc.halo_list[932]\n",
    "\n",
    "# find first index\n",
    "index1 = halo1.quantities.get('particle_identifier')\n",
    "\n",
    "# find parameters of halo1\n",
    "x1 = halo1.quantities.get('particle_position_x') * u.cm\n",
    "y1 = halo1.quantities.get('particle_position_y') * u.cm\n",
    "z1 = halo1.quantities.get('particle_position_z') * u.cm\n",
    "radius1 = halo1.quantities.get('virial_radius') * u.cm\n",
    "mass1 = halo1.quantities.get('particle_mass').in_units('Msun')\n",
    "\n",
    "# find second index\n",
    "index2 = halo1.quantities.get('particle_identifier')\n",
    "        \n",
    "# find parameters of halo2\n",
    "x2 = halo2.quantities.get('particle_position_x') * u.cm\n",
    "y2 = halo2.quantities.get('particle_position_y') * u.cm\n",
    "z2 = halo2.quantities.get('particle_position_z') * u.cm\n",
    "radius2 = halo2.quantities.get('virial_radius') * u.cm\n",
    "mass2 = halo2.quantities.get('particle_mass').in_units('Msun')\n",
    "\n",
    "# calculate dist between halo centers\n",
    "xdist = np.absolute(x2 - x1)\n",
    "ydist = np.absolute(y2 - y1)\n",
    "zdist = np.absolute(z2 - z1)\n",
    "netdist = (xdist**2 + ydist**2 + zdist**2)**0.5\n",
    "        \n"
   ]
  },
  {
   "cell_type": "code",
   "execution_count": 10,
   "metadata": {},
   "outputs": [
    {
     "name": "stdout",
     "output_type": "stream",
     "text": [
      "distance  =  2.9346901327079534e+24 cm\n",
      "mass1     =  17577704.192752708 Msun\n",
      "mass2     =  19093023.51971414 Msun\n",
      "v_radius1 =  3.9085724094299096e+21 cm\n",
      "v_radius2 =  4.472863867292526e+21 cm\n"
     ]
    }
   ],
   "source": [
    "print('distance  = ', netdist)\n",
    "print('mass1     = ', mass1)\n",
    "print('mass2     = ', mass2)\n",
    "print('v_radius1 = ', radius1)\n",
    "print('v_radius2 = ', radius2)"
   ]
  },
  {
   "cell_type": "code",
   "execution_count": 25,
   "metadata": {},
   "outputs": [
    {
     "name": "stdout",
     "output_type": "stream",
     "text": [
      "3.1682811356454203e+24 cm \n",
      " 8.026487563195402e+23 cm \n",
      " 9.789640593412424e+23 cm\n"
     ]
    }
   ],
   "source": [
    "print(xdist, '\\n', ydist, '\\n', zdist)"
   ]
  },
  {
   "cell_type": "code",
   "execution_count": 26,
   "metadata": {},
   "outputs": [
    {
     "name": "stdout",
     "output_type": "stream",
     "text": [
      "1.1963596279206126e+25 cm \n",
      " 8.795315143560705e+24 cm \n",
      " 1.2021895291189851e+25 cm \n",
      " 1.121924653487031e+25 cm\n"
     ]
    }
   ],
   "source": [
    "print(x1, '\\n', x2, '\\n', y1, '\\n', y2)"
   ]
  },
  {
   "cell_type": "markdown",
   "metadata": {},
   "source": []
  },
  {
   "cell_type": "code",
   "execution_count": 195,
   "metadata": {
    "scrolled": true
   },
   "outputs": [
    {
     "name": "stdout",
     "output_type": "stream",
     "text": [
      "Largest Mass  Index:     8386.0 dimensionless\n",
      "Largest Mass:            1319554616983.5603 Msun\n",
      "Largest Mass v_Radius:   2.7258529196161554e+23 cm\n",
      "\n",
      "Largest x Value Index:   4981.0 dimensionless\n",
      "Largest x Value:         6.39637080525251 Mpc\n",
      "\n",
      "Largest y Value Index:   4981.0 dimensionless\n",
      "Largest y Value:         7.058640059544112 Mpc\n",
      "\n",
      "Largest z Value Index:   7331.0 dimensionless\n",
      "Largest z Value:         7.057597992478424 Mpc\n"
     ]
    }
   ],
   "source": [
    "# check largest x,y,z of all halos (in Mpc) \n",
    "# largest halo mass and its virial radius\n",
    "\n",
    "# declare variables needed\n",
    "mass_index = 0\n",
    "largest_mass = 0\n",
    "v_radius = 0\n",
    "\n",
    "largest_x = 0\n",
    "largest_y = 0\n",
    "largest_z = 0\n",
    "x_index = 0\n",
    "y_index = 0\n",
    "z_index = 0\n",
    "\n",
    "# find largest parameters\n",
    "for halo1 in hc.halo_list:\n",
    "    # find index\n",
    "    index1 = halo1.quantities.get('particle_identifier')\n",
    "\n",
    "    # find parameters of halo1\n",
    "    x1 = halo1.quantities.get('particle_position_x').in_units('Mpc')\n",
    "    y1 = halo1.quantities.get('particle_position_y').in_units('Mpc')\n",
    "    z1 = halo1.quantities.get('particle_position_z').in_units('Mpc')\n",
    "    radius1 = halo1.quantities.get('virial_radius').in_units('cm')\n",
    "    mass1 = halo1.quantities.get('particle_mass').in_units('Msun')\n",
    "    \n",
    "    # compare mass to stored largest mass\n",
    "    if mass1 > largest_mass:\n",
    "        # if so, replace mass, index, and v_r values\n",
    "        largest_mass = mass1\n",
    "        mass_index = index1\n",
    "        v_radius = radius1\n",
    "        \n",
    "    # compare x val\n",
    "    if x1 > largest_x:\n",
    "        largest_x = x1\n",
    "        x_index = index1\n",
    "        \n",
    "    # compare y val\n",
    "    if y1 > largest_y:\n",
    "        largest_y = y1\n",
    "        y_index = index1\n",
    "        \n",
    "    # compare z val\n",
    "    if z1 > largest_z:\n",
    "        largest_z = z1\n",
    "        z_index = index1\n",
    "        \n",
    "# print results\n",
    "print('Largest Mass  Index:    ', mass_index)\n",
    "print('Largest Mass:           ', largest_mass)\n",
    "print('Largest Mass v_Radius:  ', v_radius)\n",
    "print('')\n",
    "\n",
    "print('Largest x Value Index:  ', x_index)\n",
    "print('Largest x Value:        ', largest_x)\n",
    "print('')\n",
    "print('Largest y Value Index:  ', y_index)\n",
    "print('Largest y Value:        ', largest_y)\n",
    "print('')\n",
    "print('Largest z Value Index:  ', z_index)\n",
    "print('Largest z Value:        ', largest_z)"
   ]
  },
  {
   "cell_type": "code",
   "execution_count": 439,
   "metadata": {
    "collapsed": true,
    "scrolled": true
   },
   "outputs": [],
   "source": [
    "# find radius threshold\n",
    "# 200 times (the mean density of the universe times\n",
    "# (1-Omega_Baryon/Omega_matter))\n",
    "Omega_scale = 1 - 0.16\n",
    "mean_dens = dd.quantities.weighted_average_quantity('density', 'ones') \n",
    "threshold = 200 * mean_dens * Omega_scale"
   ]
  },
  {
   "cell_type": "code",
   "execution_count": 888,
   "metadata": {
    "scrolled": true
   },
   "outputs": [
    {
     "data": {
      "text/plain": [
       "YTArray([  3.73130797e+45,   1.92233981e+46]) g"
      ]
     },
     "execution_count": 888,
     "metadata": {},
     "output_type": "execute_result"
    }
   ],
   "source": [
    "dd.quantities.total_mass()"
   ]
  },
  {
   "cell_type": "code",
   "execution_count": 931,
   "metadata": {},
   "outputs": [
    {
     "data": {
      "text/latex": [
       "$1.9223398 \\times 10^{46} \\; \\mathrm{g}$"
      ],
      "text/plain": [
       "<Quantity 1.9223398053962725e+46 g>"
      ]
     },
     "execution_count": 931,
     "metadata": {},
     "output_type": "execute_result"
    }
   ],
   "source": [
    "tot_mass = dd.quantities.total_quantity('particle_mass') * u.g\n",
    "tot_mass"
   ]
  },
  {
   "cell_type": "code",
   "execution_count": 939,
   "metadata": {},
   "outputs": [
    {
     "data": {
      "text/latex": [
       "$9.6643698 \\times 10^{12} \\; \\mathrm{M_{\\odot}}$"
      ],
      "text/plain": [
       "<Quantity 9664369842623.662 solMass>"
      ]
     },
     "execution_count": 939,
     "metadata": {},
     "output_type": "execute_result"
    }
   ],
   "source": [
    "tot_mass.to('Msun')"
   ]
  },
  {
   "cell_type": "code",
   "execution_count": 936,
   "metadata": {},
   "outputs": [
    {
     "data": {
      "text/plain": [
       "(<Quantity 1.7443438859221744e-30 g / cm3>,\n",
       " <Quantity 2.930497728349253e-28 g / cm3>)"
      ]
     },
     "execution_count": 936,
     "metadata": {},
     "output_type": "execute_result"
    }
   ],
   "source": [
    "mean_dens2 = tot_mass / (scaling * u.cm)**3\n",
    "mean_dens2, 200 * mean_dens2 * Omega_scale"
   ]
  },
  {
   "cell_type": "code",
   "execution_count": 937,
   "metadata": {},
   "outputs": [
    {
     "data": {
      "text/plain": [
       "(2.930497728349253e-28, 7.891257376493692e-26)"
      ]
     },
     "execution_count": 937,
     "metadata": {},
     "output_type": "execute_result"
    }
   ],
   "source": [
    "threshold = 200 * mean_dens2 * Omega_scale\n",
    "threshold.value, threshold2.value"
   ]
  },
  {
   "cell_type": "code",
   "execution_count": 933,
   "metadata": {
    "collapsed": true
   },
   "outputs": [],
   "source": [
    "# # store threshold in file\n",
    "# with open('./LG4_2048_40pc/rd0070/rad_threshold0070', 'wb') as file:\n",
    "#     pickle.dump(threshold, file)"
   ]
  },
  {
   "cell_type": "code",
   "execution_count": 943,
   "metadata": {},
   "outputs": [
    {
     "data": {
      "text/latex": [
       "$2.6024258 \\times 10^{15} \\; \\mathrm{M_{\\odot}}$"
      ],
      "text/plain": [
       "<Quantity 2602425829305338.5 solMass>"
      ]
     },
     "execution_count": 943,
     "metadata": {},
     "output_type": "execute_result"
    }
   ],
   "source": [
    "((threshold2 / (200 * Omega_scale)) * (scaling * u.cm)**3).to('Msun')"
   ]
  },
  {
   "cell_type": "code",
   "execution_count": 63,
   "metadata": {
    "collapsed": true
   },
   "outputs": [],
   "source": [
    "# load threshold from file\n",
    "with open('./LG4_2048_40pc/rd0070/rad_threshold0070', 'rb') as file:\n",
    "    threshold = pickle.load(file)"
   ]
  },
  {
   "cell_type": "code",
   "execution_count": 12,
   "metadata": {
    "collapsed": true
   },
   "outputs": [],
   "source": [
    "# Instantiate a catalog using those two paramter files\n",
    "hc = HaloCatalog(halos_ds=halos_ds, data_ds=ds, output_dir=os.path.join(tmpdir, 'halo_catalog'))\n",
    "hc.load()"
   ]
  },
  {
   "cell_type": "code",
   "execution_count": 849,
   "metadata": {
    "scrolled": true
   },
   "outputs": [
    {
     "data": {
      "text/plain": [
       "YTArray([  4.52156375e+08,   3.45919695e+09]) Msun"
      ]
     },
     "execution_count": 849,
     "metadata": {},
     "output_type": "execute_result"
    }
   ],
   "source": [
    "sp1.quantities.total_mass().in_units('Msun')"
   ]
  },
  {
   "cell_type": "code",
   "execution_count": 496,
   "metadata": {
    "collapsed": true
   },
   "outputs": [],
   "source": [
    "# load redshift and Omega values from parameter file\n",
    "with open('./LG4_2048_40pc/rd0070/redshift0070', 'rt') as param_file:\n",
    "    param_contents = param_file.read()\n",
    "    \n",
    "    #redshift\n",
    "    cindex1 = param_contents.find('CosmologyCurrentRedshift')\n",
    "    cindex_eq = param_contents.find('=', cindex1)\n",
    "    cindex2 = param_contents.find('\\n', cindex_eq, cindex_eq + 100)\n",
    "    redshift = float(param_contents[cindex_eq+2:cindex2])\n",
    "    \n",
    "    # omega_m\n",
    "    cindex1 = param_contents.find('CosmologyOmegaMatterNow')\n",
    "    cindex_eq = param_contents.find('=', cindex1)\n",
    "    cindex2 = param_contents.find('\\n', cindex_eq, cindex_eq + 100)\n",
    "    omega_m = float(param_contents[cindex_eq+2:cindex2])\n",
    "    \n",
    "    # hubble const now\n",
    "    cindex1 = param_contents.find('CosmologyHubbleConstantNow')\n",
    "    cindex_eq = param_contents.find('=', cindex1)\n",
    "    cindex2 = param_contents.find('\\n', cindex_eq, cindex_eq + 100)\n",
    "    hubb_now = float(param_contents[cindex_eq+2:cindex2]) * 100 *(u.km / u.s / u.Mpc)\n",
    "    hubb_now = hubb_now.to('s**-1')\n",
    "    \n",
    "    # cosmological constant\n",
    "    cindex1 = param_contents.find('CosmologyOmegaLambdaNow')\n",
    "    cindex_eq = param_contents.find('=', cindex1)\n",
    "    cindex2 = param_contents.find('\\n', cindex_eq, cindex_eq + 100)\n",
    "    cos_const = float(param_contents[cindex_eq+2:cindex2])\n",
    "    \n",
    "    # omega baryon as specified by Renyue\n",
    "    omega_b = 0.048\n",
    "    \n",
    "# calculate hubble const for simulation\n",
    "hubb_z = hubb_now * ((omega_m * (1 + redshift)**3) + (1 - omega_m))**0.5\n",
    "\n",
    "# calculate crit density and threshold\n",
    "GRAV_CONST = (6.67408e-11 * u.m**3 /(u.kg * u.s**2)).to('cm^3*g^-1*s^-2')\n",
    "crit_dens = (3 * hubb_z**2) / (8 * pi * GRAV_CONST)\n",
    "omegas = (1 - (omega_b / omega_m))\n",
    "threshold = 200 * omegas * crit_dens\n",
    "\n",
    "# min and max bounds for radial profile\n",
    "# min = 1 kpc proper\n",
    "# max = 0.5 Mpc comoving\n",
    "# convert to centimeters value (without astropy units)\n",
    "rad_min = 1 * u.kpc\n",
    "rad_max = 0.5 * u.Mpc\n",
    "\n",
    "rad_min = rad_min.to('cm').value\n",
    "rad_max = rad_max / (1 + redshift) # convert to physical\n",
    "rad_max = rad_max.to('cm').value"
   ]
  },
  {
   "cell_type": "code",
   "execution_count": 497,
   "metadata": {},
   "outputs": [
    {
     "data": {
      "text/plain": [
       "(<Quantity 2.2468322813893816e-18 1 / s>,\n",
       " <Quantity 1.782235172153336e-17 1 / s>,\n",
       " <Quantity 5.680937446701594e-28 g / cm3>,\n",
       " <Quantity 9.46822907783599e-26 g / cm3>,\n",
       " 3.085677581467192e+21,\n",
       " 2.571397991743993e+23)"
      ]
     },
     "execution_count": 497,
     "metadata": {},
     "output_type": "execute_result"
    }
   ],
   "source": [
    "hubb_now.to('s**-1'), hubb_z, crit_dens, threshold, rad_min, rad_max"
   ]
  },
  {
   "cell_type": "code",
   "execution_count": 384,
   "metadata": {},
   "outputs": [
    {
     "name": "stdout",
     "output_type": "stream",
     "text": [
      "4.9999999832278 0.288 2.2468322813893816e-18 1 / s 0.712\n"
     ]
    }
   ],
   "source": [
    "print(redshift, omega_m, hubb_now, cos_const)\n"
   ]
  },
  {
   "cell_type": "code",
   "execution_count": 460,
   "metadata": {},
   "outputs": [
    {
     "data": {
      "text/plain": [
       "8336"
      ]
     },
     "execution_count": 460,
     "metadata": {},
     "output_type": "execute_result"
    }
   ],
   "source": [
    "desired_ind = 0\n",
    "ind = 0\n",
    "for halo in halo_list:\n",
    "    if halo[0] == 8337:\n",
    "        desired_ind = ind\n",
    "    \n",
    "    ind += 1\n",
    "desired_ind\n",
    "halo_list[1017][0]"
   ]
  },
  {
   "cell_type": "code",
   "execution_count": 476,
   "metadata": {},
   "outputs": [
    {
     "name": "stdout",
     "output_type": "stream",
     "text": [
      "3.847154904726792 Mpc\n",
      "3.529157389131719 Mpc\n",
      "3.8811661994484092 Mpc\n",
      "Inside\n",
      "8338\n",
      "1.9826175352539363e+22 cm\n",
      "304579184.7167829 solMass\n",
      "(8338, 3847.1549047267918, 3529.157389131719, 3881.1661994484093, 304579184.7167829, 6.42522584719053)\n",
      "(2835.683622116713, 3100.002604499464, 3007.8411301457318)\n",
      "(4060.1820387491807, 3972.9731823229044, 4089.012992236858)\n"
     ]
    }
   ],
   "source": [
    "# successes: 8571, 8642, 2\n",
    "# noteworthy halos: 9101\n",
    "\n",
    "halo1 = index_sorted_list[8338]\n",
    "# find parameters of halo\n",
    "index1 = halo1[0]\n",
    "x1 = halo1[1]\n",
    "y1 = halo1[2]\n",
    "z1 = halo1[3]\n",
    "center = [x1.value/scaling, y1.value/scaling, z1.value/scaling]\n",
    "mass1 = halo1[4]\n",
    "radius1 = halo1[5]\n",
    "\n",
    "print(x1.to('Mpc'))\n",
    "print(y1.to('Mpc'))\n",
    "print(z1.to('Mpc'))\n",
    "if xmin <= x1 < xmax and ymin <= y1 < ymax and zmin <= z1 < zmax:\n",
    "    print('Inside')\n",
    "else:\n",
    "    print('Outside')\n",
    "print(index1)\n",
    "print(radius1)\n",
    "\n",
    "print(mass1.to('Msun'))\n",
    "print((halo1[0], halo1[1].to('kpc').value, halo1[2].to('kpc').value, halo1[3].to('kpc').value, halo1[4].value, halo1[5].to('kpc').value))\n",
    "print((xmin.to('kpc').value, ymin.to('kpc').value, zmin.to('kpc').value))\n",
    "print((xmax.to('kpc').value, ymax.to('kpc').value, zmax.to('kpc').value))"
   ]
  },
  {
   "cell_type": "code",
   "execution_count": 477,
   "metadata": {},
   "outputs": [
    {
     "data": {
      "text/plain": [
       "(9.46822907783599e-26,\n",
       " 6.520402212373004e-31 g/cm**3,\n",
       " 9.212916172321747e-22 g/cm**3)"
      ]
     },
     "execution_count": 477,
     "metadata": {},
     "output_type": "execute_result"
    }
   ],
   "source": [
    "sp1 = ds.sphere(center, (rad_max, 'cm'))\n",
    "rho_min, rho_max = sp1.quantities.extrema(\"density\")\n",
    "threshold.value, rho_min, rho_max"
   ]
  },
  {
   "cell_type": "code",
   "execution_count": 478,
   "metadata": {
    "collapsed": true
   },
   "outputs": [],
   "source": [
    "# kpc to cm: 3.086e+21\n",
    "rp = yt.create_profile(sp1, 'radius', 'Dark_Matter_Density', accumulation=True, \n",
    "                           units = {'radius': 'cm', 'Dark_Matter_Density': 'g/cm**3'}, \n",
    "                           logs = {'radius': True, 'Dark_Matter_Density': True}, \n",
    "                           n_bins = 64, \n",
    "                           weight_field='cell_volume',\n",
    "                           extrema = {'radius': (rad_min, rad_max)})"
   ]
  },
  {
   "cell_type": "code",
   "execution_count": 479,
   "metadata": {
    "scrolled": true
   },
   "outputs": [
    {
     "name": "stdout",
     "output_type": "stream",
     "text": [
      "[  3.33167229e-25   3.33365976e-25   3.46403521e-25   3.21511983e-25\n",
      "   3.12722104e-25   3.00748398e-25   2.83859561e-25   2.60967540e-25\n",
      "   2.37534115e-25   2.10519539e-25   1.90776621e-25   1.70122228e-25\n",
      "   1.51181112e-25   1.34073689e-25   1.20039935e-25   1.08486583e-25\n",
      "   9.80392022e-26   8.74206146e-26   7.87648071e-26   7.09219839e-26\n",
      "   6.42046377e-26   5.73874499e-26   5.28513450e-26   4.69956282e-26\n",
      "   4.17294435e-26   3.62967964e-26   3.15123226e-26   2.72566308e-26\n",
      "   2.42170744e-26   2.13455368e-26   1.87380068e-26   1.64963398e-26\n",
      "   1.48559050e-26   1.31777939e-26   1.15458509e-26   1.01788384e-26\n",
      "   8.96165447e-27   7.76732320e-27   6.84768998e-27   6.09348430e-27\n",
      "   5.33822928e-27   4.67876957e-27   4.13456251e-27   3.66244253e-27\n",
      "   3.23475457e-27   2.88524335e-27   2.60274079e-27   2.42324359e-27\n",
      "   2.26011886e-27   2.09222161e-27   1.90429806e-27   1.77610840e-27\n",
      "   1.65433884e-27   1.53393902e-27   1.47992232e-27   1.49854906e-27\n",
      "   1.50696957e-27   1.56914870e-27   1.54027290e-27   1.44109834e-27\n",
      "   1.34722849e-27   1.27417055e-27   1.18237265e-27   1.11402443e-27] g/cm**3\n",
      "[ True  True  True  True  True  True  True  True  True  True  True  True\n",
      "  True  True  True  True  True False False False False False False False\n",
      " False False False False False False False False False False False False\n",
      " False False False False False False False False False False False False\n",
      " False False False False False False False False False False False False\n",
      " False False False False]\n",
      "[  3.33167229e-25   3.33365976e-25   3.46403521e-25   3.21511983e-25\n",
      "   3.12722104e-25   3.00748398e-25   2.83859561e-25   2.60967540e-25\n",
      "   2.37534115e-25   2.10519539e-25   1.90776621e-25   1.70122228e-25\n",
      "   1.51181112e-25   1.34073689e-25   1.20039935e-25   1.08486583e-25\n",
      "   9.80392022e-26] g/cm**3\n",
      "[  3.19606904e+21   3.42475056e+21   3.66979444e+21   3.93237142e+21\n",
      "   4.21373602e+21   4.51523249e+21   4.83830130e+21   5.18448597e+21\n",
      "   5.55544045e+21   5.95293704e+21   6.37887486e+21   6.83528891e+21\n",
      "   7.32435977e+21   7.84842408e+21   8.40998565e+21   9.01172743e+21\n",
      "   9.65652437e+21] cm\n"
     ]
    }
   ],
   "source": [
    "bool_mask = rp['Dark_Matter_Density'] > threshold.value\n",
    "print(rp['Dark_Matter_Density'])\n",
    "print(bool_mask)\n",
    "print(rp['Dark_Matter_Density'][bool_mask])\n",
    "print(rp.x[bool_mask])"
   ]
  },
  {
   "cell_type": "code",
   "execution_count": 493,
   "metadata": {
    "scrolled": true
   },
   "outputs": [
    {
     "name": "stdout",
     "output_type": "stream",
     "text": [
      "9.656524367928316e+21\n",
      "0.584015576366\n",
      "[False False False False False False False False False False False False\n",
      " False False False False False  True  True  True  True  True  True  True\n",
      "  True  True  True  True  True  True  True  True  True  True  True  True\n",
      "  True  True  True  True  True  True  True  True  True  True  True  True\n",
      "  True  True  True  True  True  True  True  True  True  True  True  True\n",
      "  True  True  True  True] [  1.03474571e+22   1.10878266e+22   1.18811703e+22   1.27312783e+22\n",
      "   1.36422124e+22   1.46183245e+22   1.56642784e+22   1.67850711e+22\n",
      "   1.79860575e+22   1.92729756e+22   2.06519737e+22   2.21296404e+22\n",
      "   2.37130354e+22   2.54097237e+22   2.72278116e+22   2.91759852e+22\n",
      "   3.12635523e+22   3.35004866e+22   3.58974756e+22   3.84659712e+22\n",
      "   4.12182449e+22   4.41674461e+22   4.73276653e+22   5.07140009e+22\n",
      "   5.43426318e+22   5.82308943e+22   6.23973654e+22   6.68619512e+22\n",
      "   7.16459819e+22   7.67723142e+22   8.22654401e+22   8.81516038e+22\n",
      "   9.44589278e+22   1.01217546e+23   1.08459750e+23   1.16220139e+23\n",
      "   1.24535791e+23   1.33446435e+23   1.42994644e+23   1.53226035e+23\n",
      "   1.64189491e+23   1.75937392e+23   1.88525865e+23   2.02015054e+23\n",
      "   2.16469407e+23   2.31957982e+23   2.48554777e+23] cm\n"
     ]
    }
   ],
   "source": [
    "# find radius and density where density > threshold\n",
    "thresh_rad = rp.x[bool_mask]\n",
    "thresh_dens = rp['Dark_Matter_Density'][bool_mask]\n",
    "\n",
    "if thresh_rad.size > 0:\n",
    "    print(thresh_rad[-1].value)\n",
    "    print(thresh_rad[-1].value / rad_val)\n",
    "else:\n",
    "    print('All False')\n",
    "\n",
    "false_mask = rp['Dark_Matter_Density'] < threshold.value\n",
    "false_rad = rp.x[false_mask]\n",
    "print(false_mask, false_rad)"
   ]
  },
  {
   "cell_type": "code",
   "execution_count": 481,
   "metadata": {},
   "outputs": [
    {
     "name": "stdout",
     "output_type": "stream",
     "text": [
      "9.656524367928316e+21 cm\n",
      "9.803920222118342e-26 g/cm**3\n",
      "17\n",
      "17\n",
      "64\n",
      "False\n"
     ]
    },
    {
     "data": {
      "text/latex": [
       "$[9.8039202 \\times 10^{-26}] \\; \\mathrm{\\frac{g}{cm^{3}}}$"
      ],
      "text/plain": [
       "<Quantity [  9.80392022e-26] g / cm3>"
      ]
     },
     "execution_count": 481,
     "metadata": {},
     "output_type": "execute_result"
    }
   ],
   "source": [
    "rad1 = thresh_rad[-1]\n",
    "dens1 = thresh_dens[-1]\n",
    "\n",
    "print(rad1)\n",
    "print(dens1)\n",
    "\n",
    "index = np.where(rp['Dark_Matter_Density']==dens1)\n",
    "print(index[0][0] + 1)\n",
    "print(thresh_rad.size)\n",
    "print(rp.x.size)\n",
    "print(index[0][0] + 1 == rp.x.size)\n",
    "rp['Dark_Matter_Density'][index[0]] * u.g / (u.cm**3)\n"
   ]
  },
  {
   "cell_type": "code",
   "execution_count": 483,
   "metadata": {},
   "outputs": [
    {
     "name": "stdout",
     "output_type": "stream",
     "text": [
      "method2\n"
     ]
    }
   ],
   "source": [
    "# check if density is ever above threshold\n",
    "if thresh_rad.size > 1:\n",
    "    # initialize appended quantities\n",
    "    new_mass = 0 * u.g\n",
    "    new_rad = 0 * u.cm\n",
    "\n",
    "    # find boundary radius and density at that radius, and index of that bin \n",
    "    rad1 = thresh_rad[-1] * u.cm\n",
    "    dens1 = thresh_dens[-1] * u.g / (u.cm**3)\n",
    "    index1 = np.where(rp['Dark_Matter_Density']==thresh_dens[-1])[0]\n",
    "\n",
    "    # in the case that all density are above threshold\n",
    "    if index1[0] + 1 == rp.x.size:\n",
    "        print('method1')\n",
    "        new_rad = thresh_rad[-1] * u.cm\n",
    "        new_dens = thresh_dens[-1] * u.g / (u.cm**3)\n",
    "    else:\n",
    "        print('method2')\n",
    "        rad2 = rp.x[index1 + 1][0] * u.cm\n",
    "        dens2 = rp['Dark_Matter_Density'][index1[0] + 1] * u.g / (u.cm**3)\n",
    "\n",
    "        # use interpolation to find new radius and new density\n",
    "        new_rad = ((threshold - dens2)*rad1 + (dens1 - threshold)*rad2) / (dens1 - dens2)\n",
    "        new_dens = threshold\n",
    "\n",
    "\n",
    "    # find new mass = dens * vol\n",
    "    new_mass = new_dens * (4/3 * pi * (new_rad**3))\n",
    "\n",
    "    # scale by omegas\n",
    "    new_mass = new_mass / omegas"
   ]
  },
  {
   "cell_type": "code",
   "execution_count": 486,
   "metadata": {},
   "outputs": [
    {
     "data": {
      "text/plain": [
       "(<Quantity 230402433.39130622 solMass>,\n",
       " astropy.units.quantity.Quantity,\n",
       " <Quantity 3.2002542059825223 kpc>,\n",
       " <Quantity 9.46822907783599e-26 g / cm3>,\n",
       " <Quantity 9.656524367928316e+21 cm>,\n",
       " <Quantity 1.0347457083166234e+22 cm>,\n",
       " <Quantity 9.803920222118342e-26 g / cm3>,\n",
       " <Quantity 8.742061461500215e-26 g / cm3>)"
      ]
     },
     "execution_count": 486,
     "metadata": {},
     "output_type": "execute_result"
    }
   ],
   "source": [
    "new_mass.to('Msun'), type(new_mass), new_rad.to('kpc'), new_dens, rad1, rad2, dens1, dens2\n"
   ]
  },
  {
   "cell_type": "code",
   "execution_count": 485,
   "metadata": {},
   "outputs": [
    {
     "data": {
      "text/html": [
       "<img style=\"max-width:100%%;max-height:100%%;\" src=\"data:image/png;base64,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\"><br>"
      ],
      "text/plain": [
       "<yt.visualization.profile_plotter.ProfilePlot at 0x2af1537c7780>"
      ]
     },
     "metadata": {},
     "output_type": "display_data"
    }
   ],
   "source": [
    "plot = yt.ProfilePlot.from_profiles(rp)\n",
    "\n",
    "plot.show()"
   ]
  },
  {
   "cell_type": "code",
   "execution_count": null,
   "metadata": {
    "collapsed": true
   },
   "outputs": [],
   "source": []
  },
  {
   "cell_type": "code",
   "execution_count": null,
   "metadata": {
    "collapsed": true
   },
   "outputs": [],
   "source": []
  },
  {
   "cell_type": "code",
   "execution_count": 834,
   "metadata": {
    "collapsed": true
   },
   "outputs": [],
   "source": [
    "radii_ratio2 = []\n",
    "count = 0"
   ]
  },
  {
   "cell_type": "code",
   "execution_count": 835,
   "metadata": {
    "collapsed": true
   },
   "outputs": [],
   "source": [
    "radii_index2 = []"
   ]
  },
  {
   "cell_type": "code",
   "execution_count": 836,
   "metadata": {
    "scrolled": true
   },
   "outputs": [
    {
     "name": "stdout",
     "output_type": "stream",
     "text": [
      "start  0\n"
     ]
    },
    {
     "name": "stderr",
     "output_type": "stream",
     "text": [
      "/home/ygovil/anaconda/anaconda3/lib/python3.6/site-packages/yt/units/yt_array.py:990: RuntimeWarning: invalid value encountered in true_divide\n",
      "  return super(YTArray, self).__truediv__(ro)\n",
      "/home/ygovil/anaconda/anaconda3/lib/python3.6/site-packages/yt/units/yt_array.py:1094: RuntimeWarning: invalid value encountered in less\n",
      "  return super(YTArray, self).__lt__(oth)\n"
     ]
    },
    {
     "name": "stdout",
     "output_type": "stream",
     "text": [
      "start  1\n",
      "start  2\n",
      "start  3\n",
      "start  4\n",
      "start  5\n",
      "start  6\n",
      "start  7\n",
      "start  8\n",
      "start  9\n",
      "start  10\n",
      "start  11\n",
      "start  12\n",
      "start  13\n",
      "start  14\n",
      "start  15\n",
      "start  16\n",
      "start  17\n",
      "start  18\n",
      "start  19\n",
      "start  20\n",
      "start  21\n",
      "start  22\n",
      "start  23\n",
      "start  24\n",
      "start  25\n",
      "start  26\n",
      "start  27\n",
      "start  28\n",
      "start  29\n",
      "start  30\n",
      "start  31\n",
      "start  32\n",
      "start  33\n",
      "start  34\n",
      "start  35\n",
      "start  36\n",
      "start  37\n",
      "start  38\n",
      "start  39\n",
      "start  40\n",
      "start  41\n",
      "start  42\n",
      "start  43\n",
      "start  44\n",
      "start  45\n",
      "start  46\n",
      "start  47\n",
      "start  48\n",
      "start  49\n",
      "start  50\n",
      "start  51\n",
      "start  52\n",
      "start  53\n",
      "start  54\n",
      "start  55\n",
      "start  56\n",
      "start  57\n",
      "start  58\n",
      "start  59\n",
      "start  60\n",
      "start  61\n",
      "start  62\n",
      "start  63\n",
      "start  64\n",
      "start  65\n",
      "start  66\n",
      "start  67\n",
      "start  68\n",
      "start  69\n",
      "start  70\n",
      "start  71\n",
      "start  72\n",
      "start  73\n",
      "start  74\n",
      "start  75\n",
      "start  76\n",
      "start  77\n",
      "start  78\n",
      "start  79\n",
      "start  80\n",
      "start  81\n",
      "start  82\n",
      "start  83\n",
      "start  84\n",
      "start  85\n",
      "start  86\n",
      "start  87\n",
      "start  88\n",
      "start  89\n",
      "start  90\n",
      "start  91\n",
      "start  92\n",
      "start  93\n",
      "start  94\n",
      "start  95\n",
      "start  96\n",
      "start  97\n",
      "start  98\n",
      "start  99\n",
      "start  100\n",
      "start  101\n",
      "start  102\n",
      "start  103\n",
      "start  104\n",
      "start  105\n",
      "start  106\n",
      "start  107\n",
      "start  108\n",
      "start  109\n",
      "start  110\n",
      "start  111\n",
      "start  112\n",
      "start  113\n",
      "start  114\n",
      "start  115\n",
      "start  116\n",
      "start  117\n",
      "start  118\n",
      "start  119\n",
      "start  120\n",
      "start  121\n",
      "start  122\n",
      "start  123\n",
      "start  124\n",
      "start  125\n",
      "start  126\n",
      "start  127\n",
      "start  128\n",
      "start  129\n",
      "start  130\n",
      "start  131\n",
      "start  132\n",
      "start  133\n",
      "start  134\n",
      "start  135\n",
      "start  136\n",
      "start  137\n",
      "start  138\n",
      "start  139\n",
      "start  140\n",
      "start  141\n",
      "start  142\n",
      "start  143\n",
      "start  144\n",
      "start  145\n",
      "start  146\n",
      "start  147\n",
      "start  148\n",
      "start  149\n",
      "start  150\n",
      "start  151\n",
      "start  152\n",
      "start  153\n",
      "start  154\n",
      "start  155\n",
      "start  156\n",
      "start  157\n",
      "start  158\n",
      "start  159\n",
      "start  160\n",
      "start  161\n",
      "start  162\n",
      "start  163\n",
      "start  164\n",
      "start  165\n",
      "start  166\n",
      "start  167\n",
      "start  168\n",
      "start  169\n",
      "start  170\n",
      "start  171\n",
      "start  172\n",
      "start  173\n",
      "start  174\n",
      "start  175\n",
      "start  176\n",
      "start  177\n",
      "start  178\n",
      "start  179\n",
      "start  180\n",
      "start  181\n",
      "start  182\n",
      "start  183\n",
      "start  184\n",
      "start  185\n",
      "start  186\n",
      "start  187\n",
      "start  188\n",
      "start  189\n",
      "start  190\n",
      "start  191\n",
      "start  192\n",
      "start  193\n",
      "start  194\n",
      "start  195\n",
      "start  196\n",
      "start  197\n",
      "start  198\n",
      "start  199\n"
     ]
    }
   ],
   "source": [
    "# find ratios\n",
    "for halo in hc.halo_list[:200]:\n",
    "    print('start ', count)\n",
    "    count += 1\n",
    "    \n",
    "    # find coord of halo\n",
    "    x = halo.quantities.get('particle_position_x') * u.cm\n",
    "    y = halo.quantities.get('particle_position_y') * u.cm\n",
    "    z = halo.quantities.get('particle_position_z') * u.cm\n",
    "    center = [x.value/scaling, y.value/scaling, z.value/scaling]\n",
    "    index = halo.quantities.get('particle_identifier')\n",
    "    \n",
    "    # find values of quantities\n",
    "    radius = halo.quantities.get('virial_radius') * u.cm\n",
    "    rad_val = radius.value\n",
    "    \n",
    "    # create a sphere around halo\n",
    "    sp1 = ds.sphere(center, (10*rad_val, 'cm'))\n",
    "    rad_min, rad_max = 1e-1*rad_val, 10*rad_val\n",
    "    \n",
    "    # create radial density profile\n",
    "    rp = yt.create_profile(sp1, 'radius', 'density', accumulation=True, \n",
    "                           units = {'radius': 'cm'}, \n",
    "                           logs = {'radius': True, 'density': True}, \n",
    "                           n_bins = 128, \n",
    "                           extrema = {'radius': (rad_min, rad_max)})\n",
    "    \n",
    "    # find max radius where density > threshold\n",
    "    req_rad = rp.x[rp['density'] > threshold]\n",
    "    if req_rad.size > 0:\n",
    "        # find ratio and append to list\n",
    "        calc_rad = req_rad[-1]\n",
    "        ratio = calc_rad.value / rad_val\n",
    "        \n",
    "        radii_ratio2.append(ratio)\n",
    "        radii_index2.append(index)"
   ]
  },
  {
   "cell_type": "code",
   "execution_count": 64,
   "metadata": {},
   "outputs": [
    {
     "data": {
      "text/plain": [
       "(<Quantity 7.891257376493692e-26 g / cm3>,\n",
       " <Quantity 7.891257376493692e-26 g / cm3>)"
      ]
     },
     "execution_count": 64,
     "metadata": {},
     "output_type": "execute_result"
    }
   ],
   "source": [
    "threshold, threshold2"
   ]
  },
  {
   "cell_type": "code",
   "execution_count": 70,
   "metadata": {
    "collapsed": true
   },
   "outputs": [],
   "source": [
    "# load list from file\n",
    "with open('./LG4_2048_40pc/rd0070/rad_ratiolist0070', 'rb') as file:\n",
    "    radii_ratio = pickle.load(file)"
   ]
  },
  {
   "cell_type": "code",
   "execution_count": 65,
   "metadata": {
    "collapsed": true
   },
   "outputs": [],
   "source": [
    "radii_ratio = radii_ratio2"
   ]
  },
  {
   "cell_type": "code",
   "execution_count": 66,
   "metadata": {},
   "outputs": [
    {
     "data": {
      "text/plain": [
       "(2655, array([ 9.7585888 ,  9.7590711 ,  9.76148374, ...,  9.57729767,\n",
       "         9.58289615,  9.55086628]))"
      ]
     },
     "execution_count": 66,
     "metadata": {},
     "output_type": "execute_result"
    }
   ],
   "source": [
    "dbool1 = [x > 9.5 for x in radii_ratio]\n",
    "radii_ratio[dbool1].size, radii_ratio[dbool1]"
   ]
  },
  {
   "cell_type": "code",
   "execution_count": 67,
   "metadata": {
    "scrolled": true
   },
   "outputs": [
    {
     "data": {
      "text/plain": [
       "(115, array([ 9.32307264,  7.31000486,  4.78397291,  3.97574468,  6.14725931,\n",
       "         9.18635325,  4.74418002,  3.24568496,  6.03288958,  5.61481065,\n",
       "         5.293373  ,  5.78770762,  6.2366483 ,  4.19270603,  3.85418266,\n",
       "         7.4458278 ,  7.61701478,  3.51442701,  6.76044181,  5.51304832,\n",
       "         8.14555045,  5.81281853,  7.05499996,  5.00790604,  6.62795845,\n",
       "         7.88765099,  7.33749045,  8.26822572,  1.06081845,  3.90165419,\n",
       "         9.18246889,  8.62410887,  7.09479797,  5.61511408,  8.68295754,\n",
       "         9.2425861 ,  8.03691578,  6.21801374,  7.55666245,  4.28187964,\n",
       "         4.27131302,  8.69021223,  8.64885753,  7.96176385,  4.5962866 ,\n",
       "         5.40701633,  7.72063501,  7.68317359,  8.19416022,  6.82728909,\n",
       "         6.69698742,  8.48346086,  6.27868631,  7.13740593,  6.1692681 ,\n",
       "         9.07443121,  8.6306611 ,  6.68724496,  1.35119613,  5.16332254,\n",
       "         5.49737034,  9.12330064,  1.40733918,  2.70433379,  9.05699972,\n",
       "         4.06059104,  2.39408114,  6.60360811,  1.79998499,  1.79234735,\n",
       "         1.33259702,  3.45088086,  5.98165022,  2.89111885,  7.08164846,\n",
       "         7.86116143,  1.63012138,  1.14177695,  5.36938962,  1.11463136,\n",
       "         2.43835673,  1.26562442,  1.24944477,  1.34103684,  5.86017699,\n",
       "         1.193356  ,  1.45987154,  2.41651864,  1.50609596,  1.94948306,\n",
       "         7.41535094,  5.73064315,  3.99926246,  1.98613068,  2.89719088,\n",
       "         3.30523225,  1.01328569,  3.24350517,  8.46807417,  4.84964006,\n",
       "         7.76390395,  2.23177797,  1.58559377,  4.29131373,  5.87520289,\n",
       "         8.47259182,  1.32579323,  3.62775457,  6.26458592,  4.2730329 ,\n",
       "         1.48522414,  1.59730883,  9.05168933,  5.76043757,  4.81930135]))"
      ]
     },
     "execution_count": 67,
     "metadata": {},
     "output_type": "execute_result"
    }
   ],
   "source": [
    "dbool2 = [1 < x <= 9.5 for x in radii_ratio]\n",
    "radii_ratio[dbool2].size, radii_ratio2[dbool2]"
   ]
  },
  {
   "cell_type": "code",
   "execution_count": 68,
   "metadata": {
    "scrolled": true
   },
   "outputs": [
    {
     "data": {
      "text/plain": [
       "(72, array([ 0.71993815,  0.34387402,  0.30830474,  0.33893155,  0.3847439 ,\n",
       "         0.31202955,  0.24102543,  0.20888848,  0.9463181 ,  0.42254283,\n",
       "         0.21203426,  0.22570916,  0.34877649,  0.55975644,  0.19249917,\n",
       "         0.2912783 ,  0.25354386,  0.23031775,  0.60572517,  0.52301841,\n",
       "         0.24140056,  0.4316862 ,  0.25584929,  0.20575407,  0.18857493,\n",
       "         0.5082177 ,  0.70627086,  0.23606415,  0.31526884,  0.1674932 ,\n",
       "         0.34973775,  0.23552309,  0.19385287,  0.72452723,  0.20453637,\n",
       "         0.70267379,  0.26310934,  0.19385126,  0.66274283,  0.44306973,\n",
       "         0.16846401,  0.18617699,  0.14704806,  0.5045008 ,  0.37649349,\n",
       "         0.61157941,  0.30900055,  0.39032627,  0.79807084,  0.18263143,\n",
       "         0.1572737 ,  0.22087353,  0.59099633,  0.47709439,  0.57048082,\n",
       "         0.49542263,  0.56007712,  0.26434616,  0.75151099,  0.14913707,\n",
       "         0.14454189,  0.13533965,  0.16750502,  0.86440863,  0.23164749,\n",
       "         0.71777121,  0.85995608,  0.71954453,  0.33317449,  0.99635711,\n",
       "         0.11260553,  0.90114042]))"
      ]
     },
     "execution_count": 68,
     "metadata": {},
     "output_type": "execute_result"
    }
   ],
   "source": [
    "dbool3 = [0 < x <= 1 for x in radii_ratio]\n",
    "radii_ratio[dbool3].size, radii_ratio[dbool3]"
   ]
  },
  {
   "cell_type": "code",
   "execution_count": 69,
   "metadata": {},
   "outputs": [
    {
     "data": {
      "text/plain": [
       "(4310, array([ 0.,  0.,  0., ...,  0.,  0.,  0.]))"
      ]
     },
     "execution_count": 69,
     "metadata": {},
     "output_type": "execute_result"
    }
   ],
   "source": [
    "dbool4 = [x == 0 for x in radii_ratio]\n",
    "radii_ratio[dbool4].size, radii_ratio[dbool4]"
   ]
  },
  {
   "cell_type": "code",
   "execution_count": 72,
   "metadata": {
    "collapsed": true
   },
   "outputs": [],
   "source": [
    "min_mass, max_mass = dd.quantities.extrema('particle_mass')"
   ]
  },
  {
   "cell_type": "code",
   "execution_count": 188,
   "metadata": {},
   "outputs": [
    {
     "data": {
      "text/plain": [
       "5.124386089052739e+36 g"
      ]
     },
     "execution_count": 188,
     "metadata": {},
     "output_type": "execute_result"
    }
   ],
   "source": [
    "min_mass"
   ]
  },
  {
   "cell_type": "code",
   "execution_count": 75,
   "metadata": {
    "collapsed": true
   },
   "outputs": [],
   "source": [
    "# store min mass to file\n",
    "with open('./LG4_2048_40pc/rd0070/finest_particle0070', 'wb') as file:\n",
    "    pickle.dump(min_mass ,file)"
   ]
  },
  {
   "cell_type": "code",
   "execution_count": 113,
   "metadata": {},
   "outputs": [
    {
     "name": "stdout",
     "output_type": "stream",
     "text": [
      "9178\n"
     ]
    }
   ],
   "source": [
    "count = 0\n",
    "for halo in hc.halo_list:\n",
    "    count += 1\n",
    "\n",
    "print(count)"
   ]
  },
  {
   "cell_type": "code",
   "execution_count": 114,
   "metadata": {
    "collapsed": true
   },
   "outputs": [],
   "source": [
    "# store halo count to file\n",
    "with open('./LG4_2048_40pc/rd0070/count_halo0070_160', 'wb') as file:\n",
    "    pickle.dump(count ,file)"
   ]
  },
  {
   "cell_type": "code",
   "execution_count": 154,
   "metadata": {
    "collapsed": true
   },
   "outputs": [],
   "source": [
    "empty2 = np.empty(0)"
   ]
  },
  {
   "cell_type": "code",
   "execution_count": 157,
   "metadata": {},
   "outputs": [
    {
     "name": "stdout",
     "output_type": "stream",
     "text": [
      "[ 1005.47986527    30.          1005.47986527    30.          1005.47986527\n",
      "    30.        ]\n"
     ]
    }
   ],
   "source": [
    "empty2 = np.append(empty2, mass.to('Msun').value)\n",
    "empty2 = np.append(empty2, radius.to('kpc').value)\n",
    "print(empty2)"
   ]
  },
  {
   "cell_type": "code",
   "execution_count": 153,
   "metadata": {
    "collapsed": true
   },
   "outputs": [],
   "source": [
    "mass = 2e36 * u.g\n",
    "radius = 30 * u.kpc"
   ]
  },
  {
   "cell_type": "code",
   "execution_count": 131,
   "metadata": {},
   "outputs": [
    {
     "data": {
      "text/plain": [
       "1005.4798652656982"
      ]
     },
     "execution_count": 131,
     "metadata": {},
     "output_type": "execute_result"
    }
   ],
   "source": [
    "mass.to('Msun').value"
   ]
  },
  {
   "cell_type": "code",
   "execution_count": 147,
   "metadata": {},
   "outputs": [
    {
     "ename": "TypeError",
     "evalue": "must use keyword argument for key function",
     "output_type": "error",
     "traceback": [
      "\u001b[0;31m---------------------------------------------------------------------------\u001b[0m",
      "\u001b[0;31mTypeError\u001b[0m                                 Traceback (most recent call last)",
      "\u001b[0;32m<ipython-input-147-af6a8da299a0>\u001b[0m in \u001b[0;36m<module>\u001b[0;34m()\u001b[0m\n\u001b[0;32m----> 1\u001b[0;31m \u001b[0mhelp\u001b[0m\u001b[0;34m(\u001b[0m\u001b[0mhc\u001b[0m\u001b[0;34m.\u001b[0m\u001b[0mhalo_list\u001b[0m\u001b[0;34m.\u001b[0m\u001b[0msort\u001b[0m\u001b[0;34m(\u001b[0m\u001b[0;34m''\u001b[0m\u001b[0;34m)\u001b[0m\u001b[0;34m)\u001b[0m\u001b[0;34m\u001b[0m\u001b[0m\n\u001b[0m",
      "\u001b[0;31mTypeError\u001b[0m: must use keyword argument for key function"
     ]
    }
   ],
   "source": [
    "help(hc.halo_list.sort(''))"
   ]
  },
  {
   "cell_type": "code",
   "execution_count": 163,
   "metadata": {},
   "outputs": [
    {
     "data": {
      "text/plain": [
       "[('all', 'particle_identifier'),\n",
       " ('all', 'particle_mass'),\n",
       " ('all', 'particle_position_x'),\n",
       " ('all', 'particle_position_y'),\n",
       " ('all', 'particle_position_z'),\n",
       " ('all', 'virial_radius'),\n",
       " ('halos', 'particle_identifier'),\n",
       " ('halos', 'particle_mass'),\n",
       " ('halos', 'particle_position_x'),\n",
       " ('halos', 'particle_position_y'),\n",
       " ('halos', 'particle_position_z'),\n",
       " ('halos', 'virial_radius')]"
      ]
     },
     "execution_count": 163,
     "metadata": {},
     "output_type": "execute_result"
    }
   ],
   "source": [
    "halos_ds.field_list"
   ]
  },
  {
   "cell_type": "code",
   "execution_count": 181,
   "metadata": {
    "collapsed": true
   },
   "outputs": [],
   "source": [
    "# list to store parameters of halos\n",
    "# index, x, y, z, mass, v_r\n",
    "halo_list = []"
   ]
  },
  {
   "cell_type": "code",
   "execution_count": 164,
   "metadata": {
    "collapsed": true
   },
   "outputs": [],
   "source": [
    "from operator import itemgetter"
   ]
  },
  {
   "cell_type": "code",
   "execution_count": 182,
   "metadata": {
    "collapsed": true
   },
   "outputs": [],
   "source": [
    "index = -1 # keep count of index\n",
    "for halo in hc.halo_list:\n",
    "    # increment index\n",
    "    index += 1\n",
    "      \n",
    "    # find parameters of halo\n",
    "    x = halo.quantities.get('particle_position_x') * u.cm\n",
    "    y = halo.quantities.get('particle_position_y') * u.cm\n",
    "    z = halo.quantities.get('particle_position_z') * u.cm\n",
    "    mass = halo.quantities.get('particle_mass').in_units('Msun') * u.Msun\n",
    "    radius = halo.quantities.get('virial_radius') * u.cm\n",
    "    \n",
    "    # create halo info tuple\n",
    "    halo_info = (index, x, y, z, mass, radius)\n",
    "    \n",
    "    # append info tuple\n",
    "    halo_list.append(halo_info)\n",
    "\n"
   ]
  },
  {
   "cell_type": "code",
   "execution_count": 183,
   "metadata": {
    "collapsed": true
   },
   "outputs": [],
   "source": [
    "halo_list.sort(key=itemgetter(4), reverse = True)"
   ]
  },
  {
   "cell_type": "code",
   "execution_count": 238,
   "metadata": {
    "collapsed": true
   },
   "outputs": [],
   "source": [
    "# store halo list to file\n",
    "with open('./LG4_2048_40pc/rd0070/halo_list0070', 'rb') as halofile:\n",
    "    halo_list = pickle.load(halofile)"
   ]
  },
  {
   "cell_type": "code",
   "execution_count": null,
   "metadata": {
    "collapsed": true
   },
   "outputs": [],
   "source": []
  },
  {
   "cell_type": "code",
   "execution_count": null,
   "metadata": {
    "collapsed": true
   },
   "outputs": [],
   "source": []
  }
 ],
 "metadata": {
  "kernelspec": {
   "display_name": "Python 3",
   "language": "python",
   "name": "python3"
  },
  "language_info": {
   "codemirror_mode": {
    "name": "ipython",
    "version": 3
   },
   "file_extension": ".py",
   "mimetype": "text/x-python",
   "name": "python",
   "nbconvert_exporter": "python",
   "pygments_lexer": "ipython3",
   "version": "3.6.1"
  }
 },
 "nbformat": 4,
 "nbformat_minor": 2
}
