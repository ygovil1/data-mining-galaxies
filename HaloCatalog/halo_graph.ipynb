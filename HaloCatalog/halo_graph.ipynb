{
 "cells": [
  {
   "cell_type": "code",
   "execution_count": 211,
   "metadata": {},
   "outputs": [
    {
     "name": "stderr",
     "output_type": "stream",
     "text": [
      "yt : [INFO     ] 2017-06-26 13:41:01,061 Parameters: current_time              = 3.75573046409e+16\n",
      "yt : [INFO     ] 2017-06-26 13:41:01,063 Parameters: domain_dimensions         = [2 2 2]\n",
      "yt : [INFO     ] 2017-06-26 13:41:01,066 Parameters: domain_left_edge          = [ 0.  0.  0.]\n",
      "yt : [INFO     ] 2017-06-26 13:41:01,070 Parameters: domain_right_edge         = [  2.22535525e+25   2.22535525e+25   2.22535525e+25]\n",
      "yt : [INFO     ] 2017-06-26 13:41:01,073 Parameters: cosmological_simulation   = 1\n",
      "yt : [INFO     ] 2017-06-26 13:41:01,075 Parameters: current_redshift          = 4.99999998323\n",
      "yt : [INFO     ] 2017-06-26 13:41:01,077 Parameters: omega_lambda              = 0.712\n",
      "yt : [INFO     ] 2017-06-26 13:41:01,079 Parameters: omega_matter              = 0.288\n",
      "yt : [INFO     ] 2017-06-26 13:41:01,081 Parameters: hubble_constant           = 0.6933\n"
     ]
    }
   ],
   "source": [
    "# import basic libraries\n",
    "import yt\n",
    "import numpy as np\n",
    "import matplotlib.pyplot as plt\n",
    "from math import log, log10\n",
    "from astropy import units as u\n",
    "\n",
    "# import halo catalogue func\n",
    "from yt.analysis_modules.halo_analysis.api import *\n",
    "\n",
    "# load halo dataset\n",
    "halos_ds = yt.load('./LG4_2048_40pc/rd0070/halo_catalogs/catalog/catalog0070.0.h5')"
   ]
  },
  {
   "cell_type": "code",
   "execution_count": 10,
   "metadata": {
    "collapsed": true
   },
   "outputs": [],
   "source": [
    "import tempfile\n",
    "import shutil\n",
    "import os\n",
    "\n",
    "# Create temporary directory for storing files\n",
    "tmpdir = tempfile.mkdtemp()"
   ]
  },
  {
   "cell_type": "code",
   "execution_count": 11,
   "metadata": {},
   "outputs": [
    {
     "name": "stderr",
     "output_type": "stream",
     "text": [
      "yt : [INFO     ] 2017-06-23 15:38:48,014 Allocating for 9.178e+03 particles (index particle type 'all')\n",
      "yt : [INFO     ] 2017-06-23 15:38:48,033 Identified 3.025e+03 octs\n"
     ]
    }
   ],
   "source": [
    "# Instantiate a catalog using those two paramter files\n",
    "hc = HaloCatalog(halos_ds=halos_ds, output_dir=os.path.join(tmpdir, 'halo_catalog'))\n",
    "hc.load()"
   ]
  },
  {
   "cell_type": "code",
   "execution_count": 38,
   "metadata": {},
   "outputs": [],
   "source": [
    "# specify boundaries of zoom-in box\n",
    "# scaling factor multiplied by info from text file \n",
    "# units in cm\n",
    "xmin = 2.22535525e+25*0.39319589 * u.cm\n",
    "ymin = 2.22535525e+25*0.42984636 * u.cm\n",
    "zmin = 2.22535525e+25*0.41706725 * u.cm\n",
    "\n",
    "xmax = 2.22535525e+25*0.56298484 * u.cm\n",
    "ymax = 2.22535525e+25*0.55089246 * u.cm\n",
    "zmax = 2.22535525e+25*0.56698254 * u.cm"
   ]
  },
  {
   "cell_type": "code",
   "execution_count": 56,
   "metadata": {
    "scrolled": true
   },
   "outputs": [],
   "source": [
    "# find masses of halos\n",
    "masslist = []\n",
    "\n",
    "for halo in hc.halo_list:\n",
    "    # find coord and mass of halo\n",
    "    x = halo.quantities.get('particle_position_x') * u.cm\n",
    "    y = halo.quantities.get('particle_position_y') * u.cm\n",
    "    z = halo.quantities.get('particle_position_z') * u.cm\n",
    "    mass = halo.quantities.get('particle_mass').in_units('Msun') * u.Msun\n",
    "    \n",
    "    # check if halo is inside zoom-in box\n",
    "    if xmin <= x < xmax and ymin <= y < ymax and zmin <= z < zmax:\n",
    "        masslist.append(mass.value)\n"
   ]
  },
  {
   "cell_type": "code",
   "execution_count": 57,
   "metadata": {
    "collapsed": true
   },
   "outputs": [],
   "source": [
    "masslist = np.array(masslist)"
   ]
  },
  {
   "cell_type": "code",
   "execution_count": 137,
   "metadata": {},
   "outputs": [],
   "source": [
    "bins = np.geomspace(start=1e6, stop=1e11, num=50)"
   ]
  },
  {
   "cell_type": "code",
   "execution_count": 192,
   "metadata": {
    "scrolled": true
   },
   "outputs": [
    {
     "data": {
      "text/plain": [
       "<matplotlib.figure.Figure at 0x2b53c3d58630>"
      ]
     },
     "metadata": {},
     "output_type": "display_data"
    },
    {
     "data": {
      "image/png": "[encoded data removed]",
      "text/plain": [
       "<matplotlib.figure.Figure at 0x2b53c3b5a668>"
      ]
     },
     "metadata": {},
     "output_type": "display_data"
    }
   ],
   "source": [
    "# create histogram\n",
    "plt.figure(figsize=(8,6))\n",
    "plt.hist(masslist, bins, histtype='step', fill = False)\n",
    "plt.title(\"Halo Masses (threshold = 160)\", size = 19)\n",
    "plt.axis([1e7, 10**10.5, 0, 1000])\n",
    "\n",
    "\n",
    "# create axis labels\n",
    "xlab = \"$\\log_{10}M_h}$  $(Msun)$\"\n",
    "ylab = r\"$\\frac{dN}{d\\log_{10}M_h}$\"+\"\\n\"+r\"$\\left(\\frac{\\#}{h^{-3}Mpc^3}\\right)$\"\n",
    "plt.xlabel(xlab, size = 14, labelpad= -2)\n",
    "plt.ylabel(ylab, rotation = 0, size = 18, labelpad= 30)\n",
    "\n",
    "# create axis ticks \n",
    "plt.xscale('log')\n",
    "plt.tick_params(axis='x', which='major', labelsize=12)\n",
    "plt.tick_params(axis='y', which='major', labelsize=12)\n",
    "\n",
    "#show and save\n",
    "plt.show()\n",
    "\n",
    "#plt.savefig('./LG4_2048_40pc/rd0070/graph2.png', dpi = 300)"
   ]
  },
  {
   "cell_type": "code",
   "execution_count": 223,
   "metadata": {},
   "outputs": [],
   "source": [
    "log_mass = np.log(masslist) / log(10)\n",
    "density = np.histogram(log_mass, bins= [7,8,9,10,11])"
   ]
  },
  {
   "cell_type": "code",
   "execution_count": 224,
   "metadata": {},
   "outputs": [
    {
     "data": {
      "image/png": "[encoded data removed]",
      "text/plain": [
       "<matplotlib.figure.Figure at 0x2b53d004b5c0>"
      ]
     },
     "metadata": {},
     "output_type": "display_data"
    }
   ],
   "source": [
    "# create histogram\n",
    "plt.hist(density, histtype='step', fill = False)\n",
    "plt.title(\"Halo Masses (threshold = 160)\", size = 19)\n",
    "plt.axis([7,, 0, 1e3])\n",
    "\n",
    "\n",
    "# create axis labels\n",
    "xlab = \"$\\log_{10}M_h}$  $(Msun)$\"\n",
    "ylab = r\"$\\frac{dN}{d\\log_{10}M_h}$\"+\"\\n\"+r\"$\\left(\\frac{\\#}{h^{-3}Mpc^3}\\right)$\"\n",
    "plt.xlabel(xlab, size = 14, labelpad= -2)\n",
    "plt.ylabel(ylab, rotation = 0, size = 18, labelpad= 30)\n",
    "\n",
    "# create axis ticks \n",
    "plt.xscale('log')\n",
    "plt.yscale('linear')\n",
    "plt.tick_params(axis='x', which='major', labelsize=12)\n",
    "plt.tick_params(axis='y', which='major', labelsize=12)\n",
    "\n",
    "#show and save\n",
    "plt.show()\n"
   ]
  },
  {
   "cell_type": "code",
   "execution_count": 222,
   "metadata": {},
   "outputs": [
    {
     "data": {
      "text/plain": [
       "array([  6.95865541,   6.97289585,   7.0256022 , ...,  10.05822096,\n",
       "        10.07635747,  10.40977122])"
      ]
     },
     "execution_count": 222,
     "metadata": {},
     "output_type": "execute_result"
    }
   ],
   "source": [
    "log_mass"
   ]
  },
  {
   "cell_type": "code",
   "execution_count": null,
   "metadata": {
    "collapsed": true
   },
   "outputs": [],
   "source": []
  },
  {
   "cell_type": "code",
   "execution_count": null,
   "metadata": {
    "collapsed": true
   },
   "outputs": [],
   "source": []
  }
 ],
 "metadata": {
  "kernelspec": {
   "display_name": "Python 3",
   "language": "python",
   "name": "python3"
  },
  "language_info": {
   "codemirror_mode": {
    "name": "ipython",
    "version": 3
   },
   "file_extension": ".py",
   "mimetype": "text/x-python",
   "name": "python",
   "nbconvert_exporter": "python",
   "pygments_lexer": "ipython3",
   "version": "3.6.1"
  }
 },
 "nbformat": 4,
 "nbformat_minor": 2
}
