{
 "cells": [
  {
   "cell_type": "code",
   "execution_count": 296,
   "metadata": {},
   "outputs": [
    {
     "name": "stderr",
     "output_type": "stream",
     "text": [
      "yt : [INFO     ] 2017-06-26 15:19:56,739 Parameters: current_time              = 3.75573046409e+16\n",
      "yt : [INFO     ] 2017-06-26 15:19:56,741 Parameters: domain_dimensions         = [2 2 2]\n",
      "yt : [INFO     ] 2017-06-26 15:19:56,744 Parameters: domain_left_edge          = [ 0.  0.  0.]\n",
      "yt : [INFO     ] 2017-06-26 15:19:56,747 Parameters: domain_right_edge         = [  2.22535525e+25   2.22535525e+25   2.22535525e+25]\n",
      "yt : [INFO     ] 2017-06-26 15:19:56,750 Parameters: cosmological_simulation   = 1\n",
      "yt : [INFO     ] 2017-06-26 15:19:56,752 Parameters: current_redshift          = 4.99999998323\n",
      "yt : [INFO     ] 2017-06-26 15:19:56,755 Parameters: omega_lambda              = 0.712\n",
      "yt : [INFO     ] 2017-06-26 15:19:56,757 Parameters: omega_matter              = 0.288\n",
      "yt : [INFO     ] 2017-06-26 15:19:56,759 Parameters: hubble_constant           = 0.6933\n"
     ]
    }
   ],
   "source": [
    "# import basic libraries\n",
    "import yt\n",
    "import numpy as np\n",
    "import matplotlib.pyplot as plt\n",
    "from math import log, log10\n",
    "from astropy import units as u\n",
    "\n",
    "# import halo catalogue func\n",
    "from yt.analysis_modules.halo_analysis.api import *\n",
    "\n",
    "# load halo dataset\n",
    "halos_ds = yt.load('./LG4_2048_40pc/rd0070/halo_catalogs/catalog/catalog0070_thres160.0.h5')"
   ]
  },
  {
   "cell_type": "code",
   "execution_count": 10,
   "metadata": {
    "collapsed": true
   },
   "outputs": [],
   "source": [
    "import tempfile\n",
    "import shutil\n",
    "import os\n",
    "\n",
    "# Create temporary directory for storing files\n",
    "tmpdir = tempfile.mkdtemp()"
   ]
  },
  {
   "cell_type": "code",
   "execution_count": 11,
   "metadata": {},
   "outputs": [
    {
     "name": "stderr",
     "output_type": "stream",
     "text": [
      "yt : [INFO     ] 2017-06-23 15:38:48,014 Allocating for 9.178e+03 particles (index particle type 'all')\n",
      "yt : [INFO     ] 2017-06-23 15:38:48,033 Identified 3.025e+03 octs\n"
     ]
    }
   ],
   "source": [
    "# Instantiate a catalog using those two paramter files\n",
    "hc = HaloCatalog(halos_ds=halos_ds, output_dir=os.path.join(tmpdir, 'halo_catalog'))\n",
    "hc.load()"
   ]
  },
  {
   "cell_type": "code",
   "execution_count": 38,
   "metadata": {},
   "outputs": [],
   "source": [
    "# specify boundaries of zoom-in box\n",
    "# scaling factor multiplied by info from text file \n",
    "# units in cm\n",
    "xmin = 2.22535525e+25*0.39319589 * u.cm\n",
    "ymin = 2.22535525e+25*0.42984636 * u.cm\n",
    "zmin = 2.22535525e+25*0.41706725 * u.cm\n",
    "\n",
    "xmax = 2.22535525e+25*0.56298484 * u.cm\n",
    "ymax = 2.22535525e+25*0.55089246 * u.cm\n",
    "zmax = 2.22535525e+25*0.56698254 * u.cm"
   ]
  },
  {
   "cell_type": "code",
   "execution_count": 56,
   "metadata": {
    "scrolled": true
   },
   "outputs": [],
   "source": [
    "# find masses of halos\n",
    "masslist = []\n",
    "\n",
    "for halo in hc.halo_list:\n",
    "    # find coord and mass of halo\n",
    "    x = halo.quantities.get('particle_position_x') * u.cm\n",
    "    y = halo.quantities.get('particle_position_y') * u.cm\n",
    "    z = halo.quantities.get('particle_position_z') * u.cm\n",
    "    mass = halo.quantities.get('particle_mass').in_units('Msun') * u.Msun\n",
    "    \n",
    "    # check if halo is inside zoom-in box\n",
    "    if xmin <= x < xmax and ymin <= y < ymax and zmin <= z < zmax:\n",
    "        masslist.append(mass.value)\n"
   ]
  },
  {
   "cell_type": "code",
   "execution_count": 57,
   "metadata": {
    "collapsed": true
   },
   "outputs": [],
   "source": [
    "masslist = np.array(masslist)"
   ]
  },
  {
   "cell_type": "code",
   "execution_count": 137,
   "metadata": {},
   "outputs": [],
   "source": [
    "bins = np.geomspace(start=1e6, stop=1e11, num=50)"
   ]
  },
  {
   "cell_type": "code",
   "execution_count": 192,
   "metadata": {
    "scrolled": true
   },
   "outputs": [
    {
     "data": {
      "text/plain": [
       "<matplotlib.figure.Figure at 0x2b53c3d58630>"
      ]
     },
     "metadata": {},
     "output_type": "display_data"
    },
    {
     "data": {
      "image/png": "[encoded data removed]",
      "text/plain": [
       "<matplotlib.figure.Figure at 0x2b53c3b5a668>"
      ]
     },
     "metadata": {},
     "output_type": "display_data"
    }
   ],
   "source": [
    "# create histogram\n",
    "plt.figure(figsize=(8,6))\n",
    "plt.hist(masslist, bins, histtype='step', fill = False)\n",
    "plt.title(\"Halo Masses (threshold = 160)\", size = 19)\n",
    "plt.axis([1e7, 10**10.5, 0, 1000])\n",
    "\n",
    "\n",
    "# create axis labels\n",
    "xlab = \"$\\log_{10}M_h}$  $(Msun)$\"\n",
    "ylab = r\"$\\frac{dN}{d\\log_{10}M_h}$\"+\"\\n\"+r\"$\\left(\\frac{\\#}{h^{-3}Mpc^3}\\right)$\"\n",
    "plt.xlabel(xlab, size = 14, labelpad= -2)\n",
    "plt.ylabel(ylab, rotation = 0, size = 18, labelpad= 30)\n",
    "\n",
    "# create axis ticks \n",
    "plt.xscale('log')\n",
    "plt.tick_params(axis='x', which='major', labelsize=12)\n",
    "plt.tick_params(axis='y', which='major', labelsize=12)\n",
    "\n",
    "#show and save\n",
    "plt.show()\n",
    "\n",
    "#plt.savefig('./LG4_2048_40pc/rd0070/graph2.png', dpi = 300)"
   ]
  },
  {
   "cell_type": "code",
   "execution_count": 272,
   "metadata": {},
   "outputs": [],
   "source": [
    "log_mass = np.log(masslist) / log(10)\n",
    "density, bin_edges = np.histogram(log_mass, bins= np.linspace(7, 10, 30))\n",
    "log_density = np.log(density) / log(10)"
   ]
  },
  {
   "cell_type": "code",
   "execution_count": 295,
   "metadata": {},
   "outputs": [
    {
     "data": {
      "image/png": "[encoded data removed]",
      "text/plain": [
       "<matplotlib.figure.Figure at 0x2b53c3bfb400>"
      ]
     },
     "metadata": {},
     "output_type": "display_data"
    }
   ],
   "source": [
    "# specify figure size\n",
    "plt.figure(figsize=(8,6))\n",
    "\n",
    "#determine line of best fit\n",
    "bin_edges_fit = bin_edges[6:-4]\n",
    "log_density_fit = log_density[5:-4]\n",
    "par = np.polyfit(bin_edges_fit, log_density_fit, 1, full=True)\n",
    "slope, intercept = par[0][0], par[0][1]\n",
    "\n",
    "# plot data and line\n",
    "bin_edges_red = bin_edges[1::]\n",
    "plt.scatter(bin_edges_red, log_density)\n",
    "plt.plot(bin_edges_red, slope * bin_edges_red + intercept, color = 'red')\n",
    "plt.title(\"Halo Masses (threshold = 160)\", size = 19)\n",
    "\n",
    "# create axis labels\n",
    "xlab = \"$\\log_{10}M_h}$  $(Msun)$\"\n",
    "ylab = r\"$\\frac{dN}{d\\log_{10}M_h}$\"+\"\\n\"+r\"$\\left(\\frac{\\#}{h^{-3}Mpc^3}\\right)$\"\n",
    "plt.xlabel(xlab, size = 14, labelpad= 0)\n",
    "plt.ylabel(ylab, rotation = 0, size = 18, labelpad= 40)\n",
    "\n",
    "# create axis ticks \n",
    "plt.yscale('linear')\n",
    "plt.tick_params(axis='x', which='major', labelsize=12)\n",
    "plt.tick_params(axis='y', which='major', labelsize=12)\n",
    "\n",
    "# add slope and intercept\n",
    "annotation = \"$a = {:1.3f}$ \\n$b = {:1.3f}$\".format(slope, intercept)\n",
    "\"a = \" + str(slope) + \" b = \" + str(intercept)\n",
    "plt.text(9.5, 1.5, annotation, size = 12)\n",
    "\n",
    "#show and save\n",
    "plt.show()\n"
   ]
  },
  {
   "cell_type": "code",
   "execution_count": 275,
   "metadata": {},
   "outputs": [
    {
     "data": {
      "text/plain": [
       "(array([-0.70967004,  8.05047807]),\n",
       " array([ 3.20652139]),\n",
       " 2,\n",
       " array([ 1.41241545,  0.07129239]),\n",
       " 6.4392935428259079e-15)"
      ]
     },
     "execution_count": 275,
     "metadata": {},
     "output_type": "execute_result"
    }
   ],
   "source": [
    "par"
   ]
  },
  {
   "cell_type": "code",
   "execution_count": 279,
   "metadata": {},
   "outputs": [
    {
     "data": {
      "text/plain": [
       "(30, 29)"
      ]
     },
     "execution_count": 279,
     "metadata": {},
     "output_type": "execute_result"
    }
   ],
   "source": [
    "bin_edges.size, log_density.size, "
   ]
  },
  {
   "cell_type": "code",
   "execution_count": null,
   "metadata": {
    "collapsed": true
   },
   "outputs": [],
   "source": []
  }
 ],
 "metadata": {
  "kernelspec": {
   "display_name": "Python 3",
   "language": "python",
   "name": "python3"
  },
  "language_info": {
   "codemirror_mode": {
    "name": "ipython",
    "version": 3
   },
   "file_extension": ".py",
   "mimetype": "text/x-python",
   "name": "python",
   "nbconvert_exporter": "python",
   "pygments_lexer": "ipython3",
   "version": "3.6.1"
  }
 },
 "nbformat": 4,
 "nbformat_minor": 2
}
