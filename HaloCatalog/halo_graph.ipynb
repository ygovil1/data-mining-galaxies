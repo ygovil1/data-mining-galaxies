{
 "cells": [
  {
   "cell_type": "code",
   "execution_count": 492,
   "metadata": {},
   "outputs": [
    {
     "name": "stderr",
     "output_type": "stream",
     "text": [
      "yt : [INFO     ] 2017-06-27 13:38:46,379 Parameters: current_time              = 3.75573046409e+16\n",
      "yt : [INFO     ] 2017-06-27 13:38:46,382 Parameters: domain_dimensions         = [2 2 2]\n",
      "yt : [INFO     ] 2017-06-27 13:38:46,385 Parameters: domain_left_edge          = [ 0.  0.  0.]\n",
      "yt : [INFO     ] 2017-06-27 13:38:46,389 Parameters: domain_right_edge         = [  2.22535525e+25   2.22535525e+25   2.22535525e+25]\n",
      "yt : [INFO     ] 2017-06-27 13:38:46,392 Parameters: cosmological_simulation   = 1\n",
      "yt : [INFO     ] 2017-06-27 13:38:46,394 Parameters: current_redshift          = 4.99999998323\n",
      "yt : [INFO     ] 2017-06-27 13:38:46,396 Parameters: omega_lambda              = 0.712\n",
      "yt : [INFO     ] 2017-06-27 13:38:46,398 Parameters: omega_matter              = 0.288\n",
      "yt : [INFO     ] 2017-06-27 13:38:46,400 Parameters: hubble_constant           = 0.6933\n"
     ]
    }
   ],
   "source": [
    "# import basic libraries\n",
    "import yt\n",
    "import numpy as np\n",
    "import matplotlib.pyplot as plt\n",
    "from math import log, log10\n",
    "from astropy import units as u\n",
    "\n",
    "# import halo catalogue func\n",
    "from yt.analysis_modules.halo_analysis.api import *\n",
    "\n",
    "# load halo dataset\n",
    "halos_ds = yt.load('./LG4_2048_40pc/rd0070/halo_catalogs/catalog/catalog0070_thres180.0.h5')"
   ]
  },
  {
   "cell_type": "code",
   "execution_count": 10,
   "metadata": {
    "collapsed": true
   },
   "outputs": [],
   "source": [
    "import tempfile\n",
    "import shutil\n",
    "import os\n",
    "\n",
    "# Create temporary directory for storing files\n",
    "tmpdir = tempfile.mkdtemp()"
   ]
  },
  {
   "cell_type": "code",
   "execution_count": 493,
   "metadata": {},
   "outputs": [
    {
     "name": "stderr",
     "output_type": "stream",
     "text": [
      "yt : [INFO     ] 2017-06-27 13:38:50,187 Allocating for 8.970e+03 particles (index particle type 'all')\n",
      "yt : [INFO     ] 2017-06-27 13:38:50,195 Identified 3.065e+03 octs\n"
     ]
    }
   ],
   "source": [
    "# Instantiate a catalog using those two paramter files\n",
    "hc = HaloCatalog(halos_ds=halos_ds, output_dir=os.path.join(tmpdir, 'halo_catalog'))\n",
    "hc.load()"
   ]
  },
  {
   "cell_type": "code",
   "execution_count": 494,
   "metadata": {},
   "outputs": [],
   "source": [
    "# specify boundaries of zoom-in box\n",
    "# scaling factor multiplied by info from text file \n",
    "# units in cm\n",
    "xmin = 2.22535525e+25*0.39319589 * u.cm\n",
    "ymin = 2.22535525e+25*0.42984636 * u.cm\n",
    "zmin = 2.22535525e+25*0.41706725 * u.cm\n",
    "\n",
    "xmax = 2.22535525e+25*0.56298484 * u.cm\n",
    "ymax = 2.22535525e+25*0.55089246 * u.cm\n",
    "zmax = 2.22535525e+25*0.56698254 * u.cm"
   ]
  },
  {
   "cell_type": "code",
   "execution_count": 495,
   "metadata": {
    "scrolled": true
   },
   "outputs": [],
   "source": [
    "# find masses of halos\n",
    "masslist = []\n",
    "\n",
    "for halo in hc.halo_list:\n",
    "    # find coord and mass of halo\n",
    "    x = halo.quantities.get('particle_position_x') * u.cm\n",
    "    y = halo.quantities.get('particle_position_y') * u.cm\n",
    "    z = halo.quantities.get('particle_position_z') * u.cm\n",
    "    mass = halo.quantities.get('particle_mass').in_units('Msun') * u.Msun\n",
    "    \n",
    "    # check if halo is inside zoom-in box\n",
    "    if xmin <= x < xmax and ymin <= y < ymax and zmin <= z < zmax:\n",
    "        masslist.append(mass.value)\n"
   ]
  },
  {
   "cell_type": "code",
   "execution_count": 496,
   "metadata": {
    "collapsed": true
   },
   "outputs": [],
   "source": [
    "masslist = np.array(masslist)"
   ]
  },
  {
   "cell_type": "code",
   "execution_count": 497,
   "metadata": {},
   "outputs": [],
   "source": [
    "bins = np.geomspace(start=1e6, stop=1e11, num=50)"
   ]
  },
  {
   "cell_type": "code",
   "execution_count": 504,
   "metadata": {
    "scrolled": true
   },
   "outputs": [
    {
     "data": {
      "image/png": "[encoded data removed]",
      "text/plain": [
       "<matplotlib.figure.Figure at 0x2b53d2e7f278>"
      ]
     },
     "metadata": {},
     "output_type": "display_data"
    }
   ],
   "source": [
    "# create histogram\n",
    "plt.figure(figsize=(8,6))\n",
    "plt.hist(masslist, bins, histtype='step', fill = False)\n",
    "plt.title(\"Halo Masses (threshold = 180)\", size = 19)\n",
    "plt.axis([1e7, 10**10.5, 0, 1000])\n",
    "\n",
    "\n",
    "# create axis labels\n",
    "xlab = \"$\\log_{10}M_h}$  $(Msun)$\"\n",
    "ylab = r\"$\\frac{dN}{d\\log_{10}M_h}$\"+\"\\n\"+r\"$\\left(\\frac{\\#}{h^{-3}Mpc^3}\\right)$\"\n",
    "plt.xlabel(xlab, size = 14, labelpad= -2)\n",
    "plt.ylabel(ylab, rotation = 0, size = 18, labelpad= 30)\n",
    "\n",
    "# create axis ticks \n",
    "plt.xscale('log')\n",
    "plt.tick_params(axis='x', which='major', labelsize=12)\n",
    "plt.tick_params(axis='y', which='major', labelsize=12)\n",
    "\n",
    "#show and save\n",
    "plt.show()\n",
    "\n",
    "#plt.savefig('./LG4_2048_40pc/rd0070/graph2.png', dpi = 300)"
   ]
  },
  {
   "cell_type": "code",
   "execution_count": 499,
   "metadata": {},
   "outputs": [],
   "source": [
    "log_mass = np.log(masslist) / log(10)\n",
    "density, bin_edges = np.histogram(log_mass, bins= np.linspace(7, 10, 30))\n",
    "log_density = np.log(density) / log(10)"
   ]
  },
  {
   "cell_type": "code",
   "execution_count": 503,
   "metadata": {
    "scrolled": false
   },
   "outputs": [
    {
     "data": {
      "image/png": "[encoded data removed]",
      "text/plain": [
       "<matplotlib.figure.Figure at 0x2b53d2cfe7f0>"
      ]
     },
     "metadata": {},
     "output_type": "display_data"
    }
   ],
   "source": [
    "# specify figure size\n",
    "plt.figure(figsize=(8,6))\n",
    "\n",
    "#determine line of best fit\n",
    "bin_edges_fit = bin_edges[6:-4]\n",
    "log_density_fit = log_density[5:-4]\n",
    "par = np.polyfit(bin_edges_fit, log_density_fit, 1, full=True)\n",
    "slope, intercept = par[0][0], par[0][1]\n",
    "\n",
    "# plot data and line\n",
    "bin_edges_red = bin_edges[1::]\n",
    "plt.scatter(bin_edges_red, log_density)\n",
    "plt.plot(bin_edges_red, slope * bin_edges_red + intercept, color = 'red')\n",
    "plt.title(\"Halo Masses (threshold = 180)\", size = 19)\n",
    "\n",
    "# create axis labels\n",
    "xlab = \"$\\log_{10}M_h}$  $(Msun)$\"\n",
    "ylab = r\"$\\frac{dN}{d\\log_{10}M_h}$\"+\"\\n\"+r\"$\\left(\\frac{\\#}{h^{-3}Mpc^3}\\right)$\"\n",
    "plt.xlabel(xlab, size = 14, labelpad= 0)\n",
    "plt.ylabel(ylab, rotation = 0, size = 18, labelpad= 40)\n",
    "\n",
    "# create axis ticks \n",
    "plt.yscale('linear')\n",
    "plt.tick_params(axis='x', which='major', labelsize=12)\n",
    "plt.tick_params(axis='y', which='major', labelsize=12)\n",
    "\n",
    "# add slope and intercept\n",
    "annotation = \"$a = {:1.3f}$ \\n$b = {:1.3f}$\".format(slope, intercept)\n",
    "\"a = \" + str(slope) + \" b = \" + str(intercept)\n",
    "plt.text(9.5, 1.5, annotation, size = 12)\n",
    "\n",
    "#show and save\n",
    "plt.show()\n"
   ]
  },
  {
   "cell_type": "code",
   "execution_count": null,
   "metadata": {
    "collapsed": true
   },
   "outputs": [],
   "source": [
    "#--find ratio of stellar mass to halo mass\n",
    "ratiolist = []\n",
    "\n",
    "# dataset\n",
    "ds = yt.load('~/../../tigress/cen/LG4_2048_40pc/RD0070/redshift0070')\n",
    "\n",
    "for halo in hc.halo_list:\n",
    "    # find coord and mass of halo\n",
    "    x = halo.quantities.get('particle_position_x') * u.cm\n",
    "    y = halo.quantities.get('particle_position_y') * u.cm\n",
    "    z = halo.quantities.get('particle_position_z') * u.cm\n",
    "    halo_mass = halo.quantities.get('particle_mass').in_units('Msun') * u.Msun\n",
    "    \n",
    "    # check if halo is inside zoom-in box\n",
    "    if xmin <= x < xmax and ymin <= y < ymax and zmin <= z < zmax:\n",
    "        # create a sphere data object with halo position and radius\n",
    "        radius = halo.quantities.get('virial_radius') * u.cm\n",
    "        sp = ds.sphere([x.value/2.22535525e+25, y.value/2.22535525e+25, z.value/2.22535525e+25],\n",
    "                        (radius.value, 'cm'))\n",
    "        \n",
    "        "
   ]
  },
  {
   "cell_type": "code",
   "execution_count": 487,
   "metadata": {
    "scrolled": true
   },
   "outputs": [
    {
     "name": "stderr",
     "output_type": "stream",
     "text": [
      "yt : [INFO     ] 2017-06-27 11:04:09,469 Parameters: current_time              = 158.01757996843\n",
      "yt : [INFO     ] 2017-06-27 11:04:09,473 Parameters: domain_dimensions         = [128 128 128]\n",
      "yt : [INFO     ] 2017-06-27 11:04:09,476 Parameters: domain_left_edge          = [ 0.  0.  0.]\n",
      "yt : [INFO     ] 2017-06-27 11:04:09,479 Parameters: domain_right_edge         = [ 1.  1.  1.]\n",
      "yt : [INFO     ] 2017-06-27 11:04:09,483 Parameters: cosmological_simulation   = 1\n",
      "yt : [INFO     ] 2017-06-27 11:04:09,485 Parameters: current_redshift          = 4.9999999832278\n",
      "yt : [INFO     ] 2017-06-27 11:04:09,487 Parameters: omega_lambda              = 0.712\n",
      "yt : [INFO     ] 2017-06-27 11:04:09,490 Parameters: omega_matter              = 0.288\n",
      "yt : [INFO     ] 2017-06-27 11:04:09,492 Parameters: hubble_constant           = 0.6933\n",
      "Parsing Hierarchy : 100%|██████████| 44216/44216 [00:04<00:00, 10399.28it/s]\n",
      "yt : [INFO     ] 2017-06-27 11:04:17,017 Gathering a field list (this may take a moment.)\n"
     ]
    }
   ],
   "source": [
    "# dataset\n",
    "ds = yt.load('~/../../tigress/cen/LG4_2048_40pc/RD0070/redshift0070')\n",
    "\n",
    "halo = hc.halo_list[18]\n",
    "# find coord and mass of halo\n",
    "x = halo.quantities.get('particle_position_x') * u.cm\n",
    "y = halo.quantities.get('particle_position_y') * u.cm\n",
    "z = halo.quantities.get('particle_position_z') * u.cm\n",
    "halo_mass = halo.quantities.get('particle_mass').in_units('Msun') * u.Msun\n",
    "\n",
    "# find stellar mass\n",
    "radius = halo.quantities.get('virial_radius') * u.cm\n",
    "sp = ds.sphere([x.value/2.22535525e+25, y.value/2.22535525e+25, z.value/2.22535525e+25],\n",
    "                (radius.value, 'cm'))\n",
    "\n",
    "# from below (just for test purposes)\n",
    "stellar_mass = sp.quantities.total_mass() * u.g\n",
    "stellar_mass = stellar_mass.to('Msun')\n",
    "ratio = (stellar_mass) / halo_mass \n",
    "ratiolist.append(ratio)\n"
   ]
  },
  {
   "cell_type": "code",
   "execution_count": 338,
   "metadata": {
    "scrolled": true
   },
   "outputs": [
    {
     "data": {
      "text/plain": [
       "[('all', 'creation_time'),\n",
       " ('all', 'dynamical_time'),\n",
       " ('all', 'initial_mass'),\n",
       " ('all', 'metallicity_fraction'),\n",
       " ('all', 'particle_index'),\n",
       " ('all', 'particle_mass'),\n",
       " ('all', 'particle_position_x'),\n",
       " ('all', 'particle_position_y'),\n",
       " ('all', 'particle_position_z'),\n",
       " ('all', 'particle_type'),\n",
       " ('all', 'particle_velocity_x'),\n",
       " ('all', 'particle_velocity_y'),\n",
       " ('all', 'particle_velocity_z'),\n",
       " ('all', 'typeia_fraction'),\n",
       " ('enzo', 'Dark_Matter_Density'),\n",
       " ('enzo', 'Density'),\n",
       " ('enzo', 'Electron_Density'),\n",
       " ('enzo', 'H2II_Density'),\n",
       " ('enzo', 'H2I_Density'),\n",
       " ('enzo', 'HII_Density'),\n",
       " ('enzo', 'HI_Density'),\n",
       " ('enzo', 'HM_Density'),\n",
       " ('enzo', 'HeIII_Density'),\n",
       " ('enzo', 'HeII_Density'),\n",
       " ('enzo', 'HeI_Density'),\n",
       " ('enzo', 'Metal_Density'),\n",
       " ('enzo', 'Temperature'),\n",
       " ('enzo', 'TotalEnergy'),\n",
       " ('enzo', 'x-velocity'),\n",
       " ('enzo', 'y-velocity'),\n",
       " ('enzo', 'z-velocity'),\n",
       " ('io', 'creation_time'),\n",
       " ('io', 'dynamical_time'),\n",
       " ('io', 'initial_mass'),\n",
       " ('io', 'metallicity_fraction'),\n",
       " ('io', 'particle_index'),\n",
       " ('io', 'particle_mass'),\n",
       " ('io', 'particle_position_x'),\n",
       " ('io', 'particle_position_y'),\n",
       " ('io', 'particle_position_z'),\n",
       " ('io', 'particle_type'),\n",
       " ('io', 'particle_velocity_x'),\n",
       " ('io', 'particle_velocity_y'),\n",
       " ('io', 'particle_velocity_z'),\n",
       " ('io', 'typeia_fraction')]"
      ]
     },
     "execution_count": 338,
     "metadata": {},
     "output_type": "execute_result"
    }
   ],
   "source": [
    "ds.field_list"
   ]
  },
  {
   "cell_type": "code",
   "execution_count": 465,
   "metadata": {},
   "outputs": [
    {
     "data": {
      "text/latex": [
       "$10910299 \\; \\mathrm{M_{\\odot}}$"
      ],
      "text/plain": [
       "<Quantity 10910299.154122373 solMass>"
      ]
     },
     "execution_count": 465,
     "metadata": {},
     "output_type": "execute_result"
    }
   ],
   "source": [
    "halo_mass"
   ]
  },
  {
   "cell_type": "code",
   "execution_count": 417,
   "metadata": {},
   "outputs": [
    {
     "data": {
      "text/plain": [
       "(<Quantity 1.2576035739426941e+25 cm>,\n",
       " <Quantity 9.17065987874833e+24 cm>,\n",
       " <Quantity 1.0358700479584046e+25 cm>)"
      ]
     },
     "execution_count": 417,
     "metadata": {},
     "output_type": "execute_result"
    }
   ],
   "source": [
    "x,y,z"
   ]
  },
  {
   "cell_type": "code",
   "execution_count": 532,
   "metadata": {
    "scrolled": true
   },
   "outputs": [],
   "source": [
    "stellar_mass = sp.quantities.total_mass()"
   ]
  },
  {
   "cell_type": "code",
   "execution_count": 391,
   "metadata": {},
   "outputs": [],
   "source": [
    "#stellar_mass = stellar_mass.to('Msun')"
   ]
  },
  {
   "cell_type": "code",
   "execution_count": 533,
   "metadata": {},
   "outputs": [
    {
     "data": {
      "text/plain": [
       "YTArray([  7.40787381e+38,   1.42217611e+41]) g"
      ]
     },
     "execution_count": 533,
     "metadata": {},
     "output_type": "execute_result"
    }
   ],
   "source": [
    "stellar_mass"
   ]
  },
  {
   "cell_type": "code",
   "execution_count": 488,
   "metadata": {
    "scrolled": false
   },
   "outputs": [
    {
     "data": {
      "text/latex": [
       "$[0.0057423416,~1.1024244] \\; \\mathrm{}$"
      ],
      "text/plain": [
       "<Quantity [ 0.00574234, 1.10242444]>"
      ]
     },
     "execution_count": 488,
     "metadata": {},
     "output_type": "execute_result"
    }
   ],
   "source": [
    "ratio"
   ]
  },
  {
   "cell_type": "code",
   "execution_count": 489,
   "metadata": {
    "scrolled": false
   },
   "outputs": [
    {
     "name": "stdout",
     "output_type": "stream",
     "text": [
      "[<Quantity 3.0111384817726794e-49>, <Quantity 1.6595203629419832e-49>, <Quantity 1.0274242792664465>, <Quantity [ 0.00433863, 1.02742428]>, <Quantity [ 0.00223694, 1.31533692]>, <Quantity [ 0.00574234, 1.10242444]>]\n"
     ]
    }
   ],
   "source": [
    "print(ratiolist)"
   ]
  },
  {
   "cell_type": "code",
   "execution_count": 490,
   "metadata": {},
   "outputs": [
    {
     "name": "stdout",
     "output_type": "stream",
     "text": [
      "1.0000000000000002\n"
     ]
    }
   ],
   "source": [
    "temp1 = sp.quantities.total_quantity([('io', 'particle_mass')]).in_units('g') * u.g\n",
    "temp1 = temp1.to('Msun')\n",
    "\n",
    "temp2 = sp.quantities.total_quantity([('all', 'particle_mass')]).in_units('g') * u.g\n",
    "temp2 = temp2.to('Msun')\n",
    "\n",
    "print(temp1/temp2)"
   ]
  },
  {
   "cell_type": "code",
   "execution_count": 491,
   "metadata": {},
   "outputs": [
    {
     "data": {
      "text/latex": [
       "$1.1024244 \\; \\mathrm{}$"
      ],
      "text/plain": [
       "<Quantity 1.1024244350401273>"
      ]
     },
     "execution_count": 491,
     "metadata": {},
     "output_type": "execute_result"
    }
   ],
   "source": [
    "temp1 / halo_mass"
   ]
  },
  {
   "cell_type": "code",
   "execution_count": 505,
   "metadata": {},
   "outputs": [
    {
     "data": {
      "text/plain": [
       "[<Quantity 3.0111384817726794e-49>,\n",
       " <Quantity 1.6595203629419832e-49>,\n",
       " <Quantity 1.0274242792664465>,\n",
       " <Quantity [ 0.00433863, 1.02742428]>,\n",
       " <Quantity [ 0.00223694, 1.31533692]>,\n",
       " <Quantity [ 0.00574234, 1.10242444]>]"
      ]
     },
     "execution_count": 505,
     "metadata": {},
     "output_type": "execute_result"
    }
   ],
   "source": [
    "ratiolist"
   ]
  },
  {
   "cell_type": "code",
   "execution_count": 525,
   "metadata": {},
   "outputs": [],
   "source": [
    "templist = [1,2,3,4,5,6,7,823,9,10]"
   ]
  },
  {
   "cell_type": "code",
   "execution_count": 526,
   "metadata": {},
   "outputs": [],
   "source": [
    "import pickle"
   ]
  },
  {
   "cell_type": "code",
   "execution_count": 527,
   "metadata": {
    "collapsed": true
   },
   "outputs": [],
   "source": [
    "with open('ratio_list.txt', 'wb') as outfile:\n",
    "    pickle.dump(templist, outfile)"
   ]
  },
  {
   "cell_type": "code",
   "execution_count": 528,
   "metadata": {},
   "outputs": [],
   "source": [
    "with open ('ratio_list.txt', 'rb') as infile:\n",
    "    blist = pickle.load(infile)"
   ]
  },
  {
   "cell_type": "code",
   "execution_count": 529,
   "metadata": {},
   "outputs": [
    {
     "data": {
      "text/plain": [
       "[1, 2, 3, 4, 5, 6, 7, 823, 9, 10]"
      ]
     },
     "execution_count": 529,
     "metadata": {},
     "output_type": "execute_result"
    }
   ],
   "source": [
    "blist"
   ]
  },
  {
   "cell_type": "code",
   "execution_count": 534,
   "metadata": {},
   "outputs": [
    {
     "data": {
      "text/latex": [
       "$64855667 \\; \\mathrm{M_{\\odot}}$"
      ],
      "text/plain": [
       "<Quantity 64855667.19394968 solMass>"
      ]
     },
     "execution_count": 534,
     "metadata": {},
     "output_type": "execute_result"
    }
   ],
   "source": [
    "halo_mass"
   ]
  },
  {
   "cell_type": "code",
   "execution_count": 543,
   "metadata": {},
   "outputs": [],
   "source": [
    "test = stellar_mass[0] * u.g"
   ]
  },
  {
   "cell_type": "code",
   "execution_count": 545,
   "metadata": {},
   "outputs": [],
   "source": [
    "test = test.to('Msun')"
   ]
  },
  {
   "cell_type": "code",
   "execution_count": 550,
   "metadata": {},
   "outputs": [],
   "source": [
    "testtt = []\n",
    "testtt.append(test / halo_mass.to('Msun'))"
   ]
  },
  {
   "cell_type": "code",
   "execution_count": 551,
   "metadata": {},
   "outputs": [
    {
     "data": {
      "text/plain": [
       "[<Quantity 0.005742341634879202>]"
      ]
     },
     "execution_count": 551,
     "metadata": {},
     "output_type": "execute_result"
    }
   ],
   "source": [
    "testtt"
   ]
  },
  {
   "cell_type": "code",
   "execution_count": null,
   "metadata": {
    "collapsed": true
   },
   "outputs": [],
   "source": []
  }
 ],
 "metadata": {
  "kernelspec": {
   "display_name": "Python 3",
   "language": "python",
   "name": "python3"
  },
  "language_info": {
   "codemirror_mode": {
    "name": "ipython",
    "version": 3
   },
   "file_extension": ".py",
   "mimetype": "text/x-python",
   "name": "python",
   "nbconvert_exporter": "python",
   "pygments_lexer": "ipython3",
   "version": "3.6.1"
  }
 },
 "nbformat": 4,
 "nbformat_minor": 2
}
