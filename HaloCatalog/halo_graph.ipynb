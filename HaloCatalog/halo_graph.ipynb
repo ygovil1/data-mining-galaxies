{
 "cells": [
  {
   "cell_type": "code",
   "execution_count": 28,
   "metadata": {},
   "outputs": [
    {
     "name": "stderr",
     "output_type": "stream",
     "text": [
      "yt : [INFO     ] 2017-06-23 15:56:06,107 Parameters: current_time              = 3.75573046409e+16\n",
      "yt : [INFO     ] 2017-06-23 15:56:06,109 Parameters: domain_dimensions         = [2 2 2]\n",
      "yt : [INFO     ] 2017-06-23 15:56:06,112 Parameters: domain_left_edge          = [ 0.  0.  0.]\n",
      "yt : [INFO     ] 2017-06-23 15:56:06,116 Parameters: domain_right_edge         = [  2.22535525e+25   2.22535525e+25   2.22535525e+25]\n",
      "yt : [INFO     ] 2017-06-23 15:56:06,119 Parameters: cosmological_simulation   = 1\n",
      "yt : [INFO     ] 2017-06-23 15:56:06,121 Parameters: current_redshift          = 4.99999998323\n",
      "yt : [INFO     ] 2017-06-23 15:56:06,123 Parameters: omega_lambda              = 0.712\n",
      "yt : [INFO     ] 2017-06-23 15:56:06,125 Parameters: omega_matter              = 0.288\n",
      "yt : [INFO     ] 2017-06-23 15:56:06,126 Parameters: hubble_constant           = 0.6933\n"
     ]
    }
   ],
   "source": [
    "# import basic libraries\n",
    "import yt\n",
    "import numpy as np\n",
    "import matplotlib.pyplot as plt\n",
    "from astropy import units as u\n",
    "\n",
    "# import halo catalogue func\n",
    "from yt.analysis_modules.halo_analysis.api import *\n",
    "\n",
    "# load halo dataset\n",
    "halos_ds = yt.load('./LG4_2048_40pc/rd0070/halo_catalogs/catalog/catalog0070.0.h5')"
   ]
  },
  {
   "cell_type": "code",
   "execution_count": 10,
   "metadata": {
    "collapsed": true
   },
   "outputs": [],
   "source": [
    "import tempfile\n",
    "import shutil\n",
    "import os\n",
    "\n",
    "# Create temporary directory for storing files\n",
    "tmpdir = tempfile.mkdtemp()"
   ]
  },
  {
   "cell_type": "code",
   "execution_count": 11,
   "metadata": {},
   "outputs": [
    {
     "name": "stderr",
     "output_type": "stream",
     "text": [
      "yt : [INFO     ] 2017-06-23 15:38:48,014 Allocating for 9.178e+03 particles (index particle type 'all')\n",
      "yt : [INFO     ] 2017-06-23 15:38:48,033 Identified 3.025e+03 octs\n"
     ]
    }
   ],
   "source": [
    "# Instantiate a catalog using those two paramter files\n",
    "hc = HaloCatalog(halos_ds=halos_ds, output_dir=os.path.join(tmpdir, 'halo_catalog'))\n",
    "hc.load()"
   ]
  },
  {
   "cell_type": "code",
   "execution_count": 38,
   "metadata": {},
   "outputs": [],
   "source": [
    "# specify boundaries of zoom-in box\n",
    "# scaling factor multiplied by info from text file \n",
    "# units in cm\n",
    "xmin = 2.22535525e+25*0.39319589 * u.cm\n",
    "ymin = 2.22535525e+25*0.42984636 * u.cm\n",
    "zmin = 2.22535525e+25*0.41706725 * u.cm\n",
    "\n",
    "xmax = 2.22535525e+25*0.56298484 * u.cm\n",
    "ymax = 2.22535525e+25*0.55089246 * u.cm\n",
    "zmax = 2.22535525e+25*0.56698254 * u.cm"
   ]
  },
  {
   "cell_type": "code",
   "execution_count": 56,
   "metadata": {
    "scrolled": true
   },
   "outputs": [],
   "source": [
    "# find masses of halos\n",
    "masslist = []\n",
    "\n",
    "for halo in hc.halo_list:\n",
    "    # find coord and mass of halo\n",
    "    x = halo.quantities.get('particle_position_x') * u.cm\n",
    "    y = halo.quantities.get('particle_position_y') * u.cm\n",
    "    z = halo.quantities.get('particle_position_z') * u.cm\n",
    "    mass = halo.quantities.get('particle_mass').in_units('Msun') * u.Msun\n",
    "    \n",
    "    # check if halo is inside zoom-in box\n",
    "    if xmin <= x < xmax and ymin <= y < ymax and zmin <= z < zmax:\n",
    "        masslist.append(mass.value)\n"
   ]
  },
  {
   "cell_type": "code",
   "execution_count": 57,
   "metadata": {
    "collapsed": true
   },
   "outputs": [],
   "source": [
    "masslist = np.array(masslist)"
   ]
  },
  {
   "cell_type": "code",
   "execution_count": 78,
   "metadata": {},
   "outputs": [],
   "source": [
    "bins = np.linspace(1e5, 1e9, 300)"
   ]
  },
  {
   "cell_type": "code",
   "execution_count": 82,
   "metadata": {},
   "outputs": [
    {
     "data": {
      "image/png": "[encoded data removed]",
      "text/plain": [
       "<matplotlib.figure.Figure at 0x2b53c411f908>"
      ]
     },
     "metadata": {},
     "output_type": "display_data"
    }
   ],
   "source": [
    "plt.hist(masslist, bins, histtype='step', fill = False)\n",
    "plt.title(\"Halos\")\n",
    "plt.xlabel(\"$log_10(M_h) (Msun)$\")\n",
    "plt.xscale('log')\n",
    "plt.axis([1e6, 1e9, 0, 600])\n",
    "plt.show()"
   ]
  },
  {
   "cell_type": "code",
   "execution_count": 80,
   "metadata": {},
   "outputs": [
    {
     "data": {
      "text/plain": [
       "array([  1.00000000e+05,   3.44414716e+06,   6.78829431e+06,\n",
       "         1.01324415e+07,   1.34765886e+07,   1.68207358e+07,\n",
       "         2.01648829e+07,   2.35090301e+07,   2.68531773e+07,\n",
       "         3.01973244e+07,   3.35414716e+07,   3.68856187e+07,\n",
       "         4.02297659e+07,   4.35739130e+07,   4.69180602e+07,\n",
       "         5.02622074e+07,   5.36063545e+07,   5.69505017e+07,\n",
       "         6.02946488e+07,   6.36387960e+07,   6.69829431e+07,\n",
       "         7.03270903e+07,   7.36712375e+07,   7.70153846e+07,\n",
       "         8.03595318e+07,   8.37036789e+07,   8.70478261e+07,\n",
       "         9.03919732e+07,   9.37361204e+07,   9.70802676e+07,\n",
       "         1.00424415e+08,   1.03768562e+08,   1.07112709e+08,\n",
       "         1.10456856e+08,   1.13801003e+08,   1.17145151e+08,\n",
       "         1.20489298e+08,   1.23833445e+08,   1.27177592e+08,\n",
       "         1.30521739e+08,   1.33865886e+08,   1.37210033e+08,\n",
       "         1.40554181e+08,   1.43898328e+08,   1.47242475e+08,\n",
       "         1.50586622e+08,   1.53930769e+08,   1.57274916e+08,\n",
       "         1.60619064e+08,   1.63963211e+08,   1.67307358e+08,\n",
       "         1.70651505e+08,   1.73995652e+08,   1.77339799e+08,\n",
       "         1.80683946e+08,   1.84028094e+08,   1.87372241e+08,\n",
       "         1.90716388e+08,   1.94060535e+08,   1.97404682e+08,\n",
       "         2.00748829e+08,   2.04092977e+08,   2.07437124e+08,\n",
       "         2.10781271e+08,   2.14125418e+08,   2.17469565e+08,\n",
       "         2.20813712e+08,   2.24157860e+08,   2.27502007e+08,\n",
       "         2.30846154e+08,   2.34190301e+08,   2.37534448e+08,\n",
       "         2.40878595e+08,   2.44222742e+08,   2.47566890e+08,\n",
       "         2.50911037e+08,   2.54255184e+08,   2.57599331e+08,\n",
       "         2.60943478e+08,   2.64287625e+08,   2.67631773e+08,\n",
       "         2.70975920e+08,   2.74320067e+08,   2.77664214e+08,\n",
       "         2.81008361e+08,   2.84352508e+08,   2.87696656e+08,\n",
       "         2.91040803e+08,   2.94384950e+08,   2.97729097e+08,\n",
       "         3.01073244e+08,   3.04417391e+08,   3.07761538e+08,\n",
       "         3.11105686e+08,   3.14449833e+08,   3.17793980e+08,\n",
       "         3.21138127e+08,   3.24482274e+08,   3.27826421e+08,\n",
       "         3.31170569e+08,   3.34514716e+08,   3.37858863e+08,\n",
       "         3.41203010e+08,   3.44547157e+08,   3.47891304e+08,\n",
       "         3.51235452e+08,   3.54579599e+08,   3.57923746e+08,\n",
       "         3.61267893e+08,   3.64612040e+08,   3.67956187e+08,\n",
       "         3.71300334e+08,   3.74644482e+08,   3.77988629e+08,\n",
       "         3.81332776e+08,   3.84676923e+08,   3.88021070e+08,\n",
       "         3.91365217e+08,   3.94709365e+08,   3.98053512e+08,\n",
       "         4.01397659e+08,   4.04741806e+08,   4.08085953e+08,\n",
       "         4.11430100e+08,   4.14774247e+08,   4.18118395e+08,\n",
       "         4.21462542e+08,   4.24806689e+08,   4.28150836e+08,\n",
       "         4.31494983e+08,   4.34839130e+08,   4.38183278e+08,\n",
       "         4.41527425e+08,   4.44871572e+08,   4.48215719e+08,\n",
       "         4.51559866e+08,   4.54904013e+08,   4.58248161e+08,\n",
       "         4.61592308e+08,   4.64936455e+08,   4.68280602e+08,\n",
       "         4.71624749e+08,   4.74968896e+08,   4.78313043e+08,\n",
       "         4.81657191e+08,   4.85001338e+08,   4.88345485e+08,\n",
       "         4.91689632e+08,   4.95033779e+08,   4.98377926e+08,\n",
       "         5.01722074e+08,   5.05066221e+08,   5.08410368e+08,\n",
       "         5.11754515e+08,   5.15098662e+08,   5.18442809e+08,\n",
       "         5.21786957e+08,   5.25131104e+08,   5.28475251e+08,\n",
       "         5.31819398e+08,   5.35163545e+08,   5.38507692e+08,\n",
       "         5.41851839e+08,   5.45195987e+08,   5.48540134e+08,\n",
       "         5.51884281e+08,   5.55228428e+08,   5.58572575e+08,\n",
       "         5.61916722e+08,   5.65260870e+08,   5.68605017e+08,\n",
       "         5.71949164e+08,   5.75293311e+08,   5.78637458e+08,\n",
       "         5.81981605e+08,   5.85325753e+08,   5.88669900e+08,\n",
       "         5.92014047e+08,   5.95358194e+08,   5.98702341e+08,\n",
       "         6.02046488e+08,   6.05390635e+08,   6.08734783e+08,\n",
       "         6.12078930e+08,   6.15423077e+08,   6.18767224e+08,\n",
       "         6.22111371e+08,   6.25455518e+08,   6.28799666e+08,\n",
       "         6.32143813e+08,   6.35487960e+08,   6.38832107e+08,\n",
       "         6.42176254e+08,   6.45520401e+08,   6.48864548e+08,\n",
       "         6.52208696e+08,   6.55552843e+08,   6.58896990e+08,\n",
       "         6.62241137e+08,   6.65585284e+08,   6.68929431e+08,\n",
       "         6.72273579e+08,   6.75617726e+08,   6.78961873e+08,\n",
       "         6.82306020e+08,   6.85650167e+08,   6.88994314e+08,\n",
       "         6.92338462e+08,   6.95682609e+08,   6.99026756e+08,\n",
       "         7.02370903e+08,   7.05715050e+08,   7.09059197e+08,\n",
       "         7.12403344e+08,   7.15747492e+08,   7.19091639e+08,\n",
       "         7.22435786e+08,   7.25779933e+08,   7.29124080e+08,\n",
       "         7.32468227e+08,   7.35812375e+08,   7.39156522e+08,\n",
       "         7.42500669e+08,   7.45844816e+08,   7.49188963e+08,\n",
       "         7.52533110e+08,   7.55877258e+08,   7.59221405e+08,\n",
       "         7.62565552e+08,   7.65909699e+08,   7.69253846e+08,\n",
       "         7.72597993e+08,   7.75942140e+08,   7.79286288e+08,\n",
       "         7.82630435e+08,   7.85974582e+08,   7.89318729e+08,\n",
       "         7.92662876e+08,   7.96007023e+08,   7.99351171e+08,\n",
       "         8.02695318e+08,   8.06039465e+08,   8.09383612e+08,\n",
       "         8.12727759e+08,   8.16071906e+08,   8.19416054e+08,\n",
       "         8.22760201e+08,   8.26104348e+08,   8.29448495e+08,\n",
       "         8.32792642e+08,   8.36136789e+08,   8.39480936e+08,\n",
       "         8.42825084e+08,   8.46169231e+08,   8.49513378e+08,\n",
       "         8.52857525e+08,   8.56201672e+08,   8.59545819e+08,\n",
       "         8.62889967e+08,   8.66234114e+08,   8.69578261e+08,\n",
       "         8.72922408e+08,   8.76266555e+08,   8.79610702e+08,\n",
       "         8.82954849e+08,   8.86298997e+08,   8.89643144e+08,\n",
       "         8.92987291e+08,   8.96331438e+08,   8.99675585e+08,\n",
       "         9.03019732e+08,   9.06363880e+08,   9.09708027e+08,\n",
       "         9.13052174e+08,   9.16396321e+08,   9.19740468e+08,\n",
       "         9.23084615e+08,   9.26428763e+08,   9.29772910e+08,\n",
       "         9.33117057e+08,   9.36461204e+08,   9.39805351e+08,\n",
       "         9.43149498e+08,   9.46493645e+08,   9.49837793e+08,\n",
       "         9.53181940e+08,   9.56526087e+08,   9.59870234e+08,\n",
       "         9.63214381e+08,   9.66558528e+08,   9.69902676e+08,\n",
       "         9.73246823e+08,   9.76590970e+08,   9.79935117e+08,\n",
       "         9.83279264e+08,   9.86623411e+08,   9.89967559e+08,\n",
       "         9.93311706e+08,   9.96655853e+08,   1.00000000e+09])"
      ]
     },
     "execution_count": 80,
     "metadata": {},
     "output_type": "execute_result"
    }
   ],
   "source": [
    "np.linspace(1e5, 1e9, 300)"
   ]
  },
  {
   "cell_type": "code",
   "execution_count": null,
   "metadata": {
    "collapsed": true
   },
   "outputs": [],
   "source": []
  }
 ],
 "metadata": {
  "kernelspec": {
   "display_name": "Python 3",
   "language": "python",
   "name": "python3"
  },
  "language_info": {
   "codemirror_mode": {
    "name": "ipython",
    "version": 3
   },
   "file_extension": ".py",
   "mimetype": "text/x-python",
   "name": "python",
   "nbconvert_exporter": "python",
   "pygments_lexer": "ipython3",
   "version": "3.6.1"
  }
 },
 "nbformat": 4,
 "nbformat_minor": 2
}
