{
 "cells": [
  {
   "cell_type": "code",
   "execution_count": 3,
   "metadata": {},
   "outputs": [
    {
     "name": "stderr",
     "output_type": "stream",
     "text": [
      "yt : [INFO     ] 2017-07-25 15:35:13,018 Parameters: current_time              = 3.75573046409e+16\n",
      "yt : [INFO     ] 2017-07-25 15:35:13,020 Parameters: domain_dimensions         = [2 2 2]\n",
      "yt : [INFO     ] 2017-07-25 15:35:13,022 Parameters: domain_left_edge          = [ 0.  0.  0.]\n",
      "yt : [INFO     ] 2017-07-25 15:35:13,024 Parameters: domain_right_edge         = [  2.22535525e+25   2.22535525e+25   2.22535525e+25]\n",
      "yt : [INFO     ] 2017-07-25 15:35:13,026 Parameters: cosmological_simulation   = 1\n",
      "yt : [INFO     ] 2017-07-25 15:35:13,027 Parameters: current_redshift          = 4.99999998323\n",
      "yt : [INFO     ] 2017-07-25 15:35:13,028 Parameters: omega_lambda              = 0.712\n",
      "yt : [INFO     ] 2017-07-25 15:35:13,029 Parameters: omega_matter              = 0.288\n",
      "yt : [INFO     ] 2017-07-25 15:35:13,030 Parameters: hubble_constant           = 0.6933\n"
     ]
    }
   ],
   "source": [
    "# import basic libraries\n",
    "import yt\n",
    "import pickle\n",
    "import numpy as np\n",
    "import matplotlib.pyplot as plt\n",
    "from math import log, log10\n",
    "from astropy import units as u\n",
    "\n",
    "# import halo catalogue func\n",
    "from yt.analysis_modules.halo_analysis.api import *\n",
    "\n",
    "# load halo dataset\n",
    "halos_ds = yt.load('./LG4_2048_40pc/rd0070/halo_catalogs/catalog/catalog0070_thres180.0.h5')"
   ]
  },
  {
   "cell_type": "code",
   "execution_count": 12,
   "metadata": {
    "collapsed": true
   },
   "outputs": [],
   "source": [
    "import tempfile\n",
    "import shutil\n",
    "import os\n",
    "\n",
    "# Create temporary directory for storing files\n",
    "tmpdir = tempfile.mkdtemp()"
   ]
  },
  {
   "cell_type": "code",
   "execution_count": 13,
   "metadata": {},
   "outputs": [
    {
     "name": "stderr",
     "output_type": "stream",
     "text": [
      "yt : [INFO     ] 2017-07-12 16:55:15,422 Allocating for 8.970e+03 particles (index particle type 'all')\n",
      "yt : [INFO     ] 2017-07-12 16:55:15,439 Identified 3.065e+03 octs\n"
     ]
    }
   ],
   "source": [
    "# Instantiate a catalog using those two paramter files\n",
    "hc = HaloCatalog(halos_ds=halos_ds, output_dir=os.path.join(tmpdir, 'halo_catalog'))\n",
    "hc.load()"
   ]
  },
  {
   "cell_type": "code",
   "execution_count": 14,
   "metadata": {
    "collapsed": true
   },
   "outputs": [],
   "source": [
    "# specify boundaries of zoom-in box\n",
    "# scaling factor multiplied by info from text file \n",
    "# units in cm\n",
    "xmin = 2.22535525e+25*0.39319589 * u.cm\n",
    "ymin = 2.22535525e+25*0.42984636 * u.cm\n",
    "zmin = 2.22535525e+25*0.41706725 * u.cm\n",
    "\n",
    "xmax = 2.22535525e+25*0.56298484 * u.cm\n",
    "ymax = 2.22535525e+25*0.55089246 * u.cm\n",
    "zmax = 2.22535525e+25*0.56698254 * u.cm"
   ]
  },
  {
   "cell_type": "code",
   "execution_count": 22,
   "metadata": {
    "scrolled": true
   },
   "outputs": [
    {
     "name": "stderr",
     "output_type": "stream",
     "text": [
      "yt : [INFO     ] 2017-07-12 17:10:03,609 Parameters: current_time              = 3.75573046409e+16\n",
      "yt : [INFO     ] 2017-07-12 17:10:03,611 Parameters: domain_dimensions         = [2 2 2]\n",
      "yt : [INFO     ] 2017-07-12 17:10:03,614 Parameters: domain_left_edge          = [ 0.  0.  0.]\n",
      "yt : [INFO     ] 2017-07-12 17:10:03,616 Parameters: domain_right_edge         = [  2.22535525e+25   2.22535525e+25   2.22535525e+25]\n",
      "yt : [INFO     ] 2017-07-12 17:10:03,618 Parameters: cosmological_simulation   = 1\n",
      "yt : [INFO     ] 2017-07-12 17:10:03,620 Parameters: current_redshift          = 4.99999998323\n",
      "yt : [INFO     ] 2017-07-12 17:10:03,622 Parameters: omega_lambda              = 0.712\n",
      "yt : [INFO     ] 2017-07-12 17:10:03,623 Parameters: omega_matter              = 0.288\n",
      "yt : [INFO     ] 2017-07-12 17:10:03,625 Parameters: hubble_constant           = 0.6933\n",
      "yt : [INFO     ] 2017-07-12 17:10:03,696 Parameters: current_time              = 3.75573046409e+16\n",
      "yt : [INFO     ] 2017-07-12 17:10:03,698 Parameters: domain_dimensions         = [2 2 2]\n",
      "yt : [INFO     ] 2017-07-12 17:10:03,701 Parameters: domain_left_edge          = [ 0.  0.  0.]\n",
      "yt : [INFO     ] 2017-07-12 17:10:03,704 Parameters: domain_right_edge         = [  2.22535525e+25   2.22535525e+25   2.22535525e+25]\n",
      "yt : [INFO     ] 2017-07-12 17:10:03,706 Parameters: cosmological_simulation   = 1\n",
      "yt : [INFO     ] 2017-07-12 17:10:03,708 Parameters: current_redshift          = 4.99999998323\n",
      "yt : [INFO     ] 2017-07-12 17:10:03,710 Parameters: omega_lambda              = 0.712\n",
      "yt : [INFO     ] 2017-07-12 17:10:03,711 Parameters: omega_matter              = 0.288\n",
      "yt : [INFO     ] 2017-07-12 17:10:03,713 Parameters: hubble_constant           = 0.6933\n",
      "yt : [INFO     ] 2017-07-12 17:10:03,817 Parameters: current_time              = 3.75573046409e+16\n",
      "yt : [INFO     ] 2017-07-12 17:10:03,819 Parameters: domain_dimensions         = [2 2 2]\n",
      "yt : [INFO     ] 2017-07-12 17:10:03,823 Parameters: domain_left_edge          = [ 0.  0.  0.]\n",
      "yt : [INFO     ] 2017-07-12 17:10:03,825 Parameters: domain_right_edge         = [  2.22535525e+25   2.22535525e+25   2.22535525e+25]\n",
      "yt : [INFO     ] 2017-07-12 17:10:03,828 Parameters: cosmological_simulation   = 1\n",
      "yt : [INFO     ] 2017-07-12 17:10:03,830 Parameters: current_redshift          = 4.99999998323\n",
      "yt : [INFO     ] 2017-07-12 17:10:03,832 Parameters: omega_lambda              = 0.712\n",
      "yt : [INFO     ] 2017-07-12 17:10:03,833 Parameters: omega_matter              = 0.288\n",
      "yt : [INFO     ] 2017-07-12 17:10:03,835 Parameters: hubble_constant           = 0.6933\n",
      "yt : [INFO     ] 2017-07-12 17:10:03,842 Allocating for 9.430e+03 particles (index particle type 'all')\n",
      "yt : [INFO     ] 2017-07-12 17:10:03,856 Identified 3.129e+03 octs\n",
      "yt : [INFO     ] 2017-07-12 17:10:08,734 Allocating for 9.178e+03 particles (index particle type 'all')\n",
      "yt : [INFO     ] 2017-07-12 17:10:08,740 Identified 3.025e+03 octs\n",
      "yt : [INFO     ] 2017-07-12 17:10:13,057 Allocating for 8.970e+03 particles (index particle type 'all')\n",
      "yt : [INFO     ] 2017-07-12 17:10:13,064 Identified 3.065e+03 octs\n"
     ]
    }
   ],
   "source": [
    "# load halo dataset\n",
    "halos_ds1 = yt.load('./LG4_2048_40pc/rd0070/halo_catalogs/catalog/catalog0070_thres140.0.h5')\n",
    "halos_ds2 = yt.load('./LG4_2048_40pc/rd0070/halo_catalogs/catalog/catalog0070_thres160.0.h5')\n",
    "halos_ds3 = yt.load('./LG4_2048_40pc/rd0070/halo_catalogs/catalog/catalog0070_thres180.0.h5')\n",
    "\n",
    "# Instantiate a catalog using those two paramter files\n",
    "hc1 = HaloCatalog(halos_ds=halos_ds1, output_dir=os.path.join(tmpdir, 'halo_catalog1'))\n",
    "hc1.load()\n",
    "hc2 = HaloCatalog(halos_ds=halos_ds2, output_dir=os.path.join(tmpdir, 'halo_catalog2'))\n",
    "hc2.load()\n",
    "hc3 = HaloCatalog(halos_ds=halos_ds3, output_dir=os.path.join(tmpdir, 'halo_catalog3'))\n",
    "hc3.load()\n",
    "\n",
    "# find masses of halos\n",
    "masslist1 = []\n",
    "masslist2 = []\n",
    "masslist3 = []\n",
    "\n",
    "for halo in hc1.halo_list:\n",
    "    # find coord and mass of halo\n",
    "    x = halo.quantities.get('particle_position_x') * u.cm\n",
    "    y = halo.quantities.get('particle_position_y') * u.cm\n",
    "    z = halo.quantities.get('particle_position_z') * u.cm\n",
    "    mass = halo.quantities.get('particle_mass').in_units('Msun') * u.Msun\n",
    "    \n",
    "    # check if halo is inside zoom-in box\n",
    "    if xmin <= x < xmax and ymin <= y < ymax and zmin <= z < zmax:\n",
    "        masslist1.append(mass.value)\n",
    "\n",
    "for halo in hc2.halo_list:\n",
    "    # find coord and mass of halo\n",
    "    x = halo.quantities.get('particle_position_x') * u.cm\n",
    "    y = halo.quantities.get('particle_position_y') * u.cm\n",
    "    z = halo.quantities.get('particle_position_z') * u.cm\n",
    "    mass = halo.quantities.get('particle_mass').in_units('Msun') * u.Msun\n",
    "    \n",
    "    # check if halo is inside zoom-in box\n",
    "    if xmin <= x < xmax and ymin <= y < ymax and zmin <= z < zmax:\n",
    "        masslist2.append(mass.value)\n",
    "\n",
    "for halo in hc3.halo_list:\n",
    "    # find coord and mass of halo\n",
    "    x = halo.quantities.get('particle_position_x') * u.cm\n",
    "    y = halo.quantities.get('particle_position_y') * u.cm\n",
    "    z = halo.quantities.get('particle_position_z') * u.cm\n",
    "    mass = halo.quantities.get('particle_mass').in_units('Msun') * u.Msun\n",
    "    \n",
    "    # check if halo is inside zoom-in box\n",
    "    if xmin <= x < xmax and ymin <= y < ymax and zmin <= z < zmax:\n",
    "        masslist3.append(mass.value)"
   ]
  },
  {
   "cell_type": "code",
   "execution_count": 24,
   "metadata": {
    "collapsed": true
   },
   "outputs": [],
   "source": [
    "masslist1 = np.array(masslist1)\n",
    "masslist2 = np.array(masslist2)\n",
    "masslist3 = np.array(masslist3)"
   ]
  },
  {
   "cell_type": "code",
   "execution_count": 25,
   "metadata": {
    "collapsed": true
   },
   "outputs": [],
   "source": [
    "bins = np.geomspace(start=1e6, stop=1e11, num=50)"
   ]
  },
  {
   "cell_type": "code",
   "execution_count": 28,
   "metadata": {
    "scrolled": true
   },
   "outputs": [
    {
     "data": {
      "image/png": "[encoded data removed]",
      "text/plain": [
       "<matplotlib.figure.Figure at 0x2b25f1980320>"
      ]
     },
     "metadata": {},
     "output_type": "display_data"
    }
   ],
   "source": [
    "# create histogram\n",
    "plt.figure(figsize=(8,6))\n",
    "plt.hist(masslist1, bins, histtype='step', fill = False)\n",
    "plt.title(\"Halo Masses (threshold = 140)\", size = 19)\n",
    "plt.axis([1e7, 10**10.5, 0, 1000])\n",
    "\n",
    "\n",
    "# create axis labels\n",
    "xlab = \"$\\log_{10}M_h}$  $(Msun)$\"\n",
    "ylab = r\"$\\frac{dN}{d\\log_{10}M_h}$\"+\"\\n\"+r\"$\\left(\\frac{\\#}{h^{-3}Mpc^3}\\right)$\"\n",
    "plt.xlabel(xlab, size = 14, labelpad= -2)\n",
    "plt.ylabel(ylab, rotation = 0, size = 18, labelpad= 30)\n",
    "\n",
    "# create axis ticks \n",
    "plt.xscale('log')\n",
    "plt.tick_params(axis='x', which='major', labelsize=12)\n",
    "plt.tick_params(axis='y', which='major', labelsize=12)\n",
    "\n",
    "#show and save\n",
    "plt.show()\n",
    "\n",
    "#plt.savefig('./LG4_2048_40pc/rd0070/graph2.png', dpi = 300)"
   ]
  },
  {
   "cell_type": "code",
   "execution_count": 31,
   "metadata": {
    "collapsed": true
   },
   "outputs": [],
   "source": [
    "log_mass1 = np.log(masslist1) / log(10)\n",
    "density1, bin_edges1 = np.histogram(log_mass1, bins= np.linspace(7, 10, 30))\n",
    "log_density1 = np.log(density1) / log(10)\n",
    "\n",
    "log_mass2 = np.log(masslist2) / log(10)\n",
    "density2, bin_edges2 = np.histogram(log_mass2, bins= np.linspace(7, 10, 30))\n",
    "log_density2 = np.log(density2) / log(10)\n",
    "\n",
    "log_mass3 = np.log(masslist3) / log(10)\n",
    "density3, bin_edges3 = np.histogram(log_mass3, bins= np.linspace(7, 10, 30))\n",
    "log_density3 = np.log(density3) / log(10)"
   ]
  },
  {
   "cell_type": "code",
   "execution_count": 43,
   "metadata": {
    "scrolled": false
   },
   "outputs": [
    {
     "data": {
      "image/png": "[encoded data removed]",
      "text/plain": [
       "<matplotlib.figure.Figure at 0x2b25f19696a0>"
      ]
     },
     "metadata": {},
     "output_type": "display_data"
    }
   ],
   "source": [
    "# specify figure size\n",
    "plt.figure(figsize=(8,6))\n",
    "\n",
    "#determine lines of best fit\n",
    "bin_edges_fit1 = bin_edges1[6:-4]\n",
    "log_density_fit1 = log_density1[5:-4]\n",
    "par1 = np.polyfit(bin_edges_fit1, log_density_fit1, 1, full=True)\n",
    "slope1, intercept1 = par1[0][0], par1[0][1]\n",
    "\n",
    "bin_edges_fit2 = bin_edges2[6:-4]\n",
    "log_density_fit2 = log_density2[5:-4]\n",
    "par2 = np.polyfit(bin_edges_fit2, log_density_fit2, 1, full=True)\n",
    "slope2, intercept2 = par2[0][0], par2[0][1]\n",
    "\n",
    "bin_edges_fit3 = bin_edges3[6:-4]\n",
    "log_density_fit3 = log_density3[5:-4]\n",
    "par3 = np.polyfit(bin_edges_fit3, log_density_fit3, 1, full=True)\n",
    "slope3, intercept3 = par3[0][0], par3[0][1]\n",
    "\n",
    "# plot data and lines\n",
    "bin_edges_red1 = bin_edges1[1::]\n",
    "plt.scatter(bin_edges_red1, log_density1, color = 'blue')\n",
    "plt.plot(bin_edges_red1, slope1 * bin_edges_red1 + intercept1, color = 'blue')\n",
    "\n",
    "bin_edges_red2 = bin_edges2[1::]\n",
    "plt.scatter(bin_edges_red2, log_density2, color = 'green')\n",
    "plt.plot(bin_edges_red2, slope2 * bin_edges_red2 + intercept2, color = 'green')\n",
    "\n",
    "bin_edges_red3 = bin_edges3[1::]\n",
    "plt.scatter(bin_edges_red3, log_density3, color = 'orange')\n",
    "plt.plot(bin_edges_red3, slope3 * bin_edges_red3 + intercept3, color = 'orange')\n",
    "\n",
    "plt.title(\"Halo Masses (threshold = 140, 160, 180)\", size = 19)\n",
    "\n",
    "# create axis labels\n",
    "xlab = \"$\\log_{10}M_h}$  $(Msun)$\"\n",
    "ylab = r\"$\\frac{dN}{d\\log_{10}M_h}$\"+\"\\n\"+r\"$\\left(\\frac{\\#}{h^{-3}Mpc^3}\\right)$\"\n",
    "plt.xlabel(xlab, size = 14, labelpad= 0)\n",
    "plt.ylabel(ylab, rotation = 0, size = 18, labelpad= 40)\n",
    "\n",
    "# create axis ticks \n",
    "plt.yscale('linear')\n",
    "plt.tick_params(axis='x', which='major', labelsize=12)\n",
    "plt.tick_params(axis='y', which='major', labelsize=12)\n",
    "\n",
    "# add slope and intercept\n",
    "annotation1 = \"140: $a = {:1.3f}$ \\n        $b = {:1.3f}$\".format(slope1, intercept1)\n",
    "annotation2 = \"160: $a = {:1.3f}$ \\n        $b = {:1.3f}$\".format(slope2, intercept2)\n",
    "annotation3 = \"180: $a = {:1.3f}$ \\n        $b = {:1.3f}$\".format(slope3, intercept3)\n",
    "legend = \"140: blue \\n160: green \\n180: orange\"\n",
    "plt.text(9.5, 1.5, annotation3, size = 12)\n",
    "plt.text(9.5, 2.0, annotation2, size = 12)\n",
    "plt.text(9.5, 2.5, annotation1, size = 12)\n",
    "plt.text(9.5, 3.0, legend, size = 12)\n",
    "\n",
    "#show and save\n",
    "plt.show()\n"
   ]
  },
  {
   "cell_type": "code",
   "execution_count": null,
   "metadata": {
    "collapsed": true
   },
   "outputs": [],
   "source": [
    "#--find ratio of stellar mass to halo mass\n",
    "ratiolist = []\n",
    "\n",
    "# dataset\n",
    "ds = yt.load('~/../../tigress/cen/LG4_2048_40pc/RD0070/redshift0070')\n",
    "\n",
    "for halo in hc.halo_list:\n",
    "    # find coord and mass of halo\n",
    "    x = halo.quantities.get('particle_position_x') * u.cm\n",
    "    y = halo.quantities.get('particle_position_y') * u.cm\n",
    "    z = halo.quantities.get('particle_position_z') * u.cm\n",
    "    halo_mass = halo.quantities.get('particle_mass').in_units('Msun') * u.Msun\n",
    "    \n",
    "    # check if halo is inside zoom-in box\n",
    "    if xmin <= x < xmax and ymin <= y < ymax and zmin <= z < zmax:\n",
    "        # create a sphere data object with halo position and radius\n",
    "        radius = halo.quantities.get('virial_radius') * u.cm\n",
    "        sp = ds.sphere([x.value/2.22535525e+25, y.value/2.22535525e+25, z.value/2.22535525e+25],\n",
    "                        (radius.value, 'cm'))\n",
    "        \n",
    "        "
   ]
  },
  {
   "cell_type": "code",
   "execution_count": 45,
   "metadata": {
    "scrolled": true
   },
   "outputs": [
    {
     "name": "stderr",
     "output_type": "stream",
     "text": [
      "yt : [INFO     ] 2017-07-13 16:06:39,370 Parameters: current_time              = 158.01757996843\n",
      "yt : [INFO     ] 2017-07-13 16:06:39,371 Parameters: domain_dimensions         = [128 128 128]\n",
      "yt : [INFO     ] 2017-07-13 16:06:39,373 Parameters: domain_left_edge          = [ 0.  0.  0.]\n",
      "yt : [INFO     ] 2017-07-13 16:06:39,374 Parameters: domain_right_edge         = [ 1.  1.  1.]\n",
      "yt : [INFO     ] 2017-07-13 16:06:39,375 Parameters: cosmological_simulation   = 1\n",
      "yt : [INFO     ] 2017-07-13 16:06:39,376 Parameters: current_redshift          = 4.9999999832278\n",
      "yt : [INFO     ] 2017-07-13 16:06:39,377 Parameters: omega_lambda              = 0.712\n",
      "yt : [INFO     ] 2017-07-13 16:06:39,377 Parameters: omega_matter              = 0.288\n",
      "yt : [INFO     ] 2017-07-13 16:06:39,378 Parameters: hubble_constant           = 0.6933\n",
      "Parsing Hierarchy : 100%|██████████| 44216/44216 [00:03<00:00, 14117.43it/s]\n",
      "yt : [INFO     ] 2017-07-13 16:06:45,245 Gathering a field list (this may take a moment.)\n"
     ]
    },
    {
     "ename": "NameError",
     "evalue": "name 'ratiolist' is not defined",
     "output_type": "error",
     "traceback": [
      "\u001b[0;31m---------------------------------------------------------------------------\u001b[0m",
      "\u001b[0;31mNameError\u001b[0m                                 Traceback (most recent call last)",
      "\u001b[0;32m<ipython-input-45-d550f6a02cc4>\u001b[0m in \u001b[0;36m<module>\u001b[0;34m()\u001b[0m\n\u001b[1;32m     18\u001b[0m \u001b[0mstellar_mass\u001b[0m \u001b[0;34m=\u001b[0m \u001b[0mstellar_mass\u001b[0m\u001b[0;34m.\u001b[0m\u001b[0mto\u001b[0m\u001b[0;34m(\u001b[0m\u001b[0;34m'Msun'\u001b[0m\u001b[0;34m)\u001b[0m\u001b[0;34m\u001b[0m\u001b[0m\n\u001b[1;32m     19\u001b[0m \u001b[0mratio\u001b[0m \u001b[0;34m=\u001b[0m \u001b[0;34m(\u001b[0m\u001b[0mstellar_mass\u001b[0m\u001b[0;34m)\u001b[0m \u001b[0;34m/\u001b[0m \u001b[0mhalo_mass\u001b[0m\u001b[0;34m\u001b[0m\u001b[0m\n\u001b[0;32m---> 20\u001b[0;31m \u001b[0mratiolist\u001b[0m\u001b[0;34m.\u001b[0m\u001b[0mappend\u001b[0m\u001b[0;34m(\u001b[0m\u001b[0mratio\u001b[0m\u001b[0;34m)\u001b[0m\u001b[0;34m\u001b[0m\u001b[0m\n\u001b[0m",
      "\u001b[0;31mNameError\u001b[0m: name 'ratiolist' is not defined"
     ]
    }
   ],
   "source": [
    "# dataset\n",
    "ds = yt.load('~/../../tigress/cen/LG4_2048_40pc/RD0070/redshift0070')\n",
    "\n",
    "halo = hc.halo_list[-1]\n",
    "# find coord and mass of halo\n",
    "x = halo.quantities.get('particle_position_x') * u.cm\n",
    "y = halo.quantities.get('particle_position_y') * u.cm\n",
    "z = halo.quantities.get('particle_position_z') * u.cm\n",
    "halo_mass = halo.quantities.get('particle_mass').in_units('Msun') * u.Msun\n",
    "\n",
    "# find stellar mass\n",
    "radius = halo.quantities.get('virial_radius') * u.cm\n",
    "sp = ds.sphere([x.value/2.22535525e+25, y.value/2.22535525e+25, z.value/2.22535525e+25],\n",
    "                (radius.value, 'cm'))\n",
    "\n",
    "# from below (just for test purposes)\n",
    "stellar_mass = sp.quantities.total_mass() * u.g\n",
    "stellar_mass = stellar_mass.to('Msun')\n",
    "ratio = (stellar_mass) / halo_mass \n",
    "ratiolist.append(ratio)\n"
   ]
  },
  {
   "cell_type": "code",
   "execution_count": null,
   "metadata": {
    "collapsed": true,
    "scrolled": true
   },
   "outputs": [],
   "source": [
    "dd = ds.all_data()\n",
    "ds.field_list"
   ]
  },
  {
   "cell_type": "code",
   "execution_count": 617,
   "metadata": {},
   "outputs": [
    {
     "data": {
      "text/plain": [
       "[('all', 'age'),\n",
       " ('all', 'creation_time'),\n",
       " ('all', 'dynamical_time'),\n",
       " ('all', 'initial_mass'),\n",
       " ('all', 'mesh_id'),\n",
       " ('all', 'metallicity_fraction'),\n",
       " ('all', 'particle_angular_momentum'),\n",
       " ('all', 'particle_angular_momentum_magnitude'),\n",
       " ('all', 'particle_angular_momentum_x'),\n",
       " ('all', 'particle_angular_momentum_y'),\n",
       " ('all', 'particle_angular_momentum_z'),\n",
       " ('all', 'particle_cylindrical_velocity_theta'),\n",
       " ('all', 'particle_cylindrical_velocity_z'),\n",
       " ('all', 'particle_index'),\n",
       " ('all', 'particle_mass'),\n",
       " ('all', 'particle_ones'),\n",
       " ('all', 'particle_position'),\n",
       " ('all', 'particle_position_cylindrical_radius'),\n",
       " ('all', 'particle_position_cylindrical_theta'),\n",
       " ('all', 'particle_position_cylindrical_z'),\n",
       " ('all', 'particle_position_relative'),\n",
       " ('all', 'particle_position_relative_x'),\n",
       " ('all', 'particle_position_relative_y'),\n",
       " ('all', 'particle_position_relative_z'),\n",
       " ('all', 'particle_position_spherical_phi'),\n",
       " ('all', 'particle_position_spherical_radius'),\n",
       " ('all', 'particle_position_spherical_theta'),\n",
       " ('all', 'particle_position_x'),\n",
       " ('all', 'particle_position_y'),\n",
       " ('all', 'particle_position_z'),\n",
       " ('all', 'particle_radial_velocity'),\n",
       " ('all', 'particle_radius'),\n",
       " ('all', 'particle_specific_angular_momentum'),\n",
       " ('all', 'particle_specific_angular_momentum_x'),\n",
       " ('all', 'particle_specific_angular_momentum_y'),\n",
       " ('all', 'particle_specific_angular_momentum_z'),\n",
       " ('all', 'particle_spherical_position_phi'),\n",
       " ('all', 'particle_spherical_position_radius'),\n",
       " ('all', 'particle_spherical_position_theta'),\n",
       " ('all', 'particle_spherical_velocity_phi'),\n",
       " ('all', 'particle_spherical_velocity_radius'),\n",
       " ('all', 'particle_spherical_velocity_theta'),\n",
       " ('all', 'particle_type'),\n",
       " ('all', 'particle_velocity'),\n",
       " ('all', 'particle_velocity_cylindrical_radius'),\n",
       " ('all', 'particle_velocity_cylindrical_theta'),\n",
       " ('all', 'particle_velocity_cylindrical_z'),\n",
       " ('all', 'particle_velocity_magnitude'),\n",
       " ('all', 'particle_velocity_relative'),\n",
       " ('all', 'particle_velocity_relative_x'),\n",
       " ('all', 'particle_velocity_relative_y'),\n",
       " ('all', 'particle_velocity_relative_z'),\n",
       " ('all', 'particle_velocity_spherical_phi'),\n",
       " ('all', 'particle_velocity_spherical_radius'),\n",
       " ('all', 'particle_velocity_spherical_theta'),\n",
       " ('all', 'particle_velocity_x'),\n",
       " ('all', 'particle_velocity_y'),\n",
       " ('all', 'particle_velocity_z'),\n",
       " ('all', 'typeia_fraction'),\n",
       " ('deposit', 'all_cic'),\n",
       " ('deposit', 'all_cic_age'),\n",
       " ('deposit', 'all_cic_velocity_x'),\n",
       " ('deposit', 'all_cic_velocity_y'),\n",
       " ('deposit', 'all_cic_velocity_z'),\n",
       " ('deposit', 'all_count'),\n",
       " ('deposit', 'all_density'),\n",
       " ('deposit', 'all_mass'),\n",
       " ('deposit', 'all_nn_age'),\n",
       " ('deposit', 'all_nn_velocity_x'),\n",
       " ('deposit', 'all_nn_velocity_y'),\n",
       " ('deposit', 'all_nn_velocity_z'),\n",
       " ('deposit', 'io_cic'),\n",
       " ('deposit', 'io_cic_age'),\n",
       " ('deposit', 'io_cic_velocity_x'),\n",
       " ('deposit', 'io_cic_velocity_y'),\n",
       " ('deposit', 'io_cic_velocity_z'),\n",
       " ('deposit', 'io_count'),\n",
       " ('deposit', 'io_density'),\n",
       " ('deposit', 'io_mass'),\n",
       " ('deposit', 'io_nn_age'),\n",
       " ('deposit', 'io_nn_velocity_x'),\n",
       " ('deposit', 'io_nn_velocity_y'),\n",
       " ('deposit', 'io_nn_velocity_z'),\n",
       " ('enzo', 'Dark_Matter_Density'),\n",
       " ('enzo', 'Density'),\n",
       " ('enzo', 'Electron_Density'),\n",
       " ('enzo', 'H2II_Density'),\n",
       " ('enzo', 'H2I_Density'),\n",
       " ('enzo', 'HII_Density'),\n",
       " ('enzo', 'HI_Density'),\n",
       " ('enzo', 'HM_Density'),\n",
       " ('enzo', 'HeIII_Density'),\n",
       " ('enzo', 'HeII_Density'),\n",
       " ('enzo', 'HeI_Density'),\n",
       " ('enzo', 'Metal_Density'),\n",
       " ('enzo', 'Temperature'),\n",
       " ('enzo', 'TotalEnergy'),\n",
       " ('enzo', 'cell_volume'),\n",
       " ('enzo', 'dx'),\n",
       " ('enzo', 'dy'),\n",
       " ('enzo', 'dz'),\n",
       " ('enzo', 'path_element_x'),\n",
       " ('enzo', 'path_element_y'),\n",
       " ('enzo', 'path_element_z'),\n",
       " ('enzo', 'vertex_x'),\n",
       " ('enzo', 'vertex_y'),\n",
       " ('enzo', 'vertex_z'),\n",
       " ('enzo', 'x'),\n",
       " ('enzo', 'x-velocity'),\n",
       " ('enzo', 'y'),\n",
       " ('enzo', 'y-velocity'),\n",
       " ('enzo', 'z'),\n",
       " ('enzo', 'z-velocity'),\n",
       " ('gas', 'El_density'),\n",
       " ('gas', 'El_fraction'),\n",
       " ('gas', 'El_mass'),\n",
       " ('gas', 'El_number_density'),\n",
       " ('gas', 'H2_density'),\n",
       " ('gas', 'H2_fraction'),\n",
       " ('gas', 'H2_mass'),\n",
       " ('gas', 'H2_number_density'),\n",
       " ('gas', 'H2_p0_density'),\n",
       " ('gas', 'H2_p0_fraction'),\n",
       " ('gas', 'H2_p0_mass'),\n",
       " ('gas', 'H2_p0_number_density'),\n",
       " ('gas', 'H2_p1_density'),\n",
       " ('gas', 'H2_p1_fraction'),\n",
       " ('gas', 'H2_p1_mass'),\n",
       " ('gas', 'H2_p1_number_density'),\n",
       " ('gas', 'H_density'),\n",
       " ('gas', 'H_fraction'),\n",
       " ('gas', 'H_m1_density'),\n",
       " ('gas', 'H_m1_fraction'),\n",
       " ('gas', 'H_m1_mass'),\n",
       " ('gas', 'H_m1_number_density'),\n",
       " ('gas', 'H_mass'),\n",
       " ('gas', 'H_nuclei_density'),\n",
       " ('gas', 'H_number_density'),\n",
       " ('gas', 'H_p0_density'),\n",
       " ('gas', 'H_p0_fraction'),\n",
       " ('gas', 'H_p0_mass'),\n",
       " ('gas', 'H_p0_number_density'),\n",
       " ('gas', 'H_p1_density'),\n",
       " ('gas', 'H_p1_fraction'),\n",
       " ('gas', 'H_p1_mass'),\n",
       " ('gas', 'H_p1_number_density'),\n",
       " ('gas', 'He_density'),\n",
       " ('gas', 'He_fraction'),\n",
       " ('gas', 'He_mass'),\n",
       " ('gas', 'He_nuclei_density'),\n",
       " ('gas', 'He_number_density'),\n",
       " ('gas', 'He_p0_density'),\n",
       " ('gas', 'He_p0_fraction'),\n",
       " ('gas', 'He_p0_mass'),\n",
       " ('gas', 'He_p0_number_density'),\n",
       " ('gas', 'He_p1_density'),\n",
       " ('gas', 'He_p1_fraction'),\n",
       " ('gas', 'He_p1_mass'),\n",
       " ('gas', 'He_p1_number_density'),\n",
       " ('gas', 'He_p2_density'),\n",
       " ('gas', 'He_p2_fraction'),\n",
       " ('gas', 'He_p2_mass'),\n",
       " ('gas', 'He_p2_number_density'),\n",
       " ('gas', 'angular_momentum_magnitude'),\n",
       " ('gas', 'angular_momentum_x'),\n",
       " ('gas', 'angular_momentum_y'),\n",
       " ('gas', 'angular_momentum_z'),\n",
       " ('gas', 'averaged_density'),\n",
       " ('gas', 'baroclinic_vorticity_magnitude'),\n",
       " ('gas', 'baroclinic_vorticity_x'),\n",
       " ('gas', 'baroclinic_vorticity_y'),\n",
       " ('gas', 'baroclinic_vorticity_z'),\n",
       " ('gas', 'baryon_overdensity'),\n",
       " ('gas', 'cell_mass'),\n",
       " ('gas', 'cell_volume'),\n",
       " ('gas', 'chandra_emissivity'),\n",
       " ('gas', 'courant_time_step'),\n",
       " ('gas', 'cutting_plane_velocity_x'),\n",
       " ('gas', 'cutting_plane_velocity_y'),\n",
       " ('gas', 'cutting_plane_velocity_z'),\n",
       " ('gas', 'cylindrical_radial_velocity'),\n",
       " ('gas', 'cylindrical_radial_velocity_absolute'),\n",
       " ('gas', 'cylindrical_tangential_velocity'),\n",
       " ('gas', 'cylindrical_tangential_velocity_absolute'),\n",
       " ('gas', 'dark_matter_density'),\n",
       " ('gas', 'density'),\n",
       " ('gas', 'density_gradient_magnitude'),\n",
       " ('gas', 'density_gradient_x'),\n",
       " ('gas', 'density_gradient_y'),\n",
       " ('gas', 'density_gradient_z'),\n",
       " ('gas', 'dx'),\n",
       " ('gas', 'dy'),\n",
       " ('gas', 'dynamical_time'),\n",
       " ('gas', 'dz'),\n",
       " ('gas', 'emission_measure'),\n",
       " ('gas', 'entropy'),\n",
       " ('gas', 'jeans_mass'),\n",
       " ('gas', 'kT'),\n",
       " ('gas', 'kinetic_energy'),\n",
       " ('gas', 'mach_number'),\n",
       " ('gas', 'matter_density'),\n",
       " ('gas', 'matter_mass'),\n",
       " ('gas', 'matter_overdensity'),\n",
       " ('gas', 'mazzotta_weighting'),\n",
       " ('gas', 'mean_molecular_weight'),\n",
       " ('gas', 'metal_density'),\n",
       " ('gas', 'metal_mass'),\n",
       " ('gas', 'metallicity'),\n",
       " ('gas', 'number_density'),\n",
       " ('gas', 'overdensity'),\n",
       " ('gas', 'path_element_x'),\n",
       " ('gas', 'path_element_y'),\n",
       " ('gas', 'path_element_z'),\n",
       " ('gas', 'pressure'),\n",
       " ('gas', 'pressure_gradient_magnitude'),\n",
       " ('gas', 'pressure_gradient_x'),\n",
       " ('gas', 'pressure_gradient_y'),\n",
       " ('gas', 'pressure_gradient_z'),\n",
       " ('gas', 'radial_mach_number'),\n",
       " ('gas', 'radial_velocity'),\n",
       " ('gas', 'radial_velocity_absolute'),\n",
       " ('gas', 'shear'),\n",
       " ('gas', 'shear_criterion'),\n",
       " ('gas', 'shear_mach'),\n",
       " ('gas', 'sound_speed'),\n",
       " ('gas', 'specific_angular_momentum_magnitude'),\n",
       " ('gas', 'specific_angular_momentum_x'),\n",
       " ('gas', 'specific_angular_momentum_y'),\n",
       " ('gas', 'specific_angular_momentum_z'),\n",
       " ('gas', 'sz_kinetic'),\n",
       " ('gas', 'szy'),\n",
       " ('gas', 'tangential_over_velocity_magnitude'),\n",
       " ('gas', 'tangential_velocity'),\n",
       " ('gas', 'temperature'),\n",
       " ('gas', 'thermal_energy'),\n",
       " ('gas', 'velocity_cylindrical_radius'),\n",
       " ('gas', 'velocity_cylindrical_theta'),\n",
       " ('gas', 'velocity_cylindrical_z'),\n",
       " ('gas', 'velocity_divergence'),\n",
       " ('gas', 'velocity_divergence_absolute'),\n",
       " ('gas', 'velocity_magnitude'),\n",
       " ('gas', 'velocity_spherical_phi'),\n",
       " ('gas', 'velocity_spherical_radius'),\n",
       " ('gas', 'velocity_spherical_theta'),\n",
       " ('gas', 'velocity_x'),\n",
       " ('gas', 'velocity_y'),\n",
       " ('gas', 'velocity_z'),\n",
       " ('gas', 'vertex_x'),\n",
       " ('gas', 'vertex_y'),\n",
       " ('gas', 'vertex_z'),\n",
       " ('gas', 'vorticity_growth_magnitude'),\n",
       " ('gas', 'vorticity_growth_magnitude_absolute'),\n",
       " ('gas', 'vorticity_growth_timescale'),\n",
       " ('gas', 'vorticity_growth_x'),\n",
       " ('gas', 'vorticity_growth_y'),\n",
       " ('gas', 'vorticity_growth_z'),\n",
       " ('gas', 'vorticity_magnitude'),\n",
       " ('gas', 'vorticity_squared'),\n",
       " ('gas', 'vorticity_stretching_magnitude'),\n",
       " ('gas', 'vorticity_stretching_x'),\n",
       " ('gas', 'vorticity_stretching_y'),\n",
       " ('gas', 'vorticity_stretching_z'),\n",
       " ('gas', 'vorticity_x'),\n",
       " ('gas', 'vorticity_y'),\n",
       " ('gas', 'vorticity_z'),\n",
       " ('gas', 'weak_lensing_convergence'),\n",
       " ('gas', 'x'),\n",
       " ('gas', 'xray_emissivity'),\n",
       " ('gas', 'y'),\n",
       " ('gas', 'z'),\n",
       " ('index', 'cell_volume'),\n",
       " ('index', 'cylindrical_r'),\n",
       " ('index', 'cylindrical_radius'),\n",
       " ('index', 'cylindrical_theta'),\n",
       " ('index', 'cylindrical_z'),\n",
       " ('index', 'disk_angle'),\n",
       " ('index', 'dx'),\n",
       " ('index', 'dy'),\n",
       " ('index', 'dz'),\n",
       " ('index', 'grid_indices'),\n",
       " ('index', 'grid_level'),\n",
       " ('index', 'height'),\n",
       " ('index', 'morton_index'),\n",
       " ('index', 'ones'),\n",
       " ('index', 'ones_over_dx'),\n",
       " ('index', 'path_element_x'),\n",
       " ('index', 'path_element_y'),\n",
       " ('index', 'path_element_z'),\n",
       " ('index', 'radius'),\n",
       " ('index', 'spherical_phi'),\n",
       " ('index', 'spherical_r'),\n",
       " ('index', 'spherical_radius'),\n",
       " ('index', 'spherical_theta'),\n",
       " ('index', 'vertex_x'),\n",
       " ('index', 'vertex_y'),\n",
       " ('index', 'vertex_z'),\n",
       " ('index', 'virial_radius_fraction'),\n",
       " ('index', 'x'),\n",
       " ('index', 'y'),\n",
       " ('index', 'z'),\n",
       " ('index', 'zeros'),\n",
       " ('io', 'age'),\n",
       " ('io', 'creation_time'),\n",
       " ('io', 'dynamical_time'),\n",
       " ('io', 'initial_mass'),\n",
       " ('io', 'mesh_id'),\n",
       " ('io', 'metallicity_fraction'),\n",
       " ('io', 'particle_angular_momentum'),\n",
       " ('io', 'particle_angular_momentum_magnitude'),\n",
       " ('io', 'particle_angular_momentum_x'),\n",
       " ('io', 'particle_angular_momentum_y'),\n",
       " ('io', 'particle_angular_momentum_z'),\n",
       " ('io', 'particle_cylindrical_velocity_theta'),\n",
       " ('io', 'particle_cylindrical_velocity_z'),\n",
       " ('io', 'particle_index'),\n",
       " ('io', 'particle_mass'),\n",
       " ('io', 'particle_ones'),\n",
       " ('io', 'particle_position'),\n",
       " ('io', 'particle_position_cylindrical_radius'),\n",
       " ('io', 'particle_position_cylindrical_theta'),\n",
       " ('io', 'particle_position_cylindrical_z'),\n",
       " ('io', 'particle_position_relative'),\n",
       " ('io', 'particle_position_relative_x'),\n",
       " ('io', 'particle_position_relative_y'),\n",
       " ('io', 'particle_position_relative_z'),\n",
       " ('io', 'particle_position_spherical_phi'),\n",
       " ('io', 'particle_position_spherical_radius'),\n",
       " ('io', 'particle_position_spherical_theta'),\n",
       " ('io', 'particle_position_x'),\n",
       " ('io', 'particle_position_y'),\n",
       " ('io', 'particle_position_z'),\n",
       " ('io', 'particle_radial_velocity'),\n",
       " ('io', 'particle_radius'),\n",
       " ('io', 'particle_specific_angular_momentum'),\n",
       " ('io', 'particle_specific_angular_momentum_x'),\n",
       " ('io', 'particle_specific_angular_momentum_y'),\n",
       " ('io', 'particle_specific_angular_momentum_z'),\n",
       " ('io', 'particle_spherical_position_phi'),\n",
       " ('io', 'particle_spherical_position_radius'),\n",
       " ('io', 'particle_spherical_position_theta'),\n",
       " ('io', 'particle_spherical_velocity_phi'),\n",
       " ('io', 'particle_spherical_velocity_radius'),\n",
       " ('io', 'particle_spherical_velocity_theta'),\n",
       " ('io', 'particle_type'),\n",
       " ('io', 'particle_velocity'),\n",
       " ('io', 'particle_velocity_cylindrical_radius'),\n",
       " ('io', 'particle_velocity_cylindrical_theta'),\n",
       " ('io', 'particle_velocity_cylindrical_z'),\n",
       " ('io', 'particle_velocity_magnitude'),\n",
       " ('io', 'particle_velocity_relative'),\n",
       " ('io', 'particle_velocity_relative_x'),\n",
       " ('io', 'particle_velocity_relative_y'),\n",
       " ('io', 'particle_velocity_relative_z'),\n",
       " ('io', 'particle_velocity_spherical_phi'),\n",
       " ('io', 'particle_velocity_spherical_radius'),\n",
       " ('io', 'particle_velocity_spherical_theta'),\n",
       " ('io', 'particle_velocity_x'),\n",
       " ('io', 'particle_velocity_y'),\n",
       " ('io', 'particle_velocity_z'),\n",
       " ('io', 'typeia_fraction')]"
      ]
     },
     "execution_count": 617,
     "metadata": {},
     "output_type": "execute_result"
    }
   ],
   "source": [
    "ds.derived_field_list"
   ]
  },
  {
   "cell_type": "code",
   "execution_count": 622,
   "metadata": {},
   "outputs": [
    {
     "name": "stdout",
     "output_type": "stream",
     "text": [
      "    def _averaged_field(field, data):\n",
      "        nx, ny, nz = data[(ftype, basename)].shape\n",
      "        new_field = data.ds.arr(np.zeros((nx-2, ny-2, nz-2), dtype=np.float64),\n",
      "                                (just_one(data[(ftype, basename)]) *\n",
      "                                 just_one(data[(ftype, weight)])).units)\n",
      "        weight_field = data.ds.arr(np.zeros((nx-2, ny-2, nz-2),\n",
      "                                            dtype=np.float64),\n",
      "                                   data[(ftype, weight)].units)\n",
      "        i_i, j_i, k_i = np.mgrid[0:3, 0:3, 0:3]\n",
      "\n",
      "        for i, j, k in zip(i_i.ravel(), j_i.ravel(), k_i.ravel()):\n",
      "            sl = [slice(i, nx-(2-i)), slice(j, ny-(2-j)), slice(k, nz-(2-k))]\n",
      "            new_field += data[(ftype, basename)][sl] * data[(ftype, weight)][sl]\n",
      "            weight_field += data[(ftype, weight)][sl]\n",
      "\n",
      "        # Now some fancy footwork\n",
      "        new_field2 = data.ds.arr(np.zeros((nx, ny, nz)), \n",
      "                                 data[(ftype, basename)].units)\n",
      "        new_field2[1:-1, 1:-1, 1:-1] = new_field / weight_field\n",
      "        return new_field2\n",
      "\n"
     ]
    }
   ],
   "source": [
    "print(ds.field_info[\"gas\", \"averaged_density\"].get_source())"
   ]
  },
  {
   "cell_type": "code",
   "execution_count": 613,
   "metadata": {},
   "outputs": [
    {
     "data": {
      "text/latex": [
       "$0.91005415 \\; \\mathrm{}$"
      ],
      "text/plain": [
       "<Quantity 0.9100541492784664>"
      ]
     },
     "execution_count": 613,
     "metadata": {},
     "output_type": "execute_result"
    }
   ],
   "source": [
    "DMdensity = sp.quantities.weighted_average_quantity(('enzo', 'Dark_Matter_Density'), 'ones').in_units('g/(cm**3)') * u.g / (u.cm ** 3)\n",
    "volume = (4/3) * math.pi * (radius ** 3)\n",
    "DM = DMdensity * volume\n",
    "halo_mass / DM.to('Msun')"
   ]
  },
  {
   "cell_type": "code",
   "execution_count": 2,
   "metadata": {
    "collapsed": true
   },
   "outputs": [],
   "source": [
    "import pickle"
   ]
  },
  {
   "cell_type": "code",
   "execution_count": 59,
   "metadata": {},
   "outputs": [],
   "source": [
    "# ignore LG4 since not all are found\n",
    "\n",
    "# load newly calculated python halo lists\n",
    "with open('./LG4_2048_40pc/rd0030/calc_list_3000', 'rb') as infile:\n",
    "    calc_list4_0030 = pickle.load(infile)\n",
    "with open('./LG35_2048_40pc/rd0030/calc_list_3000', 'rb') as infile:\n",
    "    calc_list35_0030 = pickle.load(infile)\n",
    "with open('./LG38_2048_40pc/rd0030/calc_list_3000', 'rb') as infile:\n",
    "    calc_list38_0030 = pickle.load(infile)\n",
    "with open('./LG76_2048_40pc/rd0030/calc_list_3000', 'rb') as infile:\n",
    "    calc_list76_0030 = pickle.load(infile)\n",
    "with open('./LG89_2048_40pc/rd0030/calc_list_3000', 'rb') as infile:\n",
    "    calc_list89_0030 = pickle.load(infile)"
   ]
  },
  {
   "cell_type": "code",
   "execution_count": 60,
   "metadata": {},
   "outputs": [],
   "source": [
    "# create master list for LG35\n",
    "master_calc0030 = []\n",
    "for halo in calc_list4_0030:\n",
    "    master_calc0030.append(halo)\n",
    "for halo in calc_list35_0030:\n",
    "    master_calc0030.append(halo)\n",
    "for halo in calc_list38_0030:\n",
    "    master_calc0030.append(halo)\n",
    "for halo in calc_list76_0030:\n",
    "    master_calc0030.append(halo)\n",
    "for halo in calc_list89_0030:\n",
    "    master_calc0030.append(halo)"
   ]
  },
  {
   "cell_type": "code",
   "execution_count": 61,
   "metadata": {},
   "outputs": [
    {
     "data": {
      "text/plain": [
       "11585"
      ]
     },
     "execution_count": 61,
     "metadata": {},
     "output_type": "execute_result"
    }
   ],
   "source": [
    "len(master_calc0030)"
   ]
  },
  {
   "cell_type": "code",
   "execution_count": 62,
   "metadata": {
    "collapsed": true
   },
   "outputs": [],
   "source": [
    "# store master calc list\n",
    "with open('./master_calc0030', 'wb') as outfile:\n",
    "    pickle.dump(master_calc0030, outfile)"
   ]
  },
  {
   "cell_type": "code",
   "execution_count": 58,
   "metadata": {},
   "outputs": [
    {
     "data": {
      "text/plain": [
       "False"
      ]
     },
     "execution_count": 58,
     "metadata": {},
     "output_type": "execute_result"
    }
   ],
   "source": [
    "master_calc0070 == master_calc0090"
   ]
  },
  {
   "cell_type": "code",
   "execution_count": null,
   "metadata": {
    "collapsed": true
   },
   "outputs": [],
   "source": []
  },
  {
   "cell_type": "code",
   "execution_count": null,
   "metadata": {
    "collapsed": true
   },
   "outputs": [],
   "source": []
  },
  {
   "cell_type": "code",
   "execution_count": null,
   "metadata": {
    "collapsed": true
   },
   "outputs": [],
   "source": []
  },
  {
   "cell_type": "code",
   "execution_count": null,
   "metadata": {
    "collapsed": true
   },
   "outputs": [],
   "source": []
  },
  {
   "cell_type": "code",
   "execution_count": null,
   "metadata": {
    "collapsed": true
   },
   "outputs": [],
   "source": []
  },
  {
   "cell_type": "code",
   "execution_count": null,
   "metadata": {
    "collapsed": true
   },
   "outputs": [],
   "source": []
  },
  {
   "cell_type": "code",
   "execution_count": null,
   "metadata": {
    "collapsed": true
   },
   "outputs": [],
   "source": []
  },
  {
   "cell_type": "code",
   "execution_count": null,
   "metadata": {
    "collapsed": true
   },
   "outputs": [],
   "source": []
  }
 ],
 "metadata": {
  "kernelspec": {
   "display_name": "Python 3",
   "language": "python",
   "name": "python3"
  },
  "language_info": {
   "codemirror_mode": {
    "name": "ipython",
    "version": 3
   },
   "file_extension": ".py",
   "mimetype": "text/x-python",
   "name": "python",
   "nbconvert_exporter": "python",
   "pygments_lexer": "ipython3",
   "version": "3.6.1"
  }
 },
 "nbformat": 4,
 "nbformat_minor": 2
}
