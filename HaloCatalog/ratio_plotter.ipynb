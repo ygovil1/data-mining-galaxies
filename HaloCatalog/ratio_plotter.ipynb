{
 "cells": [
  {
   "cell_type": "code",
   "execution_count": 1,
   "metadata": {
    "collapsed": true
   },
   "outputs": [],
   "source": [
    "# import basic libraries\n",
    "import pickle\n",
    "import yt\n",
    "import numpy as np\n",
    "import matplotlib.pyplot as plt\n",
    "from math import log, log10\n",
    "from astropy import units as u\n",
    "\n",
    "# import halo catalogue func\n",
    "from yt.analysis_modules.halo_analysis.api import *"
   ]
  },
  {
   "cell_type": "code",
   "execution_count": 2,
   "metadata": {
    "collapsed": true
   },
   "outputs": [],
   "source": [
    "# import libraries - not sure what they do\n",
    "# used to ensure halo catalog loads properly\n",
    "import tempfile\n",
    "import shutil\n",
    "import os\n",
    "\n",
    "# Create temporary directory for storing files\n",
    "tmpdir = tempfile.mkdtemp()"
   ]
  },
  {
   "cell_type": "code",
   "execution_count": 4,
   "metadata": {},
   "outputs": [
    {
     "name": "stderr",
     "output_type": "stream",
     "text": [
      "yt : [INFO     ] 2017-06-28 14:08:17,121 Parameters: current_time              = 3.75573046409e+16\n",
      "yt : [INFO     ] 2017-06-28 14:08:17,124 Parameters: domain_dimensions         = [2 2 2]\n",
      "yt : [INFO     ] 2017-06-28 14:08:17,127 Parameters: domain_left_edge          = [ 0.  0.  0.]\n",
      "yt : [INFO     ] 2017-06-28 14:08:17,130 Parameters: domain_right_edge         = [  2.22535525e+25   2.22535525e+25   2.22535525e+25]\n",
      "yt : [INFO     ] 2017-06-28 14:08:17,133 Parameters: cosmological_simulation   = 1\n",
      "yt : [INFO     ] 2017-06-28 14:08:17,135 Parameters: current_redshift          = 4.99999998323\n",
      "yt : [INFO     ] 2017-06-28 14:08:17,137 Parameters: omega_lambda              = 0.712\n",
      "yt : [INFO     ] 2017-06-28 14:08:17,140 Parameters: omega_matter              = 0.288\n",
      "yt : [INFO     ] 2017-06-28 14:08:17,142 Parameters: hubble_constant           = 0.6933\n",
      "yt : [INFO     ] 2017-06-28 14:08:17,298 Parameters: current_time              = 158.01757996843\n",
      "yt : [INFO     ] 2017-06-28 14:08:17,301 Parameters: domain_dimensions         = [128 128 128]\n",
      "yt : [INFO     ] 2017-06-28 14:08:17,304 Parameters: domain_left_edge          = [ 0.  0.  0.]\n",
      "yt : [INFO     ] 2017-06-28 14:08:17,307 Parameters: domain_right_edge         = [ 1.  1.  1.]\n",
      "yt : [INFO     ] 2017-06-28 14:08:17,311 Parameters: cosmological_simulation   = 1\n",
      "yt : [INFO     ] 2017-06-28 14:08:17,313 Parameters: current_redshift          = 4.9999999832278\n",
      "yt : [INFO     ] 2017-06-28 14:08:17,315 Parameters: omega_lambda              = 0.712\n",
      "yt : [INFO     ] 2017-06-28 14:08:17,317 Parameters: omega_matter              = 0.288\n",
      "yt : [INFO     ] 2017-06-28 14:08:17,319 Parameters: hubble_constant           = 0.6933\n",
      "yt : [INFO     ] 2017-06-28 14:08:17,329 Allocating for 9.178e+03 particles (index particle type 'all')\n",
      "yt : [INFO     ] 2017-06-28 14:08:17,346 Identified 3.025e+03 octs\n"
     ]
    }
   ],
   "source": [
    "# load halo dataset\n",
    "halos_ds = yt.load('./LG4_2048_40pc/rd0070/halo_catalogs/catalog/catalog0070_thres160.0.h5')\n",
    "\n",
    "# load raw dataset\n",
    "ds = yt.load('~/../../tigress/cen/LG4_2048_40pc/RD0070/redshift0070')\n",
    "\n",
    "# Instantiate a catalog using those two paramter files\n",
    "hc = HaloCatalog(halos_ds=halos_ds, output_dir=os.path.join(tmpdir, 'halo_catalog'))\n",
    "hc.load()"
   ]
  },
  {
   "cell_type": "code",
   "execution_count": 5,
   "metadata": {
    "collapsed": true
   },
   "outputs": [],
   "source": [
    "# specify boundaries of zoom-in box\n",
    "# scaling factor multiplied by info from text file \n",
    "# units in cm\n",
    "scaling = 2.22535525e+25 # scales dataset coords to cm\n",
    "\n",
    "xmin = scaling*0.39319589 * u.cm\n",
    "ymin = scaling*0.42984636 * u.cm\n",
    "zmin = scaling*0.41706725 * u.cm\n",
    "\n",
    "xmax = scaling*0.56298484 * u.cm\n",
    "ymax = scaling*0.55089246 * u.cm\n",
    "zmax = scaling*0.56698254 * u.cm"
   ]
  },
  {
   "cell_type": "code",
   "execution_count": 7,
   "metadata": {},
   "outputs": [],
   "source": [
    "# --load ratio of stellar mass to halo mass\n",
    "# first list uses first output of TotalMass funct\n",
    "# second list uses second output\n",
    "\n",
    "with open('./LG4_2048_40pc/rd0070/ratio_list0070_1.txt', 'rb') as ratiofile1:\n",
    "    ratiolist1 = pickle.load(ratiofile1)\n",
    "    \n",
    "with open('./LG4_2048_40pc/rd0070/ratio_list0070_2.txt', 'rb') as ratiofile2:\n",
    "    ratiolist2 = pickle.load(ratiofile2)"
   ]
  },
  {
   "cell_type": "code",
   "execution_count": 28,
   "metadata": {},
   "outputs": [],
   "source": [
    "bins = np.geomspace(start=1e-4, stop=10**1.5, num=55)"
   ]
  },
  {
   "cell_type": "code",
   "execution_count": 125,
   "metadata": {},
   "outputs": [
    {
     "data": {
      "image/png": "[encoded data removed]",
      "text/plain": [
       "<matplotlib.figure.Figure at 0x2b15103a34e0>"
      ]
     },
     "metadata": {},
     "output_type": "display_data"
    }
   ],
   "source": [
    "# Two subplots\n",
    "fig = plt.figure(figsize = (8,6))\n",
    "ax1 = fig.add_subplot(111)\n",
    "\n",
    "# plot both ratio lists\n",
    "ratiolists = [ratiolist1, ratiolist2]\n",
    "ax1.hist(ratiolists, bins, histtype='step', fill = False)\n",
    "ax1.set_title(\"Mass Ratios (threshold = 160)\", size = 19)\n",
    "#ax1.axis([1e-4, 10**1.5, 0, 700])\n",
    "\n",
    "# create axis labels\n",
    "xlab = r\"$\\log_{10}\\frac{M_{*}}{M_h}$  $(Msun)$\"\n",
    "ylab = \"$PDF$\"\n",
    "ax1.set_xlabel(xlab, size = 16, labelpad= 0)\n",
    "ax1.set_ylabel(ylab, rotation = 90, size = 14, labelpad= 10)\n",
    "\n",
    "# create axis ticks \n",
    "ax1.set_xscale('log')\n",
    "#ax1.set_yscale('log')\n",
    "ax1.tick_params(axis='x', which='major', labelsize=12)\n",
    "ax1.tick_params(axis='y', which='major', labelsize=12)\n",
    "\n",
    "# add labels for each plot\n",
    "annotation1 = \"using total \\n gas mass\"\n",
    "annotation2 = \"  using total\\nparticle mass\"\n",
    "ax1.text(1e-3, 450, annotation1, size = 12)\n",
    "ax1.text(1, 500, annotation2, size = 12)\n",
    "\n",
    "\n",
    "plt.show()\n",
    "\n",
    "#plt.savefig('./LG4_2048_40pc/rd0070/massratios.png', dpi = 300)"
   ]
  },
  {
   "cell_type": "code",
   "execution_count": 124,
   "metadata": {},
   "outputs": [],
   "source": [
    "# find log arrays for ratio lists\n",
    "log_ratio1 = np.log(ratiolist1) / log(10)\n",
    "log_ratio2 = np.log([value for value in ratiolist2 if value > 0]) / log(10)\n",
    "\n",
    "# find histogram parameters\n",
    "density1, bin_edges1 = np.histogram(log_ratio1, bins= np.linspace(-3.5, 0.4, 39))\n",
    "density2, bin_edges2 = np.histogram(log_ratio2, bins= np.linspace(-2.2, 1.1, 33))\n",
    "\n",
    "\n",
    "log_density1 = np.log(density1) / log(10)\n",
    "log_density2 = np.log(density2) / log(10)"
   ]
  },
  {
   "cell_type": "code",
   "execution_count": 161,
   "metadata": {},
   "outputs": [
    {
     "data": {
      "image/png": "[encoded data removed]",
      "text/plain": [
       "<matplotlib.figure.Figure at 0x2b15111b9160>"
      ]
     },
     "metadata": {},
     "output_type": "display_data"
    }
   ],
   "source": [
    "# specify figure size\n",
    "fig2 = plt.figure(figsize=(8,6))\n",
    "ax2 = fig2.add_subplot(111)\n",
    "\n",
    "# --determine line of best fit\n",
    "# reduce range of values to fit line\n",
    "bin_edges_fit1 = bin_edges1[8:-10]\n",
    "bin_edges_fit2 = bin_edges2[16:-4]\n",
    "log_density_fit1 = log_density1[7:-10]\n",
    "log_density_fit2 = log_density2[15:-4]\n",
    "# determine line\n",
    "par1 = np.polyfit(bin_edges_fit1, log_density_fit1, 1, full=True)\n",
    "par2 = np.polyfit(bin_edges_fit2, log_density_fit2, 1, full=True)\n",
    "slope1, intercept1 = par1[0][0], par1[0][1]\n",
    "slope2, intercept2 = par2[0][0], par2[0][1]\n",
    "\n",
    "# plot data and line\n",
    "bin_edges_red1 = bin_edges1[1:]\n",
    "bin_edges_red2 = bin_edges2[1:]\n",
    "ax2.scatter(bin_edges_red1, log_density1, color = 'blue')\n",
    "ax2.scatter(bin_edges_red2, log_density2, color = 'orange')\n",
    "ax2.plot(bin_edges_red1, slope1 * bin_edges_red1 + intercept1, color = 'red')\n",
    "ax2.plot(bin_edges_red2, slope2 * bin_edges_red2 + intercept2, color = 'red')\n",
    "ax2.set_title(\"Mass Ratio (threshold = 160)\", size = 19)\n",
    "\n",
    "# create axis labels\n",
    "xlab = \"$\\log_{10}M_h}$  $(Msun)$\"\n",
    "ylab = r\"$\\frac{dN}{d\\log_{10}M_h}$\"+\"\\n\"+r\"$\\left(\\frac{\\#}{h^{-3}Mpc^3}\\right)$\"\n",
    "ax2.set_xlabel(xlab, size = 14, labelpad= 0)\n",
    "ax2.set_ylabel(ylab, rotation = 0, size = 18, labelpad= 40)\n",
    "\n",
    "# create axis ticks \n",
    "ax2.set_yscale('linear')\n",
    "ax2.tick_params(axis='x', which='major', labelsize=12)\n",
    "ax2.tick_params(axis='y', which='major', labelsize=12)\n",
    "\n",
    "# add slope and intercept\n",
    "# annotation = \"$a = {:1.3f}$ \\n$b = {:1.3f}$\".format(slope, intercept)\n",
    "# plt.text(9.5, 1.5, annotation, size = 12)\n",
    "\n",
    "#show and save\n",
    "plt.show()"
   ]
  },
  {
   "cell_type": "code",
   "execution_count": 156,
   "metadata": {},
   "outputs": [
    {
     "name": "stdout",
     "output_type": "stream",
     "text": [
      "27\n"
     ]
    },
    {
     "data": {
      "text/plain": [
       "27"
      ]
     },
     "execution_count": 156,
     "metadata": {},
     "output_type": "execute_result"
    }
   ],
   "source": [
    "print(bin_edges1[8:-4].size)\n",
    "log_density1[7:-4].size"
   ]
  },
  {
   "cell_type": "code",
   "execution_count": null,
   "metadata": {
    "collapsed": true
   },
   "outputs": [],
   "source": []
  }
 ],
 "metadata": {
  "kernelspec": {
   "display_name": "Python 3",
   "language": "python",
   "name": "python3"
  },
  "language_info": {
   "codemirror_mode": {
    "name": "ipython",
    "version": 3
   },
   "file_extension": ".py",
   "mimetype": "text/x-python",
   "name": "python",
   "nbconvert_exporter": "python",
   "pygments_lexer": "ipython3",
   "version": "3.6.1"
  }
 },
 "nbformat": 4,
 "nbformat_minor": 2
}
