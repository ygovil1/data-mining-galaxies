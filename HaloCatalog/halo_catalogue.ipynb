{
 "cells": [
  {
   "cell_type": "code",
   "execution_count": 15,
   "metadata": {
    "collapsed": true
   },
   "outputs": [],
   "source": [
    "# import basic libraries\n",
    "import yt\n",
    "import numpy as np\n",
    "import matplotlib.pyplot as plt"
   ]
  },
  {
   "cell_type": "code",
   "execution_count": 16,
   "metadata": {
    "collapsed": true
   },
   "outputs": [],
   "source": [
    "# import halo catalogue func\n",
    "from yt.analysis_modules.halo_analysis.api import HaloCatalog\n",
    "from yt.analysis_modules.halo_finding.halo_objects import HaloFinder"
   ]
  },
  {
   "cell_type": "code",
   "execution_count": 17,
   "metadata": {},
   "outputs": [
    {
     "name": "stderr",
     "output_type": "stream",
     "text": [
      "yt : [INFO     ] 2017-06-20 11:54:44,581 Parameters: current_time              = 289.00812478676\n",
      "yt : [INFO     ] 2017-06-20 11:54:44,583 Parameters: domain_dimensions         = [128 128 128]\n",
      "yt : [INFO     ] 2017-06-20 11:54:44,586 Parameters: domain_left_edge          = [ 0.  0.  0.]\n",
      "yt : [INFO     ] 2017-06-20 11:54:44,590 Parameters: domain_right_edge         = [ 1.  1.  1.]\n",
      "yt : [INFO     ] 2017-06-20 11:54:44,593 Parameters: cosmological_simulation   = 1\n",
      "yt : [INFO     ] 2017-06-20 11:54:44,595 Parameters: current_redshift          = 2.9999999665957\n",
      "yt : [INFO     ] 2017-06-20 11:54:44,597 Parameters: omega_lambda              = 0.712\n",
      "yt : [INFO     ] 2017-06-20 11:54:44,599 Parameters: omega_matter              = 0.288\n",
      "yt : [INFO     ] 2017-06-20 11:54:44,601 Parameters: hubble_constant           = 0.6933\n"
     ]
    }
   ],
   "source": [
    "# create dataset\n",
    "ds = yt.load('~/../../tigress/cen/LG4_2048_40pc/redshift0110')"
   ]
  },
  {
   "cell_type": "code",
   "execution_count": 18,
   "metadata": {},
   "outputs": [
    {
     "name": "stderr",
     "output_type": "stream",
     "text": [
      "Parsing Hierarchy : 100%|██████████| 42852/42852 [00:05<00:00, 7215.90it/s]\n",
      "yt : [INFO     ] 2017-06-20 11:54:54,594 Gathering a field list (this may take a moment.)\n"
     ]
    },
    {
     "name": "stdout",
     "output_type": "stream",
     "text": [
      "level\t# grids\t       # cells\t     # cells^3\n",
      "----------------------------------------------\n",
      "  0\t   256\t       2097152\t           128\n",
      "  1\t    60\t        547304\t            82\n",
      "  2\t   187\t       2071552\t           128\n",
      "  3\t   898\t       9903616\t           215\n",
      "  4\t  5193\t      55377920\t           382\n",
      "  5\t  8289\t      45133032\t           357\n",
      "  6\t  8629\t      35118592\t           328\n",
      "  7\t  7945\t      24049360\t           289\n",
      "  8\t  5709\t      13194480\t           237\n",
      "  9\t  2180\t       6613960\t           188\n",
      " 10\t  1412\t       7150792\t           193\n",
      " 11\t  2094\t      11406136\t           226\n",
      "----------------------------------------------\n",
      "   \t 42852\t     212663896\n",
      "\n",
      "\n",
      "t = 2.89008125e+02 = 6.86908772e+16 s = 2.17668255e+09 years\n",
      "\n",
      "Smallest Cell:\n",
      "\tWidth: 4.127e-05 Mpc\n",
      "\tWidth: 4.127e+01 pc\n",
      "\tWidth: 8.512e+06 AU\n",
      "\tWidth: 1.273e+20 cm\n"
     ]
    }
   ],
   "source": [
    "ds.print_stats()"
   ]
  },
  {
   "cell_type": "code",
   "execution_count": 5,
   "metadata": {
    "scrolled": false
   },
   "outputs": [
    {
     "data": {
      "text/plain": [
       "[('all', 'creation_time'),\n",
       " ('all', 'dynamical_time'),\n",
       " ('all', 'initial_mass'),\n",
       " ('all', 'metallicity_fraction'),\n",
       " ('all', 'particle_index'),\n",
       " ('all', 'particle_mass'),\n",
       " ('all', 'particle_position_x'),\n",
       " ('all', 'particle_position_y'),\n",
       " ('all', 'particle_position_z'),\n",
       " ('all', 'particle_type'),\n",
       " ('all', 'particle_velocity_x'),\n",
       " ('all', 'particle_velocity_y'),\n",
       " ('all', 'particle_velocity_z'),\n",
       " ('all', 'typeia_fraction'),\n",
       " ('enzo', 'Dark_Matter_Density'),\n",
       " ('enzo', 'Density'),\n",
       " ('enzo', 'Electron_Density'),\n",
       " ('enzo', 'H2II_Density'),\n",
       " ('enzo', 'H2I_Density'),\n",
       " ('enzo', 'HII_Density'),\n",
       " ('enzo', 'HI_Density'),\n",
       " ('enzo', 'HM_Density'),\n",
       " ('enzo', 'HeIII_Density'),\n",
       " ('enzo', 'HeII_Density'),\n",
       " ('enzo', 'HeI_Density'),\n",
       " ('enzo', 'Metal_Density'),\n",
       " ('enzo', 'Temperature'),\n",
       " ('enzo', 'TotalEnergy'),\n",
       " ('enzo', 'x-velocity'),\n",
       " ('enzo', 'y-velocity'),\n",
       " ('enzo', 'z-velocity'),\n",
       " ('io', 'creation_time'),\n",
       " ('io', 'dynamical_time'),\n",
       " ('io', 'initial_mass'),\n",
       " ('io', 'metallicity_fraction'),\n",
       " ('io', 'particle_index'),\n",
       " ('io', 'particle_mass'),\n",
       " ('io', 'particle_position_x'),\n",
       " ('io', 'particle_position_y'),\n",
       " ('io', 'particle_position_z'),\n",
       " ('io', 'particle_type'),\n",
       " ('io', 'particle_velocity_x'),\n",
       " ('io', 'particle_velocity_y'),\n",
       " ('io', 'particle_velocity_z'),\n",
       " ('io', 'typeia_fraction')]"
      ]
     },
     "execution_count": 5,
     "metadata": {},
     "output_type": "execute_result"
    }
   ],
   "source": [
    "ds.field_list"
   ]
  },
  {
   "cell_type": "code",
   "execution_count": null,
   "metadata": {
    "collapsed": true
   },
   "outputs": [],
   "source": [
    "# specify parameters for halo finder\n",
    "finder_pars = {'threshold': 160., 'dm_only':False, 'ptype':'io', 'padding' : 0.02}"
   ]
  },
  {
   "cell_type": "code",
   "execution_count": null,
   "metadata": {},
   "outputs": [
    {
     "name": "stderr",
     "output_type": "stream",
     "text": [
      "yt : [INFO     ] 2017-06-20 12:09:42,439 Initializing HOP\n",
      "yt : [INFO     ] 2017-06-20 14:00:20,528 Parsing outputs\n"
     ]
    }
   ],
   "source": [
    "# create halo catalogue\n",
    "hc = HaloCatalog(finder_kwargs=finder_pars, data_ds=ds, finder_method='hop', output_dir='/tigress/ygovil/Halos/')\n",
    "hc.create()"
   ]
  },
  {
   "cell_type": "code",
   "execution_count": null,
   "metadata": {
    "collapsed": true
   },
   "outputs": [],
   "source": []
  }
 ],
 "metadata": {
  "kernelspec": {
   "display_name": "Python 3",
   "language": "python",
   "name": "python3"
  }
 },
 "nbformat": 4,
 "nbformat_minor": 2
}
