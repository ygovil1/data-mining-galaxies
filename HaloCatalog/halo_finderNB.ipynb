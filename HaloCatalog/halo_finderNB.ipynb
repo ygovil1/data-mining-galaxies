{
 "cells": [
  {
   "cell_type": "code",
   "execution_count": 3,
   "metadata": {
    "collapsed": true
   },
   "outputs": [],
   "source": [
    "# import basic libraries\n",
    "import yt\n",
    "import numpy as np\n",
    "import matplotlib.pyplot as plt"
   ]
  },
  {
   "cell_type": "code",
   "execution_count": 4,
   "metadata": {
    "collapsed": true
   },
   "outputs": [],
   "source": [
    "# import halo catalogue func\n",
    "from yt.analysis_modules.halo_analysis.api import HaloCatalog\n",
    "from yt.analysis_modules.halo_finding.halo_objects import HOPHaloFinder"
   ]
  },
  {
   "cell_type": "code",
   "execution_count": 6,
   "metadata": {},
   "outputs": [
    {
     "name": "stderr",
     "output_type": "stream",
     "text": [
      "yt : [INFO     ] 2017-06-21 14:52:36,092 Parameters: current_time              = 158.01757996843\n",
      "yt : [INFO     ] 2017-06-21 14:52:36,095 Parameters: domain_dimensions         = [128 128 128]\n",
      "yt : [INFO     ] 2017-06-21 14:52:36,098 Parameters: domain_left_edge          = [ 0.  0.  0.]\n",
      "yt : [INFO     ] 2017-06-21 14:52:36,101 Parameters: domain_right_edge         = [ 1.  1.  1.]\n",
      "yt : [INFO     ] 2017-06-21 14:52:36,103 Parameters: cosmological_simulation   = 1\n",
      "yt : [INFO     ] 2017-06-21 14:52:36,105 Parameters: current_redshift          = 4.9999999832278\n",
      "yt : [INFO     ] 2017-06-21 14:52:36,107 Parameters: omega_lambda              = 0.712\n",
      "yt : [INFO     ] 2017-06-21 14:52:36,108 Parameters: omega_matter              = 0.288\n",
      "yt : [INFO     ] 2017-06-21 14:52:36,110 Parameters: hubble_constant           = 0.6933\n"
     ]
    }
   ],
   "source": [
    "# create dataset\n",
    "ds = yt.load('~/../../tigress/cen/LG4_2048_40pc/RD0070/redshift0070')"
   ]
  },
  {
   "cell_type": "code",
   "execution_count": 7,
   "metadata": {},
   "outputs": [
    {
     "name": "stderr",
     "output_type": "stream",
     "text": [
      "Parsing Hierarchy : 100%|██████████| 44216/44216 [00:03<00:00, 12452.04it/s]\n",
      "yt : [INFO     ] 2017-06-21 14:52:43,955 Gathering a field list (this may take a moment.)\n"
     ]
    },
    {
     "name": "stdout",
     "output_type": "stream",
     "text": [
      "level\t# grids\t       # cells\t     # cells^3\n",
      "----------------------------------------------\n",
      "  0\t   256\t       2097152\t           128\n",
      "  1\t    60\t        547304\t            82\n",
      "  2\t   187\t       2071552\t           128\n",
      "  3\t   898\t       9903616\t           215\n",
      "  4\t  5193\t      55377920\t           382\n",
      "  5\t 11014\t      58419496\t           389\n",
      "  6\t 10277\t      39511880\t           341\n",
      "  7\t  7393\t      20631864\t           275\n",
      "  8\t  4828\t      10668936\t           221\n",
      "  9\t  1558\t       5499888\t           177\n",
      " 10\t  1220\t       5897424\t           181\n",
      " 11\t  1332\t       7614472\t           197\n",
      "----------------------------------------------\n",
      "   \t 44216\t     218241504\n",
      "\n",
      "\n",
      "t = 1.58017580e+02 = 3.75573046e+16 s = 1.19011917e+09 years\n",
      "\n",
      "Smallest Cell:\n",
      "\tWidth: 2.751e-05 Mpc\n",
      "\tWidth: 2.751e+01 pc\n",
      "\tWidth: 5.675e+06 AU\n",
      "\tWidth: 8.489e+19 cm\n"
     ]
    }
   ],
   "source": [
    "ds.print_stats()"
   ]
  },
  {
   "cell_type": "code",
   "execution_count": 8,
   "metadata": {},
   "outputs": [
    {
     "data": {
      "text/plain": [
       "[('all', 'creation_time'),\n",
       " ('all', 'dynamical_time'),\n",
       " ('all', 'initial_mass'),\n",
       " ('all', 'metallicity_fraction'),\n",
       " ('all', 'particle_index'),\n",
       " ('all', 'particle_mass'),\n",
       " ('all', 'particle_position_x'),\n",
       " ('all', 'particle_position_y'),\n",
       " ('all', 'particle_position_z'),\n",
       " ('all', 'particle_type'),\n",
       " ('all', 'particle_velocity_x'),\n",
       " ('all', 'particle_velocity_y'),\n",
       " ('all', 'particle_velocity_z'),\n",
       " ('all', 'typeia_fraction'),\n",
       " ('enzo', 'Dark_Matter_Density'),\n",
       " ('enzo', 'Density'),\n",
       " ('enzo', 'Electron_Density'),\n",
       " ('enzo', 'H2II_Density'),\n",
       " ('enzo', 'H2I_Density'),\n",
       " ('enzo', 'HII_Density'),\n",
       " ('enzo', 'HI_Density'),\n",
       " ('enzo', 'HM_Density'),\n",
       " ('enzo', 'HeIII_Density'),\n",
       " ('enzo', 'HeII_Density'),\n",
       " ('enzo', 'HeI_Density'),\n",
       " ('enzo', 'Metal_Density'),\n",
       " ('enzo', 'Temperature'),\n",
       " ('enzo', 'TotalEnergy'),\n",
       " ('enzo', 'x-velocity'),\n",
       " ('enzo', 'y-velocity'),\n",
       " ('enzo', 'z-velocity'),\n",
       " ('io', 'creation_time'),\n",
       " ('io', 'dynamical_time'),\n",
       " ('io', 'initial_mass'),\n",
       " ('io', 'metallicity_fraction'),\n",
       " ('io', 'particle_index'),\n",
       " ('io', 'particle_mass'),\n",
       " ('io', 'particle_position_x'),\n",
       " ('io', 'particle_position_y'),\n",
       " ('io', 'particle_position_z'),\n",
       " ('io', 'particle_type'),\n",
       " ('io', 'particle_velocity_x'),\n",
       " ('io', 'particle_velocity_y'),\n",
       " ('io', 'particle_velocity_z'),\n",
       " ('io', 'typeia_fraction')]"
      ]
     },
     "execution_count": 8,
     "metadata": {},
     "output_type": "execute_result"
    }
   ],
   "source": [
    "ds.field_list"
   ]
  },
  {
   "cell_type": "code",
   "execution_count": 9,
   "metadata": {},
   "outputs": [
    {
     "name": "stdout",
     "output_type": "stream",
     "text": [
      "[ 7211.88520695  7211.88520695  7211.88520695] kpc\n",
      "{'io': 70076880}\n"
     ]
    }
   ],
   "source": [
    "print(ds.domain_width.in_units('kpc'))\n",
    "print(ds.particle_type_counts)"
   ]
  },
  {
   "cell_type": "code",
   "execution_count": 10,
   "metadata": {
    "collapsed": true
   },
   "outputs": [],
   "source": [
    "# specify parameters for halo finder\n",
    "finder_pars = {'threshold': 160., 'dm_only':True, 'padding' : 0.02}"
   ]
  },
  {
   "cell_type": "code",
   "execution_count": 11,
   "metadata": {},
   "outputs": [
    {
     "name": "stderr",
     "output_type": "stream",
     "text": [
      "yt : [WARNING  ] 2017-06-21 14:53:42,212 dm_only is deprecated.  Use ptype to specify a particle type, instead.\n",
      "yt : [INFO     ] 2017-06-21 15:23:05,881 Initializing HOP\n",
      "yt : [INFO     ] 2017-06-21 17:10:12,514 Parsing outputs\n"
     ]
    }
   ],
   "source": [
    "hf = HOPHaloFinder(ds)"
   ]
  },
  {
   "cell_type": "code",
   "execution_count": null,
   "metadata": {
    "collapsed": true
   },
   "outputs": [],
   "source": []
  }
 ],
 "metadata": {
  "kernelspec": {
   "display_name": "Python 3",
   "language": "python",
   "name": "python3"
  },
  "language_info": {
   "codemirror_mode": {
    "name": "ipython",
    "version": 3
   },
   "file_extension": ".py",
   "mimetype": "text/x-python",
   "name": "python",
   "nbconvert_exporter": "python",
   "pygments_lexer": "ipython3",
   "version": "3.6.1"
  }
 },
 "nbformat": 4,
 "nbformat_minor": 2
}
